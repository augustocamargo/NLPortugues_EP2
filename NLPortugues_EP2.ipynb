{
 "cells": [
  {
   "cell_type": "code",
   "execution_count": 82,
   "metadata": {},
   "outputs": [
    {
     "name": "stderr",
     "output_type": "stream",
     "text": [
      "[nltk_data] Downloading package stopwords to\n",
      "[nltk_data]     C:\\Users\\sp_au\\AppData\\Roaming\\nltk_data...\n",
      "[nltk_data]   Package stopwords is already up-to-date!\n",
      "[nltk_data] Downloading package punkt to\n",
      "[nltk_data]     C:\\Users\\sp_au\\AppData\\Roaming\\nltk_data...\n",
      "[nltk_data]   Package punkt is already up-to-date!\n"
     ]
    }
   ],
   "source": [
    "import tensorflow as tf\n",
    "from tensorflow import keras\n",
    "import numpy as np\n",
    "import pandas as pd\n",
    "import matplotlib.pyplot as plt\n",
    "from sklearn.model_selection import train_test_split\n",
    "from tensorflow.keras.layers.experimental.preprocessing import TextVectorization\n",
    "import nltk\n",
    "nltk.download('stopwords')\n",
    "stop_words = nltk.corpus.stopwords.words('portuguese')\n",
    "from nltk.stem import SnowballStemmer\n",
    "nltk.download('punkt')\n",
    "stemmer = SnowballStemmer('portuguese')\n",
    "import re\n",
    "from unidecode import unidecode\n",
    "from keras.regularizers import l2\n",
    "from gensim.models import KeyedVectors\n",
    "from tensorflow.keras import layers\n",
    "from tensorflow.keras.losses import categorical_crossentropy"
   ]
  },
  {
   "cell_type": "markdown",
   "metadata": {},
   "source": [
    "## Pipeline "
   ]
  },
  {
   "cell_type": "code",
   "execution_count": 29,
   "metadata": {},
   "outputs": [
    {
     "name": "stdout",
     "output_type": "stream",
     "text": [
      "<bound method NDFrame.head of        overall_rating                                        review_text\n",
      "0                   4  Estou contente com a compra entrega rápida o ú...\n",
      "1                   4  Por apenas R$1994.20,eu consegui comprar esse ...\n",
      "2                   4  SUPERA EM AGILIDADE E PRATICIDADE OUTRAS PANEL...\n",
      "3                   4  MEU FILHO AMOU! PARECE DE VERDADE COM TANTOS D...\n",
      "4                   5  A entrega foi no prazo, as americanas estão de...\n",
      "...               ...                                                ...\n",
      "49995               5  É com muito prazer que avalio esse produto! Si...\n",
      "49996               4  é uma bicicleta bonita e bonita, com o tempo v...\n",
      "49997               5  O produto chegou 8 dias antes do prazo e em pe...\n",
      "49998               2  O produto até chegou dentro do prazo, só que e...\n",
      "49999               5  Excelente! Superou minhas expectativas! Ótimo ...\n",
      "\n",
      "[50000 rows x 2 columns]>\n"
     ]
    }
   ],
   "source": [
    "# Base original da B2W, sem cortes + clean de overall_rating\n",
    "b2wCorpus = pd.read_csv(\"B2W-Reviews01.csv\",\";\",usecols=['review_text','overall_rating'],nrows=50000)\n",
    "\n",
    "# Filtro\n",
    "d = b2wCorpus.index[b2wCorpus[\"overall_rating\"] < 1].tolist()\n",
    "b2wCorpus=b2wCorpus.drop(b2wCorpus.index[d])\n",
    "d = b2wCorpus.index[b2wCorpus[\"overall_rating\"] > 5].tolist()\n",
    "b2wCorpus=b2wCorpus.drop(b2wCorpus.index[d])\n",
    "\n",
    "print(b2wCorpus.head)"
   ]
  },
  {
   "cell_type": "code",
   "execution_count": 30,
   "metadata": {},
   "outputs": [],
   "source": [
    "# Cleanning function\n",
    "text_cleaning_re = \"@\\S+|https?:\\S+|http?:\\S|[^A-Za-z0-9]+\"\n",
    "def preprocess(text, stem=False):\n",
    "  text = unidecode(text)\n",
    "  text = re.sub(text_cleaning_re, ' ', str(text).lower()).strip()\n",
    "  text = re.sub(\"\\d+\", \"\", text)\n",
    "  text = re.sub(r'(?:^| )\\w(?:$| )', ' ', text).strip()\n",
    "  tokens = []\n",
    "  for token in text.split():\n",
    "    if token not in stop_words:\n",
    "      if stem:\n",
    "        tokens.append(stemmer.stem(token))\n",
    "      else:\n",
    "        tokens.append(token)\n",
    "  return \" \".join(tokens)"
   ]
  },
  {
   "cell_type": "code",
   "execution_count": 31,
   "metadata": {},
   "outputs": [],
   "source": [
    "# Cleanning exec\n",
    "b2wCorpus.review_text = b2wCorpus.review_text.apply(lambda x: preprocess(x))"
   ]
  },
  {
   "cell_type": "code",
   "execution_count": 32,
   "metadata": {},
   "outputs": [
    {
     "name": "stdout",
     "output_type": "stream",
     "text": [
      "<bound method NDFrame.head of        overall_rating                                        review_text\n",
      "0                   4  contente compra entrega rapida unico problema ...\n",
      "1                   4        apenas consegui comprar lindo copo acrilico\n",
      "2                   4  supera agilidade praticidade outras panelas el...\n",
      "3                   4          filho amou parece verdade tantos detalhes\n",
      "4                   5  entrega prazo americanas estao parabens smart ...\n",
      "...               ...                                                ...\n",
      "49995               5  prazer avalio produto simplesmente maravilhoso...\n",
      "49996               4  bicicleta bonita bonita tempo veremos durabili...\n",
      "49997               5    produto chegou dias antes prazo perfeito estado\n",
      "49998               2  produto ate chegou dentro prazo so espero nunc...\n",
      "49999               5  excelente superou expectativas otimo desempenh...\n",
      "\n",
      "[50000 rows x 2 columns]>\n"
     ]
    }
   ],
   "source": [
    "print(b2wCorpus.head)"
   ]
  },
  {
   "cell_type": "code",
   "execution_count": 33,
   "metadata": {},
   "outputs": [
    {
     "data": {
      "text/plain": [
       "1     9538\n",
       "2     3179\n",
       "3     6121\n",
       "4    12529\n",
       "5    18633\n",
       "Name: overall_rating, dtype: int64"
      ]
     },
     "execution_count": 33,
     "metadata": {},
     "output_type": "execute_result"
    }
   ],
   "source": [
    "b2wCorpus.overall_rating .value_counts().sort_index()"
   ]
  },
  {
   "cell_type": "code",
   "execution_count": 34,
   "metadata": {},
   "outputs": [
    {
     "data": {
      "image/png": "[encoded data removed]",
      "text/plain": [
       "<Figure size 432x288 with 1 Axes>"
      ]
     },
     "metadata": {},
     "output_type": "display_data"
    },
    {
     "name": "stdout",
     "output_type": "stream",
     "text": [
      "49169\n"
     ]
    }
   ],
   "source": [
    "# histograma de palavras x qtd de linhas\n",
    "Words = [len(linha.split()) for linha in b2wCorpus[\"review_text\"] if len(linha.split()) <=60 ]\n",
    "plt.style.use('ggplot')\n",
    "plt.hist(Words, bins=[0,5,10,15,20,25,30,35,40,45,50,55,60])\n",
    "plt.show()\n",
    "print(len(Words))"
   ]
  },
  {
   "cell_type": "code",
   "execution_count": 35,
   "metadata": {},
   "outputs": [
    {
     "name": "stdout",
     "output_type": "stream",
     "text": [
      "<bound method NDFrame.head of        overall_rating                                        review_text\n",
      "0                   1  nao chegou tempo esprando issso to arrependido...\n",
      "1                   1  nao veio original vaio falsificado lacre ta ta...\n",
      "2                   1  semana instalado eletricista cairam enfeite la...\n",
      "3                   4  recurso utilizado personagem denzel washington...\n",
      "4                   5  gostamos fritadeira esperamos dure bastante po...\n",
      "...               ...                                                ...\n",
      "49995               5  entrega feita rapida nenhum estragado jogo per...\n",
      "49996               2  aparelho consegue medir humidade ar tao barato...\n",
      "49997               3  acordo especificacoes valor nao deve ser tao a...\n",
      "49998               5  produto qualidade adequado pratica atividades ...\n",
      "49999               3  produto bom porem nao boa impressao cara pois ...\n",
      "\n",
      "[50000 rows x 2 columns]>\n"
     ]
    }
   ],
   "source": [
    "# Partilha\n",
    "b2wCorpus = b2wCorpus.sample(frac=1).reset_index(drop=True)\n",
    "print(b2wCorpus.head)"
   ]
  },
  {
   "cell_type": "code",
   "execution_count": 36,
   "metadata": {},
   "outputs": [],
   "source": [
    "# Codifica\n",
    "N =  200001\n",
    "with open(\"cbow_s50.txt\", \"r\",encoding='utf-8') as file:\n",
    "    head = [next(file) for x in range(N)]\n",
    "\n",
    "head[0] = str(N-1)+ \" \" + \"50\"+ \"\\n\" # Conserta contagem de palavras\n",
    "with open(\"word2vec_200k.txt\", \"w\",encoding='utf-8') as file:\n",
    "    for line in head:\n",
    "        file.write(line)\n",
    "\n",
    "def vocaIndex(lista, stem=False):\n",
    "    for indice in range(len(lista)):\n",
    "        text=lista[indice].lower()\n",
    "        if text in model.vocab:\n",
    "             lista[indice] = model.vocab[text].index\n",
    "        else: \n",
    "             lista[indice] = '0'\n",
    "    return lista\n",
    "\n",
    "model = KeyedVectors.load_word2vec_format('word2vec_200k.txt')\n",
    "\n",
    "def codifica(text, stem=False):\n",
    "    tokens = nltk.word_tokenize(text)\n",
    "    tokens = vocaIndex(tokens)\n",
    "    return tokens\n",
    "\n",
    "b2wCorpus.review_text = b2wCorpus.review_text.apply(lambda x: codifica(x))"
   ]
  },
  {
   "cell_type": "code",
   "execution_count": 37,
   "metadata": {},
   "outputs": [],
   "source": [
    "b2wCorpus['ord'] = b2wCorpus.apply(lambda row: len(row.review_text), axis=1)"
   ]
  },
  {
   "cell_type": "code",
   "execution_count": 38,
   "metadata": {},
   "outputs": [
    {
     "data": {
      "text/plain": [
       "(50000, 3)"
      ]
     },
     "execution_count": 38,
     "metadata": {},
     "output_type": "execute_result"
    }
   ],
   "source": [
    "b2wCorpus.shape"
   ]
  },
  {
   "cell_type": "code",
   "execution_count": 39,
   "metadata": {},
   "outputs": [],
   "source": [
    "#b2wCorpus = b2wCorpus[b2wCorpus.ord != 0]\n",
    "b2wCorpus = b2wCorpus.drop(b2wCorpus[b2wCorpus.ord < 5].index)\n",
    "b2wCorpus = b2wCorpus.drop(b2wCorpus[b2wCorpus.ord > 50].index)"
   ]
  },
  {
   "cell_type": "code",
   "execution_count": 40,
   "metadata": {},
   "outputs": [],
   "source": [
    "b2wCorpus['overall_rating'] = b2wCorpus.overall_rating.apply(lambda x: x - 1)"
   ]
  },
  {
   "cell_type": "code",
   "execution_count": 41,
   "metadata": {},
   "outputs": [
    {
     "data": {
      "text/plain": [
       "(47628, 3)"
      ]
     },
     "execution_count": 41,
     "metadata": {},
     "output_type": "execute_result"
    }
   ],
   "source": [
    "b2wCorpus.shape"
   ]
  },
  {
   "cell_type": "code",
   "execution_count": 42,
   "metadata": {},
   "outputs": [],
   "source": [
    "b2wCorpus.reset_index(drop=True, inplace=True)"
   ]
  },
  {
   "cell_type": "code",
   "execution_count": 43,
   "metadata": {},
   "outputs": [
    {
     "data": {
      "text/html": [
       "<div>\n",
       "<style scoped>\n",
       "    .dataframe tbody tr th:only-of-type {\n",
       "        vertical-align: middle;\n",
       "    }\n",
       "\n",
       "    .dataframe tbody tr th {\n",
       "        vertical-align: top;\n",
       "    }\n",
       "\n",
       "    .dataframe thead th {\n",
       "        text-align: right;\n",
       "    }\n",
       "</style>\n",
       "<table border=\"1\" class=\"dataframe\">\n",
       "  <thead>\n",
       "    <tr style=\"text-align: right;\">\n",
       "      <th></th>\n",
       "      <th>overall_rating</th>\n",
       "      <th>review_text</th>\n",
       "      <th>ord</th>\n",
       "    </tr>\n",
       "  </thead>\n",
       "  <tbody>\n",
       "    <tr>\n",
       "      <th>0</th>\n",
       "      <td>0</td>\n",
       "      <td>[7804, 428, 104, 0, 199898, 1570, 18943, 290, ...</td>\n",
       "      <td>10</td>\n",
       "    </tr>\n",
       "    <tr>\n",
       "      <th>1</th>\n",
       "      <td>0</td>\n",
       "      <td>[7804, 930, 1100, 111044, 46145, 58187, 10883,...</td>\n",
       "      <td>13</td>\n",
       "    </tr>\n",
       "    <tr>\n",
       "      <th>2</th>\n",
       "      <td>3</td>\n",
       "      <td>[1469, 1336, 1140, 48141, 2177, 14596, 199606,...</td>\n",
       "      <td>49</td>\n",
       "    </tr>\n",
       "    <tr>\n",
       "      <th>3</th>\n",
       "      <td>4</td>\n",
       "      <td>[14578, 127381, 4526, 35622, 678, 117, 153099,...</td>\n",
       "      <td>9</td>\n",
       "    </tr>\n",
       "    <tr>\n",
       "      <th>4</th>\n",
       "      <td>2</td>\n",
       "      <td>[902, 226, 2697, 102, 9916, 307, 2648, 3384, 2...</td>\n",
       "      <td>22</td>\n",
       "    </tr>\n",
       "  </tbody>\n",
       "</table>\n",
       "</div>"
      ],
      "text/plain": [
       "   overall_rating                                        review_text  ord\n",
       "0               0  [7804, 428, 104, 0, 199898, 1570, 18943, 290, ...   10\n",
       "1               0  [7804, 930, 1100, 111044, 46145, 58187, 10883,...   13\n",
       "2               3  [1469, 1336, 1140, 48141, 2177, 14596, 199606,...   49\n",
       "3               4  [14578, 127381, 4526, 35622, 678, 117, 153099,...    9\n",
       "4               2  [902, 226, 2697, 102, 9916, 307, 2648, 3384, 2...   22"
      ]
     },
     "execution_count": 43,
     "metadata": {},
     "output_type": "execute_result"
    }
   ],
   "source": [
    "b2wCorpus.head()"
   ]
  },
  {
   "cell_type": "code",
   "execution_count": 44,
   "metadata": {},
   "outputs": [
    {
     "data": {
      "text/plain": [
       "pandas.core.series.Series"
      ]
     },
     "execution_count": 44,
     "metadata": {},
     "output_type": "execute_result"
    }
   ],
   "source": [
    "type(b2wCorpus.review_text)"
   ]
  },
  {
   "cell_type": "code",
   "execution_count": 45,
   "metadata": {},
   "outputs": [],
   "source": [
    "#b2wCorpus.review_text.str.rjust(width=50, fillchar='0')\n",
    "#np.reshape(y_train,(-1))\n",
    "\n",
    "b2wCorpus.review_text = keras.preprocessing.sequence.pad_sequences(b2wCorpus.apply(lambda row: np.reshape(row.review_text,(-1)), axis=1), maxlen=50, padding='post').tolist()"
   ]
  },
  {
   "cell_type": "code",
   "execution_count": 46,
   "metadata": {},
   "outputs": [
    {
     "data": {
      "text/html": [
       "<div>\n",
       "<style scoped>\n",
       "    .dataframe tbody tr th:only-of-type {\n",
       "        vertical-align: middle;\n",
       "    }\n",
       "\n",
       "    .dataframe tbody tr th {\n",
       "        vertical-align: top;\n",
       "    }\n",
       "\n",
       "    .dataframe thead th {\n",
       "        text-align: right;\n",
       "    }\n",
       "</style>\n",
       "<table border=\"1\" class=\"dataframe\">\n",
       "  <thead>\n",
       "    <tr style=\"text-align: right;\">\n",
       "      <th></th>\n",
       "      <th>overall_rating</th>\n",
       "      <th>review_text</th>\n",
       "      <th>ord</th>\n",
       "    </tr>\n",
       "  </thead>\n",
       "  <tbody>\n",
       "    <tr>\n",
       "      <th>0</th>\n",
       "      <td>0</td>\n",
       "      <td>[7804, 428, 104, 0, 199898, 1570, 18943, 290, ...</td>\n",
       "      <td>10</td>\n",
       "    </tr>\n",
       "    <tr>\n",
       "      <th>1</th>\n",
       "      <td>0</td>\n",
       "      <td>[7804, 930, 1100, 111044, 46145, 58187, 10883,...</td>\n",
       "      <td>13</td>\n",
       "    </tr>\n",
       "    <tr>\n",
       "      <th>2</th>\n",
       "      <td>3</td>\n",
       "      <td>[1469, 1336, 1140, 48141, 2177, 14596, 199606,...</td>\n",
       "      <td>49</td>\n",
       "    </tr>\n",
       "    <tr>\n",
       "      <th>3</th>\n",
       "      <td>4</td>\n",
       "      <td>[14578, 127381, 4526, 35622, 678, 117, 153099,...</td>\n",
       "      <td>9</td>\n",
       "    </tr>\n",
       "    <tr>\n",
       "      <th>4</th>\n",
       "      <td>2</td>\n",
       "      <td>[902, 226, 2697, 102, 9916, 307, 2648, 3384, 2...</td>\n",
       "      <td>22</td>\n",
       "    </tr>\n",
       "  </tbody>\n",
       "</table>\n",
       "</div>"
      ],
      "text/plain": [
       "   overall_rating                                        review_text  ord\n",
       "0               0  [7804, 428, 104, 0, 199898, 1570, 18943, 290, ...   10\n",
       "1               0  [7804, 930, 1100, 111044, 46145, 58187, 10883,...   13\n",
       "2               3  [1469, 1336, 1140, 48141, 2177, 14596, 199606,...   49\n",
       "3               4  [14578, 127381, 4526, 35622, 678, 117, 153099,...    9\n",
       "4               2  [902, 226, 2697, 102, 9916, 307, 2648, 3384, 2...   22"
      ]
     },
     "execution_count": 46,
     "metadata": {},
     "output_type": "execute_result"
    }
   ],
   "source": [
    "b2wCorpus.head()"
   ]
  },
  {
   "cell_type": "code",
   "execution_count": 47,
   "metadata": {},
   "outputs": [],
   "source": [
    "# Função de split\n",
    "def train_validate_test_split(df, train_percent=.65, validate_percent=.1, seed=42):\n",
    "    np.random.seed(seed)\n",
    "    perm = np.random.permutation(df.index)\n",
    "    m = len(df.index)\n",
    "    train_end = int(train_percent * m)\n",
    "    validate_end = int(validate_percent * m) + train_end\n",
    "    train = df.iloc[perm[:train_end]]\n",
    "    validate = df.iloc[perm[train_end:validate_end]]\n",
    "    test = df.iloc[perm[validate_end:]]\n",
    "    return train, validate, test"
   ]
  },
  {
   "cell_type": "code",
   "execution_count": 48,
   "metadata": {},
   "outputs": [],
   "source": [
    "b2wCorpusTrain, b2wCorpusValidate, b2wCorpusTest = train_validate_test_split(b2wCorpus)"
   ]
  },
  {
   "cell_type": "code",
   "execution_count": 49,
   "metadata": {},
   "outputs": [
    {
     "data": {
      "text/html": [
       "<div>\n",
       "<style scoped>\n",
       "    .dataframe tbody tr th:only-of-type {\n",
       "        vertical-align: middle;\n",
       "    }\n",
       "\n",
       "    .dataframe tbody tr th {\n",
       "        vertical-align: top;\n",
       "    }\n",
       "\n",
       "    .dataframe thead th {\n",
       "        text-align: right;\n",
       "    }\n",
       "</style>\n",
       "<table border=\"1\" class=\"dataframe\">\n",
       "  <thead>\n",
       "    <tr style=\"text-align: right;\">\n",
       "      <th></th>\n",
       "      <th>overall_rating</th>\n",
       "      <th>review_text</th>\n",
       "      <th>ord</th>\n",
       "    </tr>\n",
       "  </thead>\n",
       "  <tbody>\n",
       "    <tr>\n",
       "      <th>38029</th>\n",
       "      <td>2</td>\n",
       "      <td>[44608, 12709, 5137, 17299, 784, 106, 4197, 51...</td>\n",
       "      <td>50</td>\n",
       "    </tr>\n",
       "    <tr>\n",
       "      <th>45895</th>\n",
       "      <td>0</td>\n",
       "      <td>[13478, 31505, 106, 10071, 9968, 1705, 1812, 1...</td>\n",
       "      <td>50</td>\n",
       "    </tr>\n",
       "    <tr>\n",
       "      <th>31686</th>\n",
       "      <td>0</td>\n",
       "      <td>[239, 362, 612, 902, 9735, 5437, 169, 1806, 13...</td>\n",
       "      <td>50</td>\n",
       "    </tr>\n",
       "    <tr>\n",
       "      <th>3369</th>\n",
       "      <td>0</td>\n",
       "      <td>[45850, 10570, 0, 8567, 4339, 17715, 14762, 86...</td>\n",
       "      <td>50</td>\n",
       "    </tr>\n",
       "    <tr>\n",
       "      <th>19700</th>\n",
       "      <td>0</td>\n",
       "      <td>[7804, 41933, 0, 18874, 110, 3093, 902, 8201, ...</td>\n",
       "      <td>50</td>\n",
       "    </tr>\n",
       "  </tbody>\n",
       "</table>\n",
       "</div>"
      ],
      "text/plain": [
       "       overall_rating                                        review_text  ord\n",
       "38029               2  [44608, 12709, 5137, 17299, 784, 106, 4197, 51...   50\n",
       "45895               0  [13478, 31505, 106, 10071, 9968, 1705, 1812, 1...   50\n",
       "31686               0  [239, 362, 612, 902, 9735, 5437, 169, 1806, 13...   50\n",
       "3369                0  [45850, 10570, 0, 8567, 4339, 17715, 14762, 86...   50\n",
       "19700               0  [7804, 41933, 0, 18874, 110, 3093, 902, 8201, ...   50"
      ]
     },
     "execution_count": 49,
     "metadata": {},
     "output_type": "execute_result"
    }
   ],
   "source": [
    "b2wCorpusTrain=b2wCorpusTrain.reindex(b2wCorpusTrain['ord'].sort_values(ascending=False).index)\n",
    "b2wCorpusTrain.head()"
   ]
  },
  {
   "cell_type": "code",
   "execution_count": 50,
   "metadata": {},
   "outputs": [
    {
     "data": {
      "text/plain": [
       "<bound method NDFrame.head of        overall_rating                                        review_text  ord\n",
       "29811               4  [13218, 930, 88, 0, 9697, 8837, 0, 902, 1229, ...   50\n",
       "43720               0  [26382, 20907, 5547, 30029, 6689, 293, 61, 252...   50\n",
       "36693               1  [930, 10185, 2420, 502, 39, 548, 7968, 930, 37...   50\n",
       "16575               0  [902, 0, 7804, 2901, 0, 5841, 1349, 134819, 94...   50\n",
       "34877               1  [902, 44379, 0, 15035, 38352, 330, 109923, 281...   50\n",
       "...               ...                                                ...  ...\n",
       "33274               4  [2104, 902, 532, 51890, 22522, 0, 0, 0, 0, 0, ...    5\n",
       "40639               3  [20465, 3690, 11352, 54465, 34671, 0, 0, 0, 0,...    5\n",
       "6966                2  [6376, 902, 2697, 127, 0, 0, 0, 0, 0, 0, 0, 0,...    5\n",
       "2452                3  [6376, 11759, 3690, 22522, 88, 0, 0, 0, 0, 0, ...    5\n",
       "40468               2  [566, 1957, 502, 3851, 75489, 0, 0, 0, 0, 0, 0...    5\n",
       "\n",
       "[4762 rows x 3 columns]>"
      ]
     },
     "execution_count": 50,
     "metadata": {},
     "output_type": "execute_result"
    }
   ],
   "source": [
    "b2wCorpusValidate=b2wCorpusValidate.reindex(b2wCorpusValidate['ord'].sort_values(ascending=False).index)\n",
    "b2wCorpusValidate.head"
   ]
  },
  {
   "cell_type": "code",
   "execution_count": 51,
   "metadata": {},
   "outputs": [
    {
     "data": {
      "text/plain": [
       "<bound method NDFrame.head of        overall_rating                                        review_text  ord\n",
       "21300               4  [1664, 728, 304, 2759, 345, 297, 2499, 1761, 9...   50\n",
       "34341               0  [9735, 12689, 86, 20820, 2499, 1761, 141, 86, ...   50\n",
       "29978               2  [502, 3841, 709, 39, 18982, 167, 265, 587, 153...   50\n",
       "24557               1  [20017, 0, 0, 10797, 7437, 10761, 7555, 96, 0,...   50\n",
       "31406               0  [902, 428, 321, 566, 17382, 930, 902, 2110, 10...   50\n",
       "...               ...                                                ...  ...\n",
       "40776               3  [962, 600, 122, 321, 12153, 0, 0, 0, 0, 0, 0, ...    5\n",
       "39696               1  [3699, 7804, 175685, 3448, 0, 0, 0, 0, 0, 0, 0...    5\n",
       "26849               2  [902, 428, 566, 8512, 0, 0, 0, 0, 0, 0, 0, 0, ...    5\n",
       "5569                4  [2104, 902, 3615, 532, 11816, 0, 0, 0, 0, 0, 0...    5\n",
       "15008               3  [902, 7126, 70, 187, 2898, 0, 0, 0, 0, 0, 0, 0...    5\n",
       "\n",
       "[11908 rows x 3 columns]>"
      ]
     },
     "execution_count": 51,
     "metadata": {},
     "output_type": "execute_result"
    }
   ],
   "source": [
    "b2wCorpusTest=b2wCorpusTest.reindex(b2wCorpusTest['ord'].sort_values(ascending=False).index)\n",
    "b2wCorpusTest.head"
   ]
  },
  {
   "cell_type": "code",
   "execution_count": 52,
   "metadata": {},
   "outputs": [
    {
     "data": {
      "text/plain": [
       "pandas.core.series.Series"
      ]
     },
     "execution_count": 52,
     "metadata": {},
     "output_type": "execute_result"
    }
   ],
   "source": [
    "type(b2wCorpus.review_text)"
   ]
  },
  {
   "cell_type": "code",
   "execution_count": 54,
   "metadata": {},
   "outputs": [
    {
     "name": "stdout",
     "output_type": "stream",
     "text": [
      "38029    2\n",
      "45895    0\n",
      "31686    0\n",
      "3369     0\n",
      "19700    0\n",
      "        ..\n",
      "9693     0\n",
      "29474    3\n",
      "25369    4\n",
      "4467     4\n",
      "18215    4\n",
      "Name: overall_rating, Length: 30958, dtype: int64\n"
     ]
    },
    {
     "data": {
      "text/plain": [
       "numpy.ndarray"
      ]
     },
     "execution_count": 54,
     "metadata": {},
     "output_type": "execute_result"
    }
   ],
   "source": [
    "# Treino, Validação e teste\n",
    "RANDOM_SEED = 42\n",
    "x_train =  [ emb for emb in b2wCorpusTrain.review_text]\n",
    "y_train =   b2wCorpusTrain.overall_rating\n",
    "x_val = [ emb for emb in b2wCorpusValidate.review_text ]\n",
    "y_val = b2wCorpusValidate.overall_rating\n",
    "x_train = np.asarray(x_train)\n",
    "x_val =np.asarray(x_val)\n",
    "\n",
    "np.random.seed(RANDOM_SEED)\n",
    "model = KeyedVectors.load_word2vec_format('word2vec_200k.txt')\n",
    "emb = model.get_keras_embedding()\n"
   ]
  },
  {
   "cell_type": "code",
   "execution_count": null,
   "metadata": {},
   "outputs": [
    {
     "name": "stdout",
     "output_type": "stream",
     "text": [
      "Epoch 1/50\n",
      "1935/1935 [==============================] - 46s 24ms/step - loss: 1.2566 - accuracy: 0.4732 - val_loss: 1.1787 - val_accuracy: 0.5046\n",
      "Epoch 2/50\n",
      "1935/1935 [==============================] - 45s 23ms/step - loss: 1.1703 - accuracy: 0.5039 - val_loss: 1.1450 - val_accuracy: 0.5128\n",
      "Epoch 3/50\n",
      "1935/1935 [==============================] - 44s 23ms/step - loss: 1.1392 - accuracy: 0.5113 - val_loss: 1.1326 - val_accuracy: 0.5202\n",
      "Epoch 4/50\n",
      "1935/1935 [==============================] - 44s 23ms/step - loss: 1.1232 - accuracy: 0.5170 - val_loss: 1.0955 - val_accuracy: 0.5233\n",
      "Epoch 5/50\n",
      "1935/1935 [==============================] - 44s 23ms/step - loss: 1.1107 - accuracy: 0.5183 - val_loss: 1.1031 - val_accuracy: 0.5220\n",
      "Epoch 6/50\n",
      "1935/1935 [==============================] - 45s 23ms/step - loss: 1.0988 - accuracy: 0.5207 - val_loss: 1.0784 - val_accuracy: 0.5317\n",
      "Epoch 7/50\n",
      "1935/1935 [==============================] - 45s 23ms/step - loss: 1.0893 - accuracy: 0.5245 - val_loss: 1.0726 - val_accuracy: 0.5437\n",
      "Epoch 8/50\n",
      "1935/1935 [==============================] - 44s 23ms/step - loss: 1.0790 - accuracy: 0.5312 - val_loss: 1.0630 - val_accuracy: 0.5447\n",
      "Epoch 9/50\n",
      "1935/1935 [==============================] - 44s 23ms/step - loss: 1.0706 - accuracy: 0.5338 - val_loss: 1.0665 - val_accuracy: 0.5422\n",
      "Epoch 10/50\n",
      "1935/1935 [==============================] - 45s 23ms/step - loss: 1.0632 - accuracy: 0.5376 - val_loss: 1.0525 - val_accuracy: 0.5487\n",
      "Epoch 11/50\n",
      "1935/1935 [==============================] - 44s 23ms/step - loss: 1.0588 - accuracy: 0.5409 - val_loss: 1.0421 - val_accuracy: 0.5483\n",
      "Epoch 12/50\n",
      "1935/1935 [==============================] - 44s 23ms/step - loss: 1.0538 - accuracy: 0.5415 - val_loss: 1.0448 - val_accuracy: 0.5468\n",
      "Epoch 13/50\n",
      "1935/1935 [==============================] - 44s 23ms/step - loss: 1.0449 - accuracy: 0.5425 - val_loss: 1.0432 - val_accuracy: 0.5502\n",
      "Epoch 14/50\n",
      "1418/1935 [====================>.........] - ETA: 11s - loss: 1.0373 - accuracy: 0.5484"
     ]
    }
   ],
   "source": [
    "from tensorflow.keras.losses import sparse_categorical_crossentropy\n",
    "SEQUENCE_MAXLEN = 50\n",
    "model = keras.Sequential()\n",
    "model.add(layers.Input(shape=(SEQUENCE_MAXLEN, )))\n",
    "model.add(emb)\n",
    "model.add(layers.LSTM(24, dropout=0.1, return_sequences=True))\n",
    "model.add(keras.layers.LSTM(32, dropout=0.1))\n",
    "model.add(keras.layers.Dense(32, activation='elu'))\n",
    "model.add(keras.layers.Dense(5, activation='softmax'))\n",
    "# opt = tf.keras.optimizers.SGD(learning_rate=.5, momentum=.5)\n",
    "opt = tf.keras.optimizers.Adamax(learning_rate=0.001, beta_1=0.9, beta_2=0.999, epsilon=1e-07, name=\"Adamax\")\n",
    "#model.compile(optimizer=opt, loss=categorical_crossentropy, metrics=['acc', 'mae'])\n",
    "model.compile(optimizer=opt,loss=sparse_categorical_crossentropy, metrics=[\"accuracy\"])\n",
    "history = model.fit(\n",
    "    x= x_train, y=y_train, batch_size=16, epochs=50, validation_data=(x_val, y_val)\n",
    ")"
   ]
  },
  {
   "cell_type": "code",
   "execution_count": null,
   "metadata": {},
   "outputs": [],
   "source": [
    "\n",
    "#Tokenizando\n",
    "vectorize_layer = TextVectorization(                                      \n",
    "                                        standardize='lower_and_strip_punctuation',\n",
    "                                        split='whitespace',\n",
    "                                        output_mode='int',\n",
    "                                        pad_to_max_tokens=False,\n",
    "                                        output_sequence_length=75\n",
    "                                        )\n",
    "vectorize_layer.adapt(x_train)\n",
    "vocab_size = len(vectorize_layer.get_vocabulary())\n",
    "print(vocab_size)"
   ]
  },
  {
   "cell_type": "code",
   "execution_count": null,
   "metadata": {},
   "outputs": [],
   "source": []
  },
  {
   "cell_type": "code",
   "execution_count": null,
   "metadata": {},
   "outputs": [],
   "source": []
  },
  {
   "cell_type": "code",
   "execution_count": null,
   "metadata": {},
   "outputs": [],
   "source": []
  }
 ],
 "metadata": {
  "kernelspec": {
   "display_name": "Python 3",
   "language": "python",
   "name": "python3"
  },
  "language_info": {
   "codemirror_mode": {
    "name": "ipython",
    "version": 3
   },
   "file_extension": ".py",
   "mimetype": "text/x-python",
   "name": "python",
   "nbconvert_exporter": "python",
   "pygments_lexer": "ipython3",
   "version": "3.8.5"
  }
 },
 "nbformat": 4,
 "nbformat_minor": 4
}
