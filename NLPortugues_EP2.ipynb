{
 "cells": [
  {
   "cell_type": "code",
   "execution_count": 31,
   "metadata": {},
   "outputs": [
    {
     "name": "stderr",
     "output_type": "stream",
     "text": [
      "[nltk_data] Downloading package stopwords to\n",
      "[nltk_data]     /home/augusto/nltk_data...\n",
      "[nltk_data]   Package stopwords is already up-to-date!\n",
      "[nltk_data] Downloading package punkt to /home/augusto/nltk_data...\n",
      "[nltk_data]   Package punkt is already up-to-date!\n"
     ]
    }
   ],
   "source": [
    "import tensorflow as tf\n",
    "from tensorflow import keras\n",
    "import numpy as np\n",
    "import pandas as pd\n",
    "import matplotlib.pyplot as plt\n",
    "from sklearn.model_selection import train_test_split\n",
    "from tensorflow.keras.layers.experimental.preprocessing import TextVectorization\n",
    "import nltk\n",
    "nltk.download('stopwords')\n",
    "stop_words = nltk.corpus.stopwords.words('portuguese')\n",
    "from nltk.stem import SnowballStemmer\n",
    "nltk.download('punkt')\n",
    "stemmer = SnowballStemmer('portuguese')\n",
    "import re\n",
    "from unidecode import unidecode\n",
    "from keras.regularizers import l2\n",
    "from gensim.models import KeyedVectors\n",
    "from tensorflow.keras import layers\n",
    "from tensorflow.keras.losses import categorical_crossentropy\n",
    "from keras.layers import Dense, Dropout, LSTM"
   ]
  },
  {
   "cell_type": "markdown",
   "metadata": {},
   "source": [
    "## Pipeline "
   ]
  },
  {
   "cell_type": "code",
   "execution_count": 32,
   "metadata": {},
   "outputs": [],
   "source": [
    "# Base original da B2W, sem cortes + clean de overall_rating\n",
    "b2wCorpus = pd.read_csv(\"B2W-Reviews01.csv\",\";\",usecols=['review_text','overall_rating'])\n",
    "\n",
    "# Filtro\n",
    "d = b2wCorpus.index[b2wCorpus[\"overall_rating\"] < 1].tolist()\n",
    "b2wCorpus=b2wCorpus.drop(b2wCorpus.index[d])\n",
    "d = b2wCorpus.index[b2wCorpus[\"overall_rating\"] > 5].tolist()\n",
    "b2wCorpus=b2wCorpus.drop(b2wCorpus.index[d])\n",
    "#d = b2wCorpus.index[b2wCorpus[\"overall_rating\"] == 2].tolist()\n",
    "#b2wCorpus=b2wCorpus.drop(b2wCorpus.index[d])\n",
    "#b2wCorpus['overall_rating'].replace({5: 2}, inplace = True)\n",
    "#print(b2wCorpus.head)"
   ]
  },
  {
   "cell_type": "code",
   "execution_count": 33,
   "metadata": {},
   "outputs": [],
   "source": [
    "SEQUENCE_MAXLEN = 40\n",
    "\n",
    "# Cleanning function\n",
    "text_cleaning_re = \"@\\S+|https?:\\S+|http?:\\S|[^A-Za-z0-9]+\"\n",
    "def preprocess(text, stem=False):\n",
    "  text = unidecode(text)\n",
    "  text = re.sub(text_cleaning_re, ' ', str(text).lower()).strip()\n",
    "  text = re.sub(\"\\d+\", \"\", text)\n",
    "  text = re.sub(r'(?:^| )\\w(?:$| )', ' ', text).strip()\n",
    "  tokens = []\n",
    "  for token in text.split():\n",
    "    if token not in stop_words:\n",
    "      if stem:\n",
    "        tokens.append(stemmer.stem(token))\n",
    "      else:\n",
    "        tokens.append(token)\n",
    "  return \" \".join(tokens)"
   ]
  },
  {
   "cell_type": "code",
   "execution_count": 34,
   "metadata": {},
   "outputs": [],
   "source": [
    "# Cleanning exec\n",
    "b2wCorpus.review_text = b2wCorpus.review_text.apply(lambda x: preprocess(x))"
   ]
  },
  {
   "cell_type": "code",
   "execution_count": 35,
   "metadata": {},
   "outputs": [
    {
     "name": "stdout",
     "output_type": "stream",
     "text": [
      "<bound method NDFrame.head of         overall_rating                                        review_text\n",
      "0                    4  contente compra entrega rapida unico problema ...\n",
      "1                    4        apenas consegui comprar lindo copo acrilico\n",
      "2                    4  supera agilidade praticidade outras panelas el...\n",
      "3                    4          filho amou parece verdade tantos detalhes\n",
      "4                    5  entrega prazo americanas estao parabens smart ...\n",
      "...                ...                                                ...\n",
      "132368               5  vale usando controle xbox durou semana carga p...\n",
      "132369               5  pratico barato super indico produto corre dia ...\n",
      "132370               4    chegou antes prazo previsto corresponde anuncio\n",
      "132371               1  material fraco poderia ser melhor ficou devend...\n",
      "132372               1  comprei produto chegou avaria devolvi ja vai f...\n",
      "\n",
      "[132373 rows x 2 columns]>\n"
     ]
    }
   ],
   "source": [
    "print(b2wCorpus.head)"
   ]
  },
  {
   "cell_type": "code",
   "execution_count": 36,
   "metadata": {},
   "outputs": [
    {
     "data": {
      "text/plain": [
       "1    27369\n",
       "2     8389\n",
       "3    16315\n",
       "4    32345\n",
       "5    47955\n",
       "Name: overall_rating, dtype: int64"
      ]
     },
     "execution_count": 36,
     "metadata": {},
     "output_type": "execute_result"
    }
   ],
   "source": [
    "b2wCorpus.overall_rating .value_counts().sort_index()"
   ]
  },
  {
   "cell_type": "code",
   "execution_count": 37,
   "metadata": {},
   "outputs": [
    {
     "name": "stdout",
     "output_type": "stream",
     "text": [
      "<bound method NDFrame.head of         overall_rating                                        review_text\n",
      "0                    1  pessimo nao esquenta chapinha fecha direito jo...\n",
      "1                    4  ja site otimo aparelho porem alto falante vem ...\n",
      "2                    5  excelente produto caixa lacrada todos acessori...\n",
      "3                    1  bom dia site oficial espetos mostram espeto pi...\n",
      "4                    5  gente quer ver milagre cabelo ressecado precis...\n",
      "...                ...                                                ...\n",
      "132368               1  so queria ter recebido produto ne paguei fiz t...\n",
      "132369               5                bom atendeu totalmente necessidades\n",
      "132370               5  produto qualidade adequado pratica atividades ...\n",
      "132371               5  medicamento combate tres potenciais problemas ...\n",
      "132372               3                serviu bem proposto recomendo todos\n",
      "\n",
      "[132373 rows x 2 columns]>\n"
     ]
    }
   ],
   "source": [
    "# Partilha\n",
    "b2wCorpus = b2wCorpus.sample(frac=1).reset_index(drop=True)\n",
    "print(b2wCorpus.head)"
   ]
  },
  {
   "cell_type": "code",
   "execution_count": 38,
   "metadata": {},
   "outputs": [
    {
     "data": {
      "image/png": "[encoded data removed]",
      "text/plain": [
       "<Figure size 432x288 with 1 Axes>"
      ]
     },
     "metadata": {},
     "output_type": "display_data"
    },
    {
     "name": "stdout",
     "output_type": "stream",
     "text": [
      "131993\n"
     ]
    }
   ],
   "source": [
    "# histograma de palavras x qtd de linhas\n",
    "Words = [len(linha.split()) for linha in b2wCorpus[\"review_text\"] if len(linha.split()) <=100 ]\n",
    "plt.style.use('ggplot')\n",
    "plt.hist(Words, bins=[0,5,10,15,20,25,30,35,40,45,50,55,60,65,70,75,80,85])\n",
    "plt.show()\n",
    "print(len(Words))"
   ]
  },
  {
   "cell_type": "code",
   "execution_count": 39,
   "metadata": {},
   "outputs": [],
   "source": [
    "# Codifica\n",
    "N =  200001\n",
    "with open(\"cbow_s50.txt\", \"r\",encoding='utf-8') as file:\n",
    "    head = [next(file) for x in range(N)]\n",
    "\n",
    "head[0] = str(N-1)+ \" \" + \"50\"+ \"\\n\" # Conserta contagem de palavras\n",
    "with open(\"word2vec_200k.txt\", \"w\",encoding='utf-8') as file:\n",
    "    for line in head:\n",
    "        file.write(line)\n",
    "\n",
    "def vocaIndex(lista, stem=False):\n",
    "    for indice in range(len(lista)):\n",
    "        text=lista[indice].lower()\n",
    "        if text in model.vocab:\n",
    "             lista[indice] = model.vocab[text].index\n",
    "        else: \n",
    "             lista[indice] = '199999'\n",
    "    return lista\n",
    "\n",
    "model = KeyedVectors.load_word2vec_format('word2vec_200k.txt')\n",
    "\n",
    "def codifica(text, stem=False):\n",
    "    tokens = nltk.word_tokenize(text)\n",
    "    tokens = vocaIndex(tokens)\n",
    "    return tokens\n",
    "\n",
    "b2wCorpus.review_text = b2wCorpus.review_text.apply(lambda x: codifica(x))"
   ]
  },
  {
   "cell_type": "code",
   "execution_count": 40,
   "metadata": {},
   "outputs": [],
   "source": [
    "b2wCorpus['ord'] = b2wCorpus.apply(lambda row: len(row.review_text), axis=1)"
   ]
  },
  {
   "cell_type": "code",
   "execution_count": 41,
   "metadata": {},
   "outputs": [
    {
     "data": {
      "text/plain": [
       "(132373, 3)"
      ]
     },
     "execution_count": 41,
     "metadata": {},
     "output_type": "execute_result"
    }
   ],
   "source": [
    "b2wCorpus.shape"
   ]
  },
  {
   "cell_type": "code",
   "execution_count": 42,
   "metadata": {},
   "outputs": [],
   "source": [
    "#b2wCorpus = b2wCorpus[b2wCorpus.ord != 0]\n",
    "b2wCorpus = b2wCorpus.drop(b2wCorpus[b2wCorpus.ord < 10].index)\n",
    "b2wCorpus = b2wCorpus.drop(b2wCorpus[b2wCorpus.ord > SEQUENCE_MAXLEN].index)"
   ]
  },
  {
   "cell_type": "code",
   "execution_count": 43,
   "metadata": {},
   "outputs": [],
   "source": [
    "b2wCorpus['overall_rating'] = b2wCorpus.overall_rating.apply(lambda x: x - 1)"
   ]
  },
  {
   "cell_type": "code",
   "execution_count": 44,
   "metadata": {},
   "outputs": [
    {
     "data": {
      "text/plain": [
       "(65887, 3)"
      ]
     },
     "execution_count": 44,
     "metadata": {},
     "output_type": "execute_result"
    }
   ],
   "source": [
    "b2wCorpus.shape"
   ]
  },
  {
   "cell_type": "code",
   "execution_count": 45,
   "metadata": {},
   "outputs": [],
   "source": [
    "b2wCorpus.reset_index(drop=True, inplace=True)"
   ]
  },
  {
   "cell_type": "code",
   "execution_count": 46,
   "metadata": {},
   "outputs": [
    {
     "data": {
      "text/html": [
       "<div>\n",
       "<style scoped>\n",
       "    .dataframe tbody tr th:only-of-type {\n",
       "        vertical-align: middle;\n",
       "    }\n",
       "\n",
       "    .dataframe tbody tr th {\n",
       "        vertical-align: top;\n",
       "    }\n",
       "\n",
       "    .dataframe thead th {\n",
       "        text-align: right;\n",
       "    }\n",
       "</style>\n",
       "<table border=\"1\" class=\"dataframe\">\n",
       "  <thead>\n",
       "    <tr style=\"text-align: right;\">\n",
       "      <th></th>\n",
       "      <th>overall_rating</th>\n",
       "      <th>review_text</th>\n",
       "      <th>ord</th>\n",
       "    </tr>\n",
       "  </thead>\n",
       "  <tbody>\n",
       "    <tr>\n",
       "      <th>0</th>\n",
       "      <td>3</td>\n",
       "      <td>[12783, 1229, 101071, 3006, 17382, 718, 23199,...</td>\n",
       "      <td>30</td>\n",
       "    </tr>\n",
       "    <tr>\n",
       "      <th>1</th>\n",
       "      <td>4</td>\n",
       "      <td>[2104, 902, 1446, 82077, 88, 199999, 2499, 477...</td>\n",
       "      <td>10</td>\n",
       "    </tr>\n",
       "    <tr>\n",
       "      <th>2</th>\n",
       "      <td>0</td>\n",
       "      <td>[226, 86, 1229, 513, 81299, 3174, 45929, 14680...</td>\n",
       "      <td>24</td>\n",
       "    </tr>\n",
       "    <tr>\n",
       "      <th>3</th>\n",
       "      <td>4</td>\n",
       "      <td>[477, 185, 215, 7119, 2951, 156721, 631, 2399,...</td>\n",
       "      <td>22</td>\n",
       "    </tr>\n",
       "    <tr>\n",
       "      <th>4</th>\n",
       "      <td>2</td>\n",
       "      <td>[36296, 199999, 902, 226, 271, 86, 86, 2104, 1...</td>\n",
       "      <td>12</td>\n",
       "    </tr>\n",
       "  </tbody>\n",
       "</table>\n",
       "</div>"
      ],
      "text/plain": [
       "   overall_rating                                        review_text  ord\n",
       "0               3  [12783, 1229, 101071, 3006, 17382, 718, 23199,...   30\n",
       "1               4  [2104, 902, 1446, 82077, 88, 199999, 2499, 477...   10\n",
       "2               0  [226, 86, 1229, 513, 81299, 3174, 45929, 14680...   24\n",
       "3               4  [477, 185, 215, 7119, 2951, 156721, 631, 2399,...   22\n",
       "4               2  [36296, 199999, 902, 226, 271, 86, 86, 2104, 1...   12"
      ]
     },
     "execution_count": 46,
     "metadata": {},
     "output_type": "execute_result"
    }
   ],
   "source": [
    "b2wCorpus.head()"
   ]
  },
  {
   "cell_type": "code",
   "execution_count": 47,
   "metadata": {},
   "outputs": [
    {
     "data": {
      "text/plain": [
       "pandas.core.series.Series"
      ]
     },
     "execution_count": 47,
     "metadata": {},
     "output_type": "execute_result"
    }
   ],
   "source": [
    "type(b2wCorpus.review_text)"
   ]
  },
  {
   "cell_type": "code",
   "execution_count": 48,
   "metadata": {},
   "outputs": [],
   "source": [
    "#b2wCorpus.review_text.str.rjust(width=50, fillchar='0')\n",
    "#np.reshape(y_train,(-1))\n",
    "\n",
    "b2wCorpus.review_text = keras.preprocessing.sequence.pad_sequences(b2wCorpus.apply(lambda row: np.reshape(row.review_text,(-1)), axis=1), maxlen=SEQUENCE_MAXLEN, padding='post').tolist()"
   ]
  },
  {
   "cell_type": "code",
   "execution_count": 49,
   "metadata": {},
   "outputs": [
    {
     "data": {
      "text/html": [
       "<div>\n",
       "<style scoped>\n",
       "    .dataframe tbody tr th:only-of-type {\n",
       "        vertical-align: middle;\n",
       "    }\n",
       "\n",
       "    .dataframe tbody tr th {\n",
       "        vertical-align: top;\n",
       "    }\n",
       "\n",
       "    .dataframe thead th {\n",
       "        text-align: right;\n",
       "    }\n",
       "</style>\n",
       "<table border=\"1\" class=\"dataframe\">\n",
       "  <thead>\n",
       "    <tr style=\"text-align: right;\">\n",
       "      <th></th>\n",
       "      <th>overall_rating</th>\n",
       "      <th>review_text</th>\n",
       "      <th>ord</th>\n",
       "    </tr>\n",
       "  </thead>\n",
       "  <tbody>\n",
       "    <tr>\n",
       "      <th>0</th>\n",
       "      <td>3</td>\n",
       "      <td>[12783, 1229, 101071, 3006, 17382, 718, 23199,...</td>\n",
       "      <td>30</td>\n",
       "    </tr>\n",
       "    <tr>\n",
       "      <th>1</th>\n",
       "      <td>4</td>\n",
       "      <td>[2104, 902, 1446, 82077, 88, 199999, 2499, 477...</td>\n",
       "      <td>10</td>\n",
       "    </tr>\n",
       "    <tr>\n",
       "      <th>2</th>\n",
       "      <td>0</td>\n",
       "      <td>[226, 86, 1229, 513, 81299, 3174, 45929, 14680...</td>\n",
       "      <td>24</td>\n",
       "    </tr>\n",
       "    <tr>\n",
       "      <th>3</th>\n",
       "      <td>4</td>\n",
       "      <td>[477, 185, 215, 7119, 2951, 156721, 631, 2399,...</td>\n",
       "      <td>22</td>\n",
       "    </tr>\n",
       "    <tr>\n",
       "      <th>4</th>\n",
       "      <td>2</td>\n",
       "      <td>[36296, 199999, 902, 226, 271, 86, 86, 2104, 1...</td>\n",
       "      <td>12</td>\n",
       "    </tr>\n",
       "  </tbody>\n",
       "</table>\n",
       "</div>"
      ],
      "text/plain": [
       "   overall_rating                                        review_text  ord\n",
       "0               3  [12783, 1229, 101071, 3006, 17382, 718, 23199,...   30\n",
       "1               4  [2104, 902, 1446, 82077, 88, 199999, 2499, 477...   10\n",
       "2               0  [226, 86, 1229, 513, 81299, 3174, 45929, 14680...   24\n",
       "3               4  [477, 185, 215, 7119, 2951, 156721, 631, 2399,...   22\n",
       "4               2  [36296, 199999, 902, 226, 271, 86, 86, 2104, 1...   12"
      ]
     },
     "execution_count": 49,
     "metadata": {},
     "output_type": "execute_result"
    }
   ],
   "source": [
    "b2wCorpus.head()"
   ]
  },
  {
   "cell_type": "code",
   "execution_count": 50,
   "metadata": {},
   "outputs": [],
   "source": [
    "# Função de split\n",
    "def train_validate_test_split(df, train_percent=.65, validate_percent=.1, seed=42):\n",
    "    np.random.seed(seed)\n",
    "    perm = np.random.permutation(df.index)\n",
    "    m = len(df.index)\n",
    "    train_end = int(train_percent * m)\n",
    "    validate_end = int(validate_percent * m) + train_end\n",
    "    train = df.iloc[perm[:train_end]]\n",
    "    validate = df.iloc[perm[train_end:validate_end]]\n",
    "    test = df.iloc[perm[validate_end:]]\n",
    "    return train, validate, test"
   ]
  },
  {
   "cell_type": "code",
   "execution_count": 51,
   "metadata": {},
   "outputs": [],
   "source": [
    "b2wCorpusTrain, b2wCorpusValidate, b2wCorpusTest = train_validate_test_split(b2wCorpus)"
   ]
  },
  {
   "cell_type": "code",
   "execution_count": 52,
   "metadata": {},
   "outputs": [
    {
     "data": {
      "text/html": [
       "<div>\n",
       "<style scoped>\n",
       "    .dataframe tbody tr th:only-of-type {\n",
       "        vertical-align: middle;\n",
       "    }\n",
       "\n",
       "    .dataframe tbody tr th {\n",
       "        vertical-align: top;\n",
       "    }\n",
       "\n",
       "    .dataframe thead th {\n",
       "        text-align: right;\n",
       "    }\n",
       "</style>\n",
       "<table border=\"1\" class=\"dataframe\">\n",
       "  <thead>\n",
       "    <tr style=\"text-align: right;\">\n",
       "      <th></th>\n",
       "      <th>overall_rating</th>\n",
       "      <th>review_text</th>\n",
       "      <th>ord</th>\n",
       "    </tr>\n",
       "  </thead>\n",
       "  <tbody>\n",
       "    <tr>\n",
       "      <th>30185</th>\n",
       "      <td>2</td>\n",
       "      <td>[26416, 363, 3929, 10015, 2583, 90585, 17382, ...</td>\n",
       "      <td>40</td>\n",
       "    </tr>\n",
       "    <tr>\n",
       "      <th>56544</th>\n",
       "      <td>0</td>\n",
       "      <td>[902, 62, 7804, 428, 20252, 935, 5460, 199999,...</td>\n",
       "      <td>40</td>\n",
       "    </tr>\n",
       "    <tr>\n",
       "      <th>20410</th>\n",
       "      <td>0</td>\n",
       "      <td>[9735, 902, 428, 19181, 86, 31116, 6468, 3147,...</td>\n",
       "      <td>40</td>\n",
       "    </tr>\n",
       "    <tr>\n",
       "      <th>24923</th>\n",
       "      <td>4</td>\n",
       "      <td>[408, 486, 1645, 10428, 9735, 86, 141, 86, 199...</td>\n",
       "      <td>40</td>\n",
       "    </tr>\n",
       "    <tr>\n",
       "      <th>42343</th>\n",
       "      <td>0</td>\n",
       "      <td>[199999, 2197, 3656, 29604, 1643, 1664, 42998,...</td>\n",
       "      <td>40</td>\n",
       "    </tr>\n",
       "  </tbody>\n",
       "</table>\n",
       "</div>"
      ],
      "text/plain": [
       "       overall_rating                                        review_text  ord\n",
       "30185               2  [26416, 363, 3929, 10015, 2583, 90585, 17382, ...   40\n",
       "56544               0  [902, 62, 7804, 428, 20252, 935, 5460, 199999,...   40\n",
       "20410               0  [9735, 902, 428, 19181, 86, 31116, 6468, 3147,...   40\n",
       "24923               4  [408, 486, 1645, 10428, 9735, 86, 141, 86, 199...   40\n",
       "42343               0  [199999, 2197, 3656, 29604, 1643, 1664, 42998,...   40"
      ]
     },
     "execution_count": 52,
     "metadata": {},
     "output_type": "execute_result"
    }
   ],
   "source": [
    "b2wCorpusTrain=b2wCorpusTrain.reindex(b2wCorpusTrain['ord'].sort_values(ascending=False).index)\n",
    "b2wCorpusTrain.head()"
   ]
  },
  {
   "cell_type": "code",
   "execution_count": 53,
   "metadata": {},
   "outputs": [
    {
     "data": {
      "text/plain": [
       "<bound method NDFrame.head of        overall_rating                                        review_text  ord\n",
       "40756               0  [7256, 6689, 193, 104, 166780, 9735, 2689, 543...   40\n",
       "61781               2  [305, 7804, 532, 714, 902, 3547, 1879, 20253, ...   40\n",
       "60852               0  [199999, 1664, 86, 578, 2499, 86, 7804, 3013, ...   40\n",
       "14309               0  [902, 199999, 1118, 372, 481, 188512, 12956, 3...   40\n",
       "53138               3  [10410, 23933, 5841, 8474, 1188, 18858, 199999...   40\n",
       "...               ...                                                ...  ...\n",
       "53527               4  [902, 161274, 532, 199999, 3590, 428, 70, 6163...   10\n",
       "1223                3  [1893, 7431, 3615, 19634, 2499, 2789, 85324, 1...   10\n",
       "21872               4  [462, 981, 2789, 3330, 63936, 199999, 428, 131...   10\n",
       "22970               1  [902, 226, 10813, 7804, 6376, 12572, 2224, 171...   10\n",
       "19202               0  [1643, 1664, 3780, 29648, 18874, 141, 62, 7804...   10\n",
       "\n",
       "[6588 rows x 3 columns]>"
      ]
     },
     "execution_count": 53,
     "metadata": {},
     "output_type": "execute_result"
    }
   ],
   "source": [
    "b2wCorpusValidate=b2wCorpusValidate.reindex(b2wCorpusValidate['ord'].sort_values(ascending=False).index)\n",
    "b2wCorpusValidate.head"
   ]
  },
  {
   "cell_type": "code",
   "execution_count": 54,
   "metadata": {},
   "outputs": [
    {
     "data": {
      "text/plain": [
       "<bound method NDFrame.head of        overall_rating                                        review_text  ord\n",
       "31921               2  [74645, 226, 226, 26956, 70, 199999, 17382, 11...   40\n",
       "33894               3  [2104, 79777, 3193, 199999, 70, 2942, 201, 147...   40\n",
       "49252               3  [7804, 1110, 99586, 2832, 4610, 532, 978, 178,...   40\n",
       "5492                0  [1643, 600, 25999, 50697, 8653, 31182, 1101, 5...   40\n",
       "16997               1  [902, 226, 363, 532, 17382, 15509, 930, 20096,...   40\n",
       "...               ...                                                ...  ...\n",
       "7903                4  [199999, 902, 2104, 2499, 199999, 428, 70, 131...   10\n",
       "1764                4  [428, 131, 566, 4853, 2789, 22522, 428, 122, 4...   10\n",
       "58828               4  [1721, 16808, 138589, 1494, 110, 5841, 3553, 6...   10\n",
       "56985               3  [23904, 2694, 4773, 101236, 2216, 11759, 3690,...   10\n",
       "39683               4  [6376, 935, 22522, 37822, 199999, 345, 958, 66...   10\n",
       "\n",
       "[16473 rows x 3 columns]>"
      ]
     },
     "execution_count": 54,
     "metadata": {},
     "output_type": "execute_result"
    }
   ],
   "source": [
    "b2wCorpusTest=b2wCorpusTest.reindex(b2wCorpusTest['ord'].sort_values(ascending=False).index)\n",
    "b2wCorpusTest.head"
   ]
  },
  {
   "cell_type": "code",
   "execution_count": 55,
   "metadata": {},
   "outputs": [
    {
     "data": {
      "text/plain": [
       "pandas.core.series.Series"
      ]
     },
     "execution_count": 55,
     "metadata": {},
     "output_type": "execute_result"
    }
   ],
   "source": [
    "type(b2wCorpus.review_text)"
   ]
  },
  {
   "cell_type": "code",
   "execution_count": 56,
   "metadata": {},
   "outputs": [],
   "source": [
    "# Treino, Validação e teste\n",
    "RANDOM_SEED = 42\n",
    "x_train =  [ emb for emb in b2wCorpusTrain.review_text]\n",
    "y_train =   b2wCorpusTrain.overall_rating\n",
    "x_val = [ emb for emb in b2wCorpusValidate.review_text ]\n",
    "y_val = b2wCorpusValidate.overall_rating\n",
    "x_train = np.asarray(x_train)\n",
    "x_val =np.asarray(x_val)\n",
    "\n",
    "np.random.seed(RANDOM_SEED)\n",
    "model = KeyedVectors.load_word2vec_format('word2vec_200k.txt')\n",
    "emb = model.get_keras_embedding()\n",
    "#emb.trainable = True"
   ]
  },
  {
   "cell_type": "code",
   "execution_count": 57,
   "metadata": {},
   "outputs": [
    {
     "name": "stdout",
     "output_type": "stream",
     "text": [
      "Epoch 1/50\n",
      "2677/2677 [==============================] - 50s 19ms/step - loss: 1.3060 - accuracy: 0.4758 - val_loss: 1.1886 - val_accuracy: 0.5258\n",
      "Epoch 2/50\n",
      "2677/2677 [==============================] - 50s 19ms/step - loss: 1.2045 - accuracy: 0.5104 - val_loss: 1.1007 - val_accuracy: 0.5484\n",
      "Epoch 3/50\n",
      "2677/2677 [==============================] - 50s 19ms/step - loss: 1.1535 - accuracy: 0.5282 - val_loss: 1.0588 - val_accuracy: 0.5721\n",
      "Epoch 4/50\n",
      "2677/2677 [==============================] - 51s 19ms/step - loss: 1.1241 - accuracy: 0.5379 - val_loss: 1.0399 - val_accuracy: 0.5685\n",
      "Epoch 5/50\n",
      "2677/2677 [==============================] - 51s 19ms/step - loss: 1.0975 - accuracy: 0.5489 - val_loss: 1.0308 - val_accuracy: 0.5683\n",
      "Epoch 6/50\n",
      "2677/2677 [==============================] - 51s 19ms/step - loss: 1.0814 - accuracy: 0.5548 - val_loss: 1.0063 - val_accuracy: 0.5862\n",
      "Epoch 7/50\n",
      "2677/2677 [==============================] - 51s 19ms/step - loss: 1.0607 - accuracy: 0.5647 - val_loss: 1.0110 - val_accuracy: 0.5853\n",
      "Epoch 8/50\n",
      "2677/2677 [==============================] - 51s 19ms/step - loss: 1.0501 - accuracy: 0.5685 - val_loss: 0.9934 - val_accuracy: 0.5914\n",
      "Epoch 9/50\n",
      "2677/2677 [==============================] - 51s 19ms/step - loss: 1.0416 - accuracy: 0.5711 - val_loss: 0.9828 - val_accuracy: 0.5970\n",
      "Epoch 10/50\n",
      "2677/2677 [==============================] - 51s 19ms/step - loss: 1.0296 - accuracy: 0.5737 - val_loss: 0.9858 - val_accuracy: 0.5867\n",
      "Epoch 11/50\n",
      "2677/2677 [==============================] - 51s 19ms/step - loss: 1.0192 - accuracy: 0.5778 - val_loss: 0.9814 - val_accuracy: 0.5902\n",
      "Epoch 12/50\n",
      "2677/2677 [==============================] - 51s 19ms/step - loss: 1.0097 - accuracy: 0.5834 - val_loss: 0.9666 - val_accuracy: 0.5965\n",
      "Epoch 13/50\n",
      "2677/2677 [==============================] - 51s 19ms/step - loss: 0.9994 - accuracy: 0.5871 - val_loss: 0.9658 - val_accuracy: 0.6005\n",
      "Epoch 14/50\n",
      "2677/2677 [==============================] - 51s 19ms/step - loss: 0.9955 - accuracy: 0.5881 - val_loss: 0.9652 - val_accuracy: 0.5941\n",
      "Epoch 15/50\n",
      "2677/2677 [==============================] - 51s 19ms/step - loss: 0.9899 - accuracy: 0.5889 - val_loss: 0.9690 - val_accuracy: 0.5987\n",
      "Epoch 16/50\n",
      "2677/2677 [==============================] - 51s 19ms/step - loss: 0.9817 - accuracy: 0.5952 - val_loss: 0.9632 - val_accuracy: 0.5994\n",
      "Epoch 17/50\n",
      "2677/2677 [==============================] - 51s 19ms/step - loss: 0.9781 - accuracy: 0.5957 - val_loss: 0.9578 - val_accuracy: 0.6025\n",
      "Epoch 18/50\n",
      "2677/2677 [==============================] - 51s 19ms/step - loss: 0.9730 - accuracy: 0.5986 - val_loss: 0.9737 - val_accuracy: 0.5993\n",
      "Epoch 19/50\n",
      "2677/2677 [==============================] - 51s 19ms/step - loss: 0.9672 - accuracy: 0.5975 - val_loss: 0.9583 - val_accuracy: 0.5982\n",
      "Epoch 20/50\n",
      "2677/2677 [==============================] - 51s 19ms/step - loss: 0.9644 - accuracy: 0.5998 - val_loss: 0.9824 - val_accuracy: 0.6079\n",
      "Epoch 21/50\n",
      "2677/2677 [==============================] - 51s 19ms/step - loss: 0.9619 - accuracy: 0.6015 - val_loss: 0.9630 - val_accuracy: 0.6053\n",
      "Epoch 22/50\n",
      "2677/2677 [==============================] - 51s 19ms/step - loss: 0.9573 - accuracy: 0.6042 - val_loss: 0.9591 - val_accuracy: 0.6002\n",
      "Epoch 23/50\n",
      "2677/2677 [==============================] - 51s 19ms/step - loss: 0.9543 - accuracy: 0.6054 - val_loss: 0.9548 - val_accuracy: 0.6041\n",
      "Epoch 24/50\n",
      "2677/2677 [==============================] - 51s 19ms/step - loss: 0.9505 - accuracy: 0.6047 - val_loss: 0.9574 - val_accuracy: 0.6050\n",
      "Epoch 25/50\n",
      "2677/2677 [==============================] - 51s 19ms/step - loss: 0.9432 - accuracy: 0.6106 - val_loss: 0.9640 - val_accuracy: 0.6040\n",
      "Epoch 26/50\n",
      "2677/2677 [==============================] - 51s 19ms/step - loss: 0.9446 - accuracy: 0.6089 - val_loss: 0.9631 - val_accuracy: 0.6025\n",
      "Epoch 27/50\n",
      "2677/2677 [==============================] - 51s 19ms/step - loss: 0.9414 - accuracy: 0.6084 - val_loss: 0.9597 - val_accuracy: 0.6035\n",
      "Epoch 28/50\n",
      "2677/2677 [==============================] - 51s 19ms/step - loss: 0.9362 - accuracy: 0.6116 - val_loss: 0.9571 - val_accuracy: 0.6012\n",
      "Epoch 29/50\n",
      "2677/2677 [==============================] - 51s 19ms/step - loss: 0.9344 - accuracy: 0.6148 - val_loss: 0.9725 - val_accuracy: 0.6061\n",
      "Epoch 30/50\n",
      "2677/2677 [==============================] - 51s 19ms/step - loss: 0.9314 - accuracy: 0.6127 - val_loss: 0.9594 - val_accuracy: 0.6041\n",
      "Epoch 31/50\n",
      "2677/2677 [==============================] - 51s 19ms/step - loss: 0.9267 - accuracy: 0.6158 - val_loss: 0.9587 - val_accuracy: 0.6050\n",
      "Epoch 32/50\n",
      "2677/2677 [==============================] - 51s 19ms/step - loss: 0.9312 - accuracy: 0.6147 - val_loss: 0.9561 - val_accuracy: 0.6067\n",
      "Epoch 33/50\n",
      "2677/2677 [==============================] - 51s 19ms/step - loss: 0.9222 - accuracy: 0.6153 - val_loss: 0.9740 - val_accuracy: 0.5927\n",
      "Epoch 34/50\n",
      "2677/2677 [==============================] - 51s 19ms/step - loss: 0.9249 - accuracy: 0.6146 - val_loss: 0.9641 - val_accuracy: 0.6026\n",
      "Epoch 35/50\n",
      "2677/2677 [==============================] - 51s 19ms/step - loss: 0.9170 - accuracy: 0.6179 - val_loss: 0.9713 - val_accuracy: 0.6011\n",
      "Epoch 36/50\n",
      "2677/2677 [==============================] - 51s 19ms/step - loss: 0.9183 - accuracy: 0.6203 - val_loss: 0.9625 - val_accuracy: 0.6014\n",
      "Epoch 37/50\n",
      "2677/2677 [==============================] - 51s 19ms/step - loss: 0.9152 - accuracy: 0.6201 - val_loss: 0.9708 - val_accuracy: 0.6037\n",
      "Epoch 38/50\n",
      "2677/2677 [==============================] - 51s 19ms/step - loss: 0.9134 - accuracy: 0.6202 - val_loss: 0.9642 - val_accuracy: 0.6023\n",
      "Epoch 39/50\n",
      "2677/2677 [==============================] - 51s 19ms/step - loss: 0.9094 - accuracy: 0.6239 - val_loss: 0.9704 - val_accuracy: 0.6037\n",
      "Epoch 40/50\n",
      "2677/2677 [==============================] - 51s 19ms/step - loss: 0.9084 - accuracy: 0.6250 - val_loss: 0.9765 - val_accuracy: 0.6022\n",
      "Epoch 41/50\n",
      "2677/2677 [==============================] - 51s 19ms/step - loss: 0.9093 - accuracy: 0.6215 - val_loss: 0.9729 - val_accuracy: 0.6014\n",
      "Epoch 42/50\n",
      "2677/2677 [==============================] - 51s 19ms/step - loss: 0.9052 - accuracy: 0.6247 - val_loss: 0.9624 - val_accuracy: 0.5993\n",
      "Epoch 43/50\n",
      "2677/2677 [==============================] - 51s 19ms/step - loss: 0.9042 - accuracy: 0.6233 - val_loss: 0.9690 - val_accuracy: 0.6060\n",
      "Epoch 44/50\n",
      "2677/2677 [==============================] - 51s 19ms/step - loss: 0.9007 - accuracy: 0.6240 - val_loss: 0.9659 - val_accuracy: 0.6073\n",
      "Epoch 45/50\n",
      "2677/2677 [==============================] - 51s 19ms/step - loss: 0.9037 - accuracy: 0.6224 - val_loss: 0.9674 - val_accuracy: 0.6035\n",
      "Epoch 46/50\n",
      "2677/2677 [==============================] - 51s 19ms/step - loss: 0.9003 - accuracy: 0.6269 - val_loss: 0.9683 - val_accuracy: 0.6034\n",
      "Epoch 47/50\n",
      "2677/2677 [==============================] - 51s 19ms/step - loss: 0.9018 - accuracy: 0.6259 - val_loss: 0.9745 - val_accuracy: 0.6000\n",
      "Epoch 48/50\n",
      "2677/2677 [==============================] - 51s 19ms/step - loss: 0.8961 - accuracy: 0.6258 - val_loss: 0.9742 - val_accuracy: 0.6055\n",
      "Epoch 49/50\n",
      "2677/2677 [==============================] - 51s 19ms/step - loss: 0.8980 - accuracy: 0.6266 - val_loss: 0.9685 - val_accuracy: 0.6060\n",
      "Epoch 50/50\n",
      "2677/2677 [==============================] - 51s 19ms/step - loss: 0.8969 - accuracy: 0.6305 - val_loss: 0.9839 - val_accuracy: 0.6017\n"
     ]
    }
   ],
   "source": [
    "from tensorflow.keras.losses import sparse_categorical_crossentropy\n",
    "model = keras.Sequential()\n",
    "model.add(layers.Input(shape=(SEQUENCE_MAXLEN, )))\n",
    "model.add(emb)\n",
    "model.add(keras.layers.LSTM(128, dropout=0.5))\n",
    "#model.add(Dropout(0.50))\n",
    "model.add(keras.layers.Dense(5, activation='softmax'))\n",
    "#opt = tf.keras.optimizers.SGD(learning_rate=.1, momentum=.5)\n",
    "#opt = tf.keras.optimizers.Adamax(learning_rate=0.01, beta_1=.9, beta_2=.9, epsilon=1e-07, name=\"Adamax\")\n",
    "#model.compile(optimizer=opt, loss=categorical_crossentropy, metrics=['acc', 'mae'])\n",
    "opt=\"adam\"\n",
    "model.compile(optimizer=opt,loss=sparse_categorical_crossentropy, metrics=[\"accuracy\"])\n",
    "history = model.fit(\n",
    "    x= x_train, y=y_train, batch_size=16, epochs=50, validation_data=(x_val, y_val))\n"
   ]
  },
  {
   "cell_type": "code",
   "execution_count": 58,
   "metadata": {},
   "outputs": [
    {
     "name": "stdout",
     "output_type": "stream",
     "text": [
      "adam\n"
     ]
    }
   ],
   "source": [
    "print(opt)"
   ]
  },
  {
   "cell_type": "code",
   "execution_count": 59,
   "metadata": {},
   "outputs": [
    {
     "data": {
      "image/png": "[encoded data removed]",
      "text/plain": [
       "<Figure size 432x288 with 1 Axes>"
      ]
     },
     "metadata": {},
     "output_type": "display_data"
    }
   ],
   "source": [
    "plt.title('Loss')\n",
    "plt.xlabel('epochs')\n",
    "plt.ylabel('Loss')\n",
    "plt.plot(history.history['loss'], label='train')\n",
    "plt.plot(history.history['val_loss'], label='valid')\n",
    "plt.legend()\n",
    "plt.show();"
   ]
  },
  {
   "cell_type": "code",
   "execution_count": 60,
   "metadata": {},
   "outputs": [
    {
     "data": {
      "image/png": "[encoded data removed]",
      "text/plain": [
       "<Figure size 432x288 with 1 Axes>"
      ]
     },
     "metadata": {},
     "output_type": "display_data"
    }
   ],
   "source": [
    "plt.title('Accuracy')\n",
    "plt.xlabel('epochs')\n",
    "plt.ylabel('accuracy')\n",
    "plt.plot(history.history['accuracy'], label='train')\n",
    "plt.plot(history.history['val_accuracy'], label='valid')\n",
    "plt.legend()\n",
    "plt.show();"
   ]
  },
  {
   "cell_type": "code",
   "execution_count": null,
   "metadata": {},
   "outputs": [],
   "source": []
  },
  {
   "cell_type": "code",
   "execution_count": null,
   "metadata": {},
   "outputs": [],
   "source": []
  }
 ],
 "metadata": {
  "kernelspec": {
   "display_name": "Python 3",
   "language": "python",
   "name": "python3"
  },
  "language_info": {
   "codemirror_mode": {
    "name": "ipython",
    "version": 3
   },
   "file_extension": ".py",
   "mimetype": "text/x-python",
   "name": "python",
   "nbconvert_exporter": "python",
   "pygments_lexer": "ipython3",
   "version": "3.8.5"
  }
 },
 "nbformat": 4,
 "nbformat_minor": 4
}
