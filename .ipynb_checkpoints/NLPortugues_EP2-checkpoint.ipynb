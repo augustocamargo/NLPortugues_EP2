{
 "cells": [
  {
   "cell_type": "code",
   "execution_count": 137,
   "metadata": {},
   "outputs": [
    {
     "name": "stderr",
     "output_type": "stream",
     "text": [
      "[nltk_data] Downloading package stopwords to\n",
      "[nltk_data]     /home/augusto/nltk_data...\n",
      "[nltk_data]   Package stopwords is already up-to-date!\n",
      "[nltk_data] Downloading package punkt to /home/augusto/nltk_data...\n",
      "[nltk_data]   Package punkt is already up-to-date!\n"
     ]
    }
   ],
   "source": [
    "import tensorflow as tf\n",
    "from tensorflow import keras\n",
    "import numpy as np\n",
    "import pandas as pd\n",
    "import matplotlib.pyplot as plt\n",
    "from sklearn.model_selection import train_test_split\n",
    "from tensorflow.keras.layers.experimental.preprocessing import TextVectorization\n",
    "import nltk\n",
    "nltk.download('stopwords')\n",
    "stop_words = nltk.corpus.stopwords.words('portuguese')\n",
    "from nltk.stem import SnowballStemmer\n",
    "nltk.download('punkt')\n",
    "stemmer = SnowballStemmer('portuguese')\n",
    "import re\n",
    "from unidecode import unidecode\n",
    "from keras.regularizers import l2\n",
    "from gensim.models import KeyedVectors\n",
    "from tensorflow.keras import layers\n",
    "from tensorflow.keras.losses import categorical_crossentropy\n",
    "from keras.layers import Dense, Dropout, LSTM"
   ]
  },
  {
   "cell_type": "markdown",
   "metadata": {},
   "source": [
    "## Pipeline "
   ]
  },
  {
   "cell_type": "code",
   "execution_count": 138,
   "metadata": {},
   "outputs": [
    {
     "name": "stdout",
     "output_type": "stream",
     "text": [
      "<bound method NDFrame.head of         overall_rating                                        review_text\n",
      "0                    4  Estou contente com a compra entrega rápida o ú...\n",
      "1                    4  Por apenas R$1994.20,eu consegui comprar esse ...\n",
      "2                    4  SUPERA EM AGILIDADE E PRATICIDADE OUTRAS PANEL...\n",
      "3                    4  MEU FILHO AMOU! PARECE DE VERDADE COM TANTOS D...\n",
      "4                    5  A entrega foi no prazo, as americanas estão de...\n",
      "...                ...                                                ...\n",
      "132368               5  Vale muito, estou usando no controle do Xbox e...\n",
      "132369               5  Prático e barato, super indico o produto para ...\n",
      "132370               4  Chegou antes do prazo previsto e corresponde a...\n",
      "132371               1  Material fraco, poderia ser melhor. Ficou deve...\n",
      "132372               1  Comprei esse produto, quando chegou estava com...\n",
      "\n",
      "[132373 rows x 2 columns]>\n"
     ]
    }
   ],
   "source": [
    "# Base original da B2W, sem cortes + clean de overall_rating\n",
    "b2wCorpus = pd.read_csv(\"B2W-Reviews01.csv\",\";\",usecols=['review_text','overall_rating'])\n",
    "\n",
    "# Filtro\n",
    "d = b2wCorpus.index[b2wCorpus[\"overall_rating\"] < 1].tolist()\n",
    "b2wCorpus=b2wCorpus.drop(b2wCorpus.index[d])\n",
    "d = b2wCorpus.index[b2wCorpus[\"overall_rating\"] > 5].tolist()\n",
    "b2wCorpus=b2wCorpus.drop(b2wCorpus.index[d])\n",
    "\n",
    "print(b2wCorpus.head)"
   ]
  },
  {
   "cell_type": "code",
   "execution_count": 139,
   "metadata": {},
   "outputs": [],
   "source": [
    "# Cleanning function\n",
    "text_cleaning_re = \"@\\S+|https?:\\S+|http?:\\S|[^A-Za-z0-9]+\"\n",
    "def preprocess(text, stem=False):\n",
    "  text = unidecode(text)\n",
    "  text = re.sub(text_cleaning_re, ' ', str(text).lower()).strip()\n",
    "  text = re.sub(\"\\d+\", \"\", text)\n",
    "  text = re.sub(r'(?:^| )\\w(?:$| )', ' ', text).strip()\n",
    "  tokens = []\n",
    "  for token in text.split():\n",
    "    if token not in stop_words:\n",
    "      if stem:\n",
    "        tokens.append(stemmer.stem(token))\n",
    "      else:\n",
    "        tokens.append(token)\n",
    "  return \" \".join(tokens)"
   ]
  },
  {
   "cell_type": "code",
   "execution_count": 140,
   "metadata": {},
   "outputs": [],
   "source": [
    "# Cleanning exec\n",
    "b2wCorpus.review_text = b2wCorpus.review_text.apply(lambda x: preprocess(x))"
   ]
  },
  {
   "cell_type": "code",
   "execution_count": 141,
   "metadata": {},
   "outputs": [
    {
     "name": "stdout",
     "output_type": "stream",
     "text": [
      "<bound method NDFrame.head of         overall_rating                                        review_text\n",
      "0                    4  contente compra entrega rapida unico problema ...\n",
      "1                    4        apenas consegui comprar lindo copo acrilico\n",
      "2                    4  supera agilidade praticidade outras panelas el...\n",
      "3                    4          filho amou parece verdade tantos detalhes\n",
      "4                    5  entrega prazo americanas estao parabens smart ...\n",
      "...                ...                                                ...\n",
      "132368               5  vale usando controle xbox durou semana carga p...\n",
      "132369               5  pratico barato super indico produto corre dia ...\n",
      "132370               4    chegou antes prazo previsto corresponde anuncio\n",
      "132371               1  material fraco poderia ser melhor ficou devend...\n",
      "132372               1  comprei produto chegou avaria devolvi ja vai f...\n",
      "\n",
      "[132373 rows x 2 columns]>\n"
     ]
    }
   ],
   "source": [
    "print(b2wCorpus.head)"
   ]
  },
  {
   "cell_type": "code",
   "execution_count": 142,
   "metadata": {},
   "outputs": [
    {
     "data": {
      "text/plain": [
       "1    27369\n",
       "2     8389\n",
       "3    16315\n",
       "4    32345\n",
       "5    47955\n",
       "Name: overall_rating, dtype: int64"
      ]
     },
     "execution_count": 142,
     "metadata": {},
     "output_type": "execute_result"
    }
   ],
   "source": [
    "b2wCorpus.overall_rating .value_counts().sort_index()"
   ]
  },
  {
   "cell_type": "code",
   "execution_count": 143,
   "metadata": {},
   "outputs": [
    {
     "name": "stdout",
     "output_type": "stream",
     "text": [
      "<bound method NDFrame.head of         overall_rating                                        review_text\n",
      "0                    3  bom produto facil montagem entrega bem rapida ...\n",
      "1                    1  realizei pedido prazo entrega dias uteis nisso...\n",
      "2                    4       excelente produto atendeu todas expectativas\n",
      "3                    5      funciona bem silencioso otimo custo beneficio\n",
      "4                    3  marreta poderes misticos voa ninguem consegue ...\n",
      "...                ...                                                ...\n",
      "132368               5  qualidade simplicidade instalacao uso sao dife...\n",
      "132369               1  preciso noticias mercadoria pois paguei nunca ...\n",
      "132370               5  gostei otimo desempenho facil usar design boni...\n",
      "132371               3  sr recebi produto presteza seguranca infelizme...\n",
      "132372               1  infelizmente comigo nao funcionou acredito ser...\n",
      "\n",
      "[132373 rows x 2 columns]>\n"
     ]
    }
   ],
   "source": [
    "# Partilha\n",
    "b2wCorpus = b2wCorpus.sample(frac=1).reset_index(drop=True)\n",
    "print(b2wCorpus.head)"
   ]
  },
  {
   "cell_type": "code",
   "execution_count": 144,
   "metadata": {},
   "outputs": [
    {
     "data": {
      "image/png": "[encoded data removed]",
      "text/plain": [
       "<Figure size 432x288 with 1 Axes>"
      ]
     },
     "metadata": {},
     "output_type": "display_data"
    },
    {
     "name": "stdout",
     "output_type": "stream",
     "text": [
      "130344\n"
     ]
    }
   ],
   "source": [
    "# histograma de palavras x qtd de linhas\n",
    "Words = [len(linha.split()) for linha in b2wCorpus[\"review_text\"] if len(linha.split()) <=60 ]\n",
    "plt.style.use('ggplot')\n",
    "plt.hist(Words, bins=[0,5,10,15,20,25,30,35,40,45,50,55,60])\n",
    "plt.show()\n",
    "print(len(Words))"
   ]
  },
  {
   "cell_type": "code",
   "execution_count": 145,
   "metadata": {},
   "outputs": [],
   "source": [
    "# Codifica\n",
    "N =  200001\n",
    "with open(\"cbow_s50.txt\", \"r\",encoding='utf-8') as file:\n",
    "    head = [next(file) for x in range(N)]\n",
    "\n",
    "head[0] = str(N-1)+ \" \" + \"50\"+ \"\\n\" # Conserta contagem de palavras\n",
    "with open(\"word2vec_200k.txt\", \"w\",encoding='utf-8') as file:\n",
    "    for line in head:\n",
    "        file.write(line)\n",
    "\n",
    "def vocaIndex(lista, stem=False):\n",
    "    for indice in range(len(lista)):\n",
    "        text=lista[indice].lower()\n",
    "        if text in model.vocab:\n",
    "             lista[indice] = model.vocab[text].index\n",
    "        else: \n",
    "             lista[indice] = '0'\n",
    "    return lista\n",
    "\n",
    "model = KeyedVectors.load_word2vec_format('word2vec_200k.txt')\n",
    "\n",
    "def codifica(text, stem=False):\n",
    "    tokens = nltk.word_tokenize(text)\n",
    "    tokens = vocaIndex(tokens)\n",
    "    return tokens\n",
    "\n",
    "b2wCorpus.review_text = b2wCorpus.review_text.apply(lambda x: codifica(x))"
   ]
  },
  {
   "cell_type": "code",
   "execution_count": 146,
   "metadata": {},
   "outputs": [],
   "source": [
    "b2wCorpus['ord'] = b2wCorpus.apply(lambda row: len(row.review_text), axis=1)"
   ]
  },
  {
   "cell_type": "code",
   "execution_count": 147,
   "metadata": {},
   "outputs": [
    {
     "data": {
      "text/plain": [
       "(132373, 3)"
      ]
     },
     "execution_count": 147,
     "metadata": {},
     "output_type": "execute_result"
    }
   ],
   "source": [
    "b2wCorpus.shape"
   ]
  },
  {
   "cell_type": "code",
   "execution_count": 148,
   "metadata": {},
   "outputs": [],
   "source": [
    "#b2wCorpus = b2wCorpus[b2wCorpus.ord != 0]\n",
    "b2wCorpus = b2wCorpus.drop(b2wCorpus[b2wCorpus.ord < 10].index)\n",
    "b2wCorpus = b2wCorpus.drop(b2wCorpus[b2wCorpus.ord > 50].index)"
   ]
  },
  {
   "cell_type": "code",
   "execution_count": 149,
   "metadata": {},
   "outputs": [],
   "source": [
    "b2wCorpus['overall_rating'] = b2wCorpus.overall_rating.apply(lambda x: x - 1)"
   ]
  },
  {
   "cell_type": "code",
   "execution_count": 150,
   "metadata": {},
   "outputs": [
    {
     "data": {
      "text/plain": [
       "(68406, 3)"
      ]
     },
     "execution_count": 150,
     "metadata": {},
     "output_type": "execute_result"
    }
   ],
   "source": [
    "b2wCorpus.shape"
   ]
  },
  {
   "cell_type": "code",
   "execution_count": 151,
   "metadata": {},
   "outputs": [],
   "source": [
    "b2wCorpus.reset_index(drop=True, inplace=True)"
   ]
  },
  {
   "cell_type": "code",
   "execution_count": 152,
   "metadata": {},
   "outputs": [
    {
     "data": {
      "text/html": [
       "<div>\n",
       "<style scoped>\n",
       "    .dataframe tbody tr th:only-of-type {\n",
       "        vertical-align: middle;\n",
       "    }\n",
       "\n",
       "    .dataframe tbody tr th {\n",
       "        vertical-align: top;\n",
       "    }\n",
       "\n",
       "    .dataframe thead th {\n",
       "        text-align: right;\n",
       "    }\n",
       "</style>\n",
       "<table border=\"1\" class=\"dataframe\">\n",
       "  <thead>\n",
       "    <tr style=\"text-align: right;\">\n",
       "      <th></th>\n",
       "      <th>overall_rating</th>\n",
       "      <th>review_text</th>\n",
       "      <th>ord</th>\n",
       "    </tr>\n",
       "  </thead>\n",
       "  <tbody>\n",
       "    <tr>\n",
       "      <th>0</th>\n",
       "      <td>2</td>\n",
       "      <td>[226, 902, 54465, 5117, 2499, 70, 85324, 70, 1...</td>\n",
       "      <td>34</td>\n",
       "    </tr>\n",
       "    <tr>\n",
       "      <th>1</th>\n",
       "      <td>0</td>\n",
       "      <td>[58469, 600, 566, 2499, 173, 144754, 2319, 127...</td>\n",
       "      <td>19</td>\n",
       "    </tr>\n",
       "    <tr>\n",
       "      <th>2</th>\n",
       "      <td>2</td>\n",
       "      <td>[49582, 1740, 0, 18141, 31021, 1538, 0, 43404,...</td>\n",
       "      <td>23</td>\n",
       "    </tr>\n",
       "    <tr>\n",
       "      <th>3</th>\n",
       "      <td>3</td>\n",
       "      <td>[18874, 265, 63210, 230, 10570, 321, 2409, 226...</td>\n",
       "      <td>13</td>\n",
       "    </tr>\n",
       "    <tr>\n",
       "      <th>4</th>\n",
       "      <td>0</td>\n",
       "      <td>[4177, 30284, 9735, 902, 12967, 151, 239, 2638...</td>\n",
       "      <td>11</td>\n",
       "    </tr>\n",
       "  </tbody>\n",
       "</table>\n",
       "</div>"
      ],
      "text/plain": [
       "   overall_rating                                        review_text  ord\n",
       "0               2  [226, 902, 54465, 5117, 2499, 70, 85324, 70, 1...   34\n",
       "1               0  [58469, 600, 566, 2499, 173, 144754, 2319, 127...   19\n",
       "2               2  [49582, 1740, 0, 18141, 31021, 1538, 0, 43404,...   23\n",
       "3               3  [18874, 265, 63210, 230, 10570, 321, 2409, 226...   13\n",
       "4               0  [4177, 30284, 9735, 902, 12967, 151, 239, 2638...   11"
      ]
     },
     "execution_count": 152,
     "metadata": {},
     "output_type": "execute_result"
    }
   ],
   "source": [
    "b2wCorpus.head()"
   ]
  },
  {
   "cell_type": "code",
   "execution_count": 153,
   "metadata": {},
   "outputs": [
    {
     "data": {
      "text/plain": [
       "pandas.core.series.Series"
      ]
     },
     "execution_count": 153,
     "metadata": {},
     "output_type": "execute_result"
    }
   ],
   "source": [
    "type(b2wCorpus.review_text)"
   ]
  },
  {
   "cell_type": "code",
   "execution_count": 154,
   "metadata": {},
   "outputs": [],
   "source": [
    "#b2wCorpus.review_text.str.rjust(width=50, fillchar='0')\n",
    "#np.reshape(y_train,(-1))\n",
    "\n",
    "b2wCorpus.review_text = keras.preprocessing.sequence.pad_sequences(b2wCorpus.apply(lambda row: np.reshape(row.review_text,(-1)), axis=1), maxlen=50, padding='post').tolist()"
   ]
  },
  {
   "cell_type": "code",
   "execution_count": 155,
   "metadata": {},
   "outputs": [
    {
     "data": {
      "text/html": [
       "<div>\n",
       "<style scoped>\n",
       "    .dataframe tbody tr th:only-of-type {\n",
       "        vertical-align: middle;\n",
       "    }\n",
       "\n",
       "    .dataframe tbody tr th {\n",
       "        vertical-align: top;\n",
       "    }\n",
       "\n",
       "    .dataframe thead th {\n",
       "        text-align: right;\n",
       "    }\n",
       "</style>\n",
       "<table border=\"1\" class=\"dataframe\">\n",
       "  <thead>\n",
       "    <tr style=\"text-align: right;\">\n",
       "      <th></th>\n",
       "      <th>overall_rating</th>\n",
       "      <th>review_text</th>\n",
       "      <th>ord</th>\n",
       "    </tr>\n",
       "  </thead>\n",
       "  <tbody>\n",
       "    <tr>\n",
       "      <th>0</th>\n",
       "      <td>2</td>\n",
       "      <td>[226, 902, 54465, 5117, 2499, 70, 85324, 70, 1...</td>\n",
       "      <td>34</td>\n",
       "    </tr>\n",
       "    <tr>\n",
       "      <th>1</th>\n",
       "      <td>0</td>\n",
       "      <td>[58469, 600, 566, 2499, 173, 144754, 2319, 127...</td>\n",
       "      <td>19</td>\n",
       "    </tr>\n",
       "    <tr>\n",
       "      <th>2</th>\n",
       "      <td>2</td>\n",
       "      <td>[49582, 1740, 0, 18141, 31021, 1538, 0, 43404,...</td>\n",
       "      <td>23</td>\n",
       "    </tr>\n",
       "    <tr>\n",
       "      <th>3</th>\n",
       "      <td>3</td>\n",
       "      <td>[18874, 265, 63210, 230, 10570, 321, 2409, 226...</td>\n",
       "      <td>13</td>\n",
       "    </tr>\n",
       "    <tr>\n",
       "      <th>4</th>\n",
       "      <td>0</td>\n",
       "      <td>[4177, 30284, 9735, 902, 12967, 151, 239, 2638...</td>\n",
       "      <td>11</td>\n",
       "    </tr>\n",
       "  </tbody>\n",
       "</table>\n",
       "</div>"
      ],
      "text/plain": [
       "   overall_rating                                        review_text  ord\n",
       "0               2  [226, 902, 54465, 5117, 2499, 70, 85324, 70, 1...   34\n",
       "1               0  [58469, 600, 566, 2499, 173, 144754, 2319, 127...   19\n",
       "2               2  [49582, 1740, 0, 18141, 31021, 1538, 0, 43404,...   23\n",
       "3               3  [18874, 265, 63210, 230, 10570, 321, 2409, 226...   13\n",
       "4               0  [4177, 30284, 9735, 902, 12967, 151, 239, 2638...   11"
      ]
     },
     "execution_count": 155,
     "metadata": {},
     "output_type": "execute_result"
    }
   ],
   "source": [
    "b2wCorpus.head()"
   ]
  },
  {
   "cell_type": "code",
   "execution_count": 156,
   "metadata": {},
   "outputs": [],
   "source": [
    "# Função de split\n",
    "def train_validate_test_split(df, train_percent=.65, validate_percent=.1, seed=42):\n",
    "    np.random.seed(seed)\n",
    "    perm = np.random.permutation(df.index)\n",
    "    m = len(df.index)\n",
    "    train_end = int(train_percent * m)\n",
    "    validate_end = int(validate_percent * m) + train_end\n",
    "    train = df.iloc[perm[:train_end]]\n",
    "    validate = df.iloc[perm[train_end:validate_end]]\n",
    "    test = df.iloc[perm[validate_end:]]\n",
    "    return train, validate, test"
   ]
  },
  {
   "cell_type": "code",
   "execution_count": 157,
   "metadata": {},
   "outputs": [],
   "source": [
    "b2wCorpusTrain, b2wCorpusValidate, b2wCorpusTest = train_validate_test_split(b2wCorpus)"
   ]
  },
  {
   "cell_type": "code",
   "execution_count": 158,
   "metadata": {},
   "outputs": [
    {
     "data": {
      "text/html": [
       "<div>\n",
       "<style scoped>\n",
       "    .dataframe tbody tr th:only-of-type {\n",
       "        vertical-align: middle;\n",
       "    }\n",
       "\n",
       "    .dataframe tbody tr th {\n",
       "        vertical-align: top;\n",
       "    }\n",
       "\n",
       "    .dataframe thead th {\n",
       "        text-align: right;\n",
       "    }\n",
       "</style>\n",
       "<table border=\"1\" class=\"dataframe\">\n",
       "  <thead>\n",
       "    <tr style=\"text-align: right;\">\n",
       "      <th></th>\n",
       "      <th>overall_rating</th>\n",
       "      <th>review_text</th>\n",
       "      <th>ord</th>\n",
       "    </tr>\n",
       "  </thead>\n",
       "  <tbody>\n",
       "    <tr>\n",
       "      <th>35241</th>\n",
       "      <td>0</td>\n",
       "      <td>[7256, 12783, 128, 225, 162466, 1299, 6054, 88...</td>\n",
       "      <td>50</td>\n",
       "    </tr>\n",
       "    <tr>\n",
       "      <th>703</th>\n",
       "      <td>0</td>\n",
       "      <td>[1893, 21841, 103, 76, 635, 1912, 2508, 958, 7...</td>\n",
       "      <td>50</td>\n",
       "    </tr>\n",
       "    <tr>\n",
       "      <th>39371</th>\n",
       "      <td>3</td>\n",
       "      <td>[7051, 33125, 45326, 1454, 7497, 13597, 118753...</td>\n",
       "      <td>50</td>\n",
       "    </tr>\n",
       "    <tr>\n",
       "      <th>3451</th>\n",
       "      <td>4</td>\n",
       "      <td>[6376, 902, 0, 191205, 131710, 55606, 0, 0, 0,...</td>\n",
       "      <td>50</td>\n",
       "    </tr>\n",
       "    <tr>\n",
       "      <th>2617</th>\n",
       "      <td>0</td>\n",
       "      <td>[9735, 760, 965, 5301, 5117, 1118, 2566, 27091...</td>\n",
       "      <td>50</td>\n",
       "    </tr>\n",
       "  </tbody>\n",
       "</table>\n",
       "</div>"
      ],
      "text/plain": [
       "       overall_rating                                        review_text  ord\n",
       "35241               0  [7256, 12783, 128, 225, 162466, 1299, 6054, 88...   50\n",
       "703                 0  [1893, 21841, 103, 76, 635, 1912, 2508, 958, 7...   50\n",
       "39371               3  [7051, 33125, 45326, 1454, 7497, 13597, 118753...   50\n",
       "3451                4  [6376, 902, 0, 191205, 131710, 55606, 0, 0, 0,...   50\n",
       "2617                0  [9735, 760, 965, 5301, 5117, 1118, 2566, 27091...   50"
      ]
     },
     "execution_count": 158,
     "metadata": {},
     "output_type": "execute_result"
    }
   ],
   "source": [
    "b2wCorpusTrain=b2wCorpusTrain.reindex(b2wCorpusTrain['ord'].sort_values(ascending=False).index)\n",
    "b2wCorpusTrain.head()"
   ]
  },
  {
   "cell_type": "code",
   "execution_count": 159,
   "metadata": {},
   "outputs": [
    {
     "data": {
      "text/plain": [
       "<bound method NDFrame.head of        overall_rating                                        review_text  ord\n",
       "35006               0  [902, 7804, 3013, 76, 0, 0, 902, 3013, 0, 1680...   20\n",
       "12039               3  [201, 3331, 193, 6138, 6034, 388, 0, 1290, 249...   12\n",
       "1205                1  [2992, 32887, 112, 6341, 15480, 7804, 1593, 11...   11\n",
       "52717               4  [9735, 47785, 1278, 33424, 5301, 40017, 17382,...   23\n",
       "55836               0  [168, 9735, 186, 1229, 0, 45058, 3656, 49233, ...   41\n",
       "...               ...                                                ...  ...\n",
       "33447               4  [8557, 3690, 978, 0, 532, 1681, 0, 428, 131, 5...   11\n",
       "41535               3  [101071, 902, 566, 2499, 8089, 26328, 5234, 14...   20\n",
       "54315               0  [9735, 169, 274, 66523, 331, 254, 7804, 18152,...   44\n",
       "34120               0  [902, 2773, 2789, 2722, 8567, 2424, 31172, 362...   22\n",
       "3902                2  [63936, 8215, 45902, 121, 3926, 63700, 96, 362...   10\n",
       "\n",
       "[6840 rows x 3 columns]>"
      ]
     },
     "execution_count": 159,
     "metadata": {},
     "output_type": "execute_result"
    }
   ],
   "source": [
    "#b2wCorpusValidate=b2wCorpusValidate.reindex(b2wCorpusValidate['ord'].sort_values(ascending=False).index)\n",
    "b2wCorpusValidate.head"
   ]
  },
  {
   "cell_type": "code",
   "execution_count": 160,
   "metadata": {},
   "outputs": [
    {
     "data": {
      "text/plain": [
       "<bound method NDFrame.head of        overall_rating                                        review_text  ord\n",
       "62590               4  [2989, 2104, 5841, 26382, 6404, 7958, 6376, 88...   50\n",
       "20765               4  [331, 21587, 2018, 31839, 21469, 5952, 2625, 1...   50\n",
       "20169               0  [9735, 902, 86, 112, 578, 2499, 86, 0, 7804, 5...   50\n",
       "3326                0  [43351, 13151, 439, 9735, 775, 173, 775, 12066...   50\n",
       "63792               1  [7256, 103, 31760, 30801, 7804, 11936, 70, 780...   50\n",
       "...               ...                                                ...  ...\n",
       "20426               4  [532, 7278, 15607, 3690, 153, 167, 0, 1100, 56...   10\n",
       "30313               4  [12783, 315, 8984, 5785, 929, 110, 1959, 1159,...   10\n",
       "23238               0  [2420, 45525, 7804, 7341, 2232, 0, 45525, 96, ...   10\n",
       "55913               4  [24607, 20341, 225, 5437, 3615, 122, 2499, 902...   10\n",
       "320                 4  [5984, 17525, 0, 596, 29822, 13808, 19610, 161...   10\n",
       "\n",
       "[17103 rows x 3 columns]>"
      ]
     },
     "execution_count": 160,
     "metadata": {},
     "output_type": "execute_result"
    }
   ],
   "source": [
    "b2wCorpusTest=b2wCorpusTest.reindex(b2wCorpusTest['ord'].sort_values(ascending=False).index)\n",
    "b2wCorpusTest.head"
   ]
  },
  {
   "cell_type": "code",
   "execution_count": 161,
   "metadata": {},
   "outputs": [
    {
     "data": {
      "text/plain": [
       "pandas.core.series.Series"
      ]
     },
     "execution_count": 161,
     "metadata": {},
     "output_type": "execute_result"
    }
   ],
   "source": [
    "type(b2wCorpus.review_text)"
   ]
  },
  {
   "cell_type": "code",
   "execution_count": 162,
   "metadata": {},
   "outputs": [],
   "source": [
    "# Treino, Validação e teste\n",
    "RANDOM_SEED = 42\n",
    "x_train =  [ emb for emb in b2wCorpusTrain.review_text]\n",
    "y_train =   b2wCorpusTrain.overall_rating\n",
    "x_val = [ emb for emb in b2wCorpusValidate.review_text ]\n",
    "y_val = b2wCorpusValidate.overall_rating\n",
    "x_train = np.asarray(x_train)\n",
    "x_val =np.asarray(x_val)\n",
    "\n",
    "np.random.seed(RANDOM_SEED)\n",
    "model = KeyedVectors.load_word2vec_format('word2vec_200k.txt')\n",
    "emb = model.get_keras_embedding()"
   ]
  },
  {
   "cell_type": "code",
   "execution_count": null,
   "metadata": {},
   "outputs": [
    {
     "name": "stdout",
     "output_type": "stream",
     "text": [
      "Epoch 1/50\n",
      "2779/2779 [==============================] - 53s 19ms/step - loss: 1.3790 - accuracy: 0.4344 - val_loss: 1.2121 - val_accuracy: 0.5140\n",
      "Epoch 2/50\n",
      "2779/2779 [==============================] - 52s 19ms/step - loss: 1.2416 - accuracy: 0.5009 - val_loss: 1.1654 - val_accuracy: 0.5303\n",
      "Epoch 3/50\n",
      "2779/2779 [==============================] - 52s 19ms/step - loss: 1.1937 - accuracy: 0.5140 - val_loss: 1.0929 - val_accuracy: 0.5371\n",
      "Epoch 4/50\n",
      "2779/2779 [==============================] - 52s 19ms/step - loss: 1.1609 - accuracy: 0.5225 - val_loss: 1.0686 - val_accuracy: 0.5437\n",
      "Epoch 5/50\n",
      "2779/2779 [==============================] - 52s 19ms/step - loss: 1.1317 - accuracy: 0.5365 - val_loss: 1.0459 - val_accuracy: 0.5673\n",
      "Epoch 6/50\n",
      "2779/2779 [==============================] - 52s 19ms/step - loss: 1.1020 - accuracy: 0.5495 - val_loss: 1.0295 - val_accuracy: 0.5769\n",
      "Epoch 7/50\n",
      "2779/2779 [==============================] - 52s 19ms/step - loss: 1.0843 - accuracy: 0.5547 - val_loss: 1.0199 - val_accuracy: 0.5776\n",
      "Epoch 8/50\n",
      "2779/2779 [==============================] - 53s 19ms/step - loss: 1.0691 - accuracy: 0.5624 - val_loss: 0.9980 - val_accuracy: 0.5795\n",
      "Epoch 9/50\n",
      "2779/2779 [==============================] - 53s 19ms/step - loss: 1.0576 - accuracy: 0.5653 - val_loss: 1.0005 - val_accuracy: 0.5835\n",
      "Epoch 10/50\n",
      "2779/2779 [==============================] - 52s 19ms/step - loss: 1.0428 - accuracy: 0.5743 - val_loss: 0.9987 - val_accuracy: 0.5901\n",
      "Epoch 11/50\n",
      "2779/2779 [==============================] - 51s 18ms/step - loss: 1.0316 - accuracy: 0.5752 - val_loss: 0.9963 - val_accuracy: 0.5912\n",
      "Epoch 12/50\n",
      "2779/2779 [==============================] - 52s 19ms/step - loss: 1.0220 - accuracy: 0.5774 - val_loss: 0.9717 - val_accuracy: 0.5997\n",
      "Epoch 13/50\n",
      "2779/2779 [==============================] - 52s 19ms/step - loss: 1.0159 - accuracy: 0.5821 - val_loss: 0.9677 - val_accuracy: 0.5997\n",
      "Epoch 14/50\n",
      "2779/2779 [==============================] - 53s 19ms/step - loss: 1.0108 - accuracy: 0.5834 - val_loss: 0.9599 - val_accuracy: 0.6020\n",
      "Epoch 15/50\n",
      "2779/2779 [==============================] - 51s 18ms/step - loss: 1.0061 - accuracy: 0.5826 - val_loss: 0.9607 - val_accuracy: 0.6015\n",
      "Epoch 16/50\n",
      "2779/2779 [==============================] - 54s 19ms/step - loss: 0.9962 - accuracy: 0.5899 - val_loss: 0.9569 - val_accuracy: 0.5999\n",
      "Epoch 17/50\n",
      "2779/2779 [==============================] - 53s 19ms/step - loss: 0.9926 - accuracy: 0.5892 - val_loss: 0.9589 - val_accuracy: 0.5996\n",
      "Epoch 18/50\n",
      "2779/2779 [==============================] - 54s 19ms/step - loss: 0.9866 - accuracy: 0.5917 - val_loss: 0.9521 - val_accuracy: 0.6006\n",
      "Epoch 19/50\n",
      "2779/2779 [==============================] - 49s 18ms/step - loss: 0.9842 - accuracy: 0.5930 - val_loss: 0.9540 - val_accuracy: 0.6013\n",
      "Epoch 20/50\n",
      "2779/2779 [==============================] - 49s 18ms/step - loss: 0.9775 - accuracy: 0.5947 - val_loss: 0.9547 - val_accuracy: 0.6073\n",
      "Epoch 21/50\n",
      "2779/2779 [==============================] - 49s 18ms/step - loss: 0.9721 - accuracy: 0.5997 - val_loss: 0.9591 - val_accuracy: 0.6063\n",
      "Epoch 22/50\n",
      "2779/2779 [==============================] - 49s 18ms/step - loss: 0.9666 - accuracy: 0.6004 - val_loss: 0.9599 - val_accuracy: 0.6063\n",
      "Epoch 23/50\n",
      "2779/2779 [==============================] - 50s 18ms/step - loss: 0.9669 - accuracy: 0.5974 - val_loss: 0.9597 - val_accuracy: 0.5994\n",
      "Epoch 24/50\n",
      "2779/2779 [==============================] - 51s 18ms/step - loss: 0.9618 - accuracy: 0.6003 - val_loss: 0.9488 - val_accuracy: 0.6079\n",
      "Epoch 25/50\n",
      "2779/2779 [==============================] - 50s 18ms/step - loss: 0.9569 - accuracy: 0.6048 - val_loss: 0.9438 - val_accuracy: 0.6050\n",
      "Epoch 26/50\n",
      "2779/2779 [==============================] - 50s 18ms/step - loss: 0.9527 - accuracy: 0.6053 - val_loss: 0.9504 - val_accuracy: 0.6067\n",
      "Epoch 27/50\n",
      "2779/2779 [==============================] - 51s 18ms/step - loss: 0.9510 - accuracy: 0.6076 - val_loss: 0.9450 - val_accuracy: 0.6096\n",
      "Epoch 28/50\n",
      "2779/2779 [==============================] - 52s 19ms/step - loss: 0.9485 - accuracy: 0.6077 - val_loss: 0.9467 - val_accuracy: 0.6115\n",
      "Epoch 29/50\n",
      "2779/2779 [==============================] - 53s 19ms/step - loss: 0.9474 - accuracy: 0.6086 - val_loss: 0.9419 - val_accuracy: 0.6099\n",
      "Epoch 30/50\n",
      "2779/2779 [==============================] - 53s 19ms/step - loss: 0.9434 - accuracy: 0.6107 - val_loss: 0.9476 - val_accuracy: 0.6080\n",
      "Epoch 31/50\n",
      "2779/2779 [==============================] - 53s 19ms/step - loss: 0.9411 - accuracy: 0.6093 - val_loss: 0.9475 - val_accuracy: 0.6089\n",
      "Epoch 32/50\n",
      "2779/2779 [==============================] - 53s 19ms/step - loss: 0.9406 - accuracy: 0.6099 - val_loss: 0.9504 - val_accuracy: 0.6113\n",
      "Epoch 33/50\n",
      "2779/2779 [==============================] - 53s 19ms/step - loss: 0.9384 - accuracy: 0.6105 - val_loss: 0.9557 - val_accuracy: 0.6104\n",
      "Epoch 34/50\n",
      "2779/2779 [==============================] - 53s 19ms/step - loss: 0.9360 - accuracy: 0.6092 - val_loss: 0.9458 - val_accuracy: 0.6000\n",
      "Epoch 35/50\n",
      "2779/2779 [==============================] - 53s 19ms/step - loss: 0.9340 - accuracy: 0.6128 - val_loss: 0.9611 - val_accuracy: 0.6070\n",
      "Epoch 36/50\n",
      "1518/2779 [===============>..............] - ETA: 22s - loss: 0.9234 - accuracy: 0.6148"
     ]
    }
   ],
   "source": [
    "from tensorflow.keras.losses import sparse_categorical_crossentropy\n",
    "SEQUENCE_MAXLEN = 50\n",
    "model = keras.Sequential()\n",
    "model.add(layers.Input(shape=(SEQUENCE_MAXLEN, )))\n",
    "model.add(emb)\n",
    "model.add(keras.layers.LSTM(128, dropout=0.5))\n",
    "#model.add(Dropout(0.50))\n",
    "model.add(keras.layers.Dense(5, activation='softmax'))\n",
    "#opt = tf.keras.optimizers.SGD(learning_rate=.1, momentum=.5)\n",
    "#opt = tf.keras.optimizers.Adamax(learning_rate=0.01, beta_1=.9, beta_2=.9, epsilon=1e-07, name=\"Adamax\")\n",
    "#model.compile(optimizer=opt, loss=categorical_crossentropy, metrics=['acc', 'mae'])\n",
    "opt=\"adam\"\n",
    "model.compile(optimizer=opt,loss=sparse_categorical_crossentropy, metrics=[\"accuracy\"])\n",
    "history = model.fit(\n",
    "    x= x_train, y=y_train, batch_size=16, epochs=50, validation_data=(x_val, y_val))"
   ]
  },
  {
   "cell_type": "code",
   "execution_count": null,
   "metadata": {},
   "outputs": [],
   "source": []
  },
  {
   "cell_type": "code",
   "execution_count": null,
   "metadata": {},
   "outputs": [],
   "source": [
    "dropout=0.5"
   ]
  },
  {
   "cell_type": "code",
   "execution_count": null,
   "metadata": {},
   "outputs": [],
   "source": [
    "plt.title('Loss')\n",
    "plt.xlabel('epochs')\n",
    "plt.ylabel('Loss')\n",
    "plt.plot(history.history['loss'], label='train')\n",
    "plt.plot(history.history['val_loss'], label='valid')\n",
    "plt.legend()\n",
    "plt.show();"
   ]
  },
  {
   "cell_type": "code",
   "execution_count": null,
   "metadata": {},
   "outputs": [],
   "source": [
    "plt.title('Accuracy')\n",
    "plt.xlabel('epochs')\n",
    "plt.ylabel('accuracy')\n",
    "plt.plot(history.history['accuracy'], label='train')\n",
    "plt.plot(history.history['val_accuracy'], label='valid')\n",
    "plt.legend()\n",
    "plt.show();"
   ]
  },
  {
   "cell_type": "code",
   "execution_count": null,
   "metadata": {},
   "outputs": [],
   "source": []
  },
  {
   "cell_type": "code",
   "execution_count": null,
   "metadata": {},
   "outputs": [],
   "source": []
  }
 ],
 "metadata": {
  "kernelspec": {
   "display_name": "Python 3",
   "language": "python",
   "name": "python3"
  },
  "language_info": {
   "codemirror_mode": {
    "name": "ipython",
    "version": 3
   },
   "file_extension": ".py",
   "mimetype": "text/x-python",
   "name": "python",
   "nbconvert_exporter": "python",
   "pygments_lexer": "ipython3",
   "version": "3.8.5"
  }
 },
 "nbformat": 4,
 "nbformat_minor": 4
}
