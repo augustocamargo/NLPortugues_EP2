{
 "cells": [
  {
   "cell_type": "code",
   "execution_count": 4,
   "metadata": {},
   "outputs": [
    {
     "name": "stderr",
     "output_type": "stream",
     "text": [
      "[nltk_data] Downloading package stopwords to\n",
      "[nltk_data]     C:\\Users\\sp_au\\AppData\\Roaming\\nltk_data...\n",
      "[nltk_data]   Package stopwords is already up-to-date!\n",
      "[nltk_data] Downloading package punkt to\n",
      "[nltk_data]     C:\\Users\\sp_au\\AppData\\Roaming\\nltk_data...\n",
      "[nltk_data]   Package punkt is already up-to-date!\n"
     ]
    }
   ],
   "source": [
    "import tensorflow as tf\n",
    "from tensorflow import keras\n",
    "import numpy as np\n",
    "import pandas as pd\n",
    "import matplotlib.pyplot as plt\n",
    "from sklearn.model_selection import train_test_split\n",
    "from tensorflow.keras.layers.experimental.preprocessing import TextVectorization\n",
    "import nltk\n",
    "nltk.download('stopwords')\n",
    "stop_words = nltk.corpus.stopwords.words('portuguese')\n",
    "from nltk.stem import SnowballStemmer\n",
    "nltk.download('punkt')\n",
    "stemmer = SnowballStemmer('portuguese')\n",
    "import re\n",
    "from unidecode import unidecode\n",
    "from keras.regularizers import l2\n",
    "from gensim.models import KeyedVectors\n",
    "from tensorflow.keras import layers\n",
    "from tensorflow.keras.losses import categorical_crossentropy"
   ]
  },
  {
   "cell_type": "markdown",
   "metadata": {},
   "source": [
    "## Pipeline "
   ]
  },
  {
   "cell_type": "code",
   "execution_count": 5,
   "metadata": {},
   "outputs": [
    {
     "name": "stdout",
     "output_type": "stream",
     "text": [
      "<bound method NDFrame.head of        overall_rating                                        review_text\n",
      "0                   4  Estou contente com a compra entrega rápida o ú...\n",
      "1                   4  Por apenas R$1994.20,eu consegui comprar esse ...\n",
      "2                   4  SUPERA EM AGILIDADE E PRATICIDADE OUTRAS PANEL...\n",
      "3                   4  MEU FILHO AMOU! PARECE DE VERDADE COM TANTOS D...\n",
      "4                   5  A entrega foi no prazo, as americanas estão de...\n",
      "...               ...                                                ...\n",
      "49995               5  É com muito prazer que avalio esse produto! Si...\n",
      "49996               4  é uma bicicleta bonita e bonita, com o tempo v...\n",
      "49997               5  O produto chegou 8 dias antes do prazo e em pe...\n",
      "49998               2  O produto até chegou dentro do prazo, só que e...\n",
      "49999               5  Excelente! Superou minhas expectativas! Ótimo ...\n",
      "\n",
      "[50000 rows x 2 columns]>\n"
     ]
    }
   ],
   "source": [
    "# Base original da B2W, sem cortes + clean de overall_rating\n",
    "b2wCorpus = pd.read_csv(\"B2W-Reviews01.csv\",\";\",usecols=['review_text','overall_rating'],nrows=50000)\n",
    "\n",
    "# Filtro\n",
    "d = b2wCorpus.index[b2wCorpus[\"overall_rating\"] < 1].tolist()\n",
    "b2wCorpus=b2wCorpus.drop(b2wCorpus.index[d])\n",
    "d = b2wCorpus.index[b2wCorpus[\"overall_rating\"] > 5].tolist()\n",
    "b2wCorpus=b2wCorpus.drop(b2wCorpus.index[d])\n",
    "\n",
    "print(b2wCorpus.head)"
   ]
  },
  {
   "cell_type": "code",
   "execution_count": 6,
   "metadata": {},
   "outputs": [],
   "source": [
    "# Cleanning function\n",
    "text_cleaning_re = \"@\\S+|https?:\\S+|http?:\\S|[^A-Za-z0-9]+\"\n",
    "def preprocess(text, stem=False):\n",
    "  text = unidecode(text)\n",
    "  text = re.sub(text_cleaning_re, ' ', str(text).lower()).strip()\n",
    "  text = re.sub(\"\\d+\", \"\", text)\n",
    "  text = re.sub(r'(?:^| )\\w(?:$| )', ' ', text).strip()\n",
    "  tokens = []\n",
    "  for token in text.split():\n",
    "    if token not in stop_words:\n",
    "      if stem:\n",
    "        tokens.append(stemmer.stem(token))\n",
    "      else:\n",
    "        tokens.append(token)\n",
    "  return \" \".join(tokens)"
   ]
  },
  {
   "cell_type": "code",
   "execution_count": 7,
   "metadata": {},
   "outputs": [],
   "source": [
    "# Cleanning exec\n",
    "b2wCorpus.review_text = b2wCorpus.review_text.apply(lambda x: preprocess(x))"
   ]
  },
  {
   "cell_type": "code",
   "execution_count": 8,
   "metadata": {},
   "outputs": [
    {
     "name": "stdout",
     "output_type": "stream",
     "text": [
      "<bound method NDFrame.head of        overall_rating                                        review_text\n",
      "0                   4  contente compra entrega rapida unico problema ...\n",
      "1                   4        apenas consegui comprar lindo copo acrilico\n",
      "2                   4  supera agilidade praticidade outras panelas el...\n",
      "3                   4          filho amou parece verdade tantos detalhes\n",
      "4                   5  entrega prazo americanas estao parabens smart ...\n",
      "...               ...                                                ...\n",
      "49995               5  prazer avalio produto simplesmente maravilhoso...\n",
      "49996               4  bicicleta bonita bonita tempo veremos durabili...\n",
      "49997               5    produto chegou dias antes prazo perfeito estado\n",
      "49998               2  produto ate chegou dentro prazo so espero nunc...\n",
      "49999               5  excelente superou expectativas otimo desempenh...\n",
      "\n",
      "[50000 rows x 2 columns]>\n"
     ]
    }
   ],
   "source": [
    "print(b2wCorpus.head)"
   ]
  },
  {
   "cell_type": "code",
   "execution_count": 9,
   "metadata": {},
   "outputs": [
    {
     "data": {
      "text/plain": [
       "1     9538\n",
       "2     3179\n",
       "3     6121\n",
       "4    12529\n",
       "5    18633\n",
       "Name: overall_rating, dtype: int64"
      ]
     },
     "execution_count": 9,
     "metadata": {},
     "output_type": "execute_result"
    }
   ],
   "source": [
    "b2wCorpus.overall_rating .value_counts().sort_index()"
   ]
  },
  {
   "cell_type": "code",
   "execution_count": 10,
   "metadata": {},
   "outputs": [
    {
     "data": {
      "image/png": "[encoded data removed]",
      "text/plain": [
       "<Figure size 432x288 with 1 Axes>"
      ]
     },
     "metadata": {},
     "output_type": "display_data"
    },
    {
     "name": "stdout",
     "output_type": "stream",
     "text": [
      "49169\n"
     ]
    }
   ],
   "source": [
    "# histograma de palavras x qtd de linhas\n",
    "Words = [len(linha.split()) for linha in b2wCorpus[\"review_text\"] if len(linha.split()) <=60 ]\n",
    "plt.style.use('ggplot')\n",
    "plt.hist(Words, bins=[0,5,10,15,20,25,30,35,40,45,50,55,60])\n",
    "plt.show()\n",
    "print(len(Words))"
   ]
  },
  {
   "cell_type": "code",
   "execution_count": 11,
   "metadata": {},
   "outputs": [
    {
     "name": "stdout",
     "output_type": "stream",
     "text": [
      "<bound method NDFrame.head of        overall_rating                                        review_text\n",
      "0                   5     amei resultado produto recomendaria sim amigas\n",
      "1                   5  entrega rapida previsto veio tudo bem embalado...\n",
      "2                   4  recomendo produtos otima qualidade entrega rap...\n",
      "3                   4  funciona blz faz carnes pao alho rapido gostei...\n",
      "4                   2  funciona propoe boa qualidade porem ter pecas ...\n",
      "...               ...                                                ...\n",
      "49995               1  opiniao americanas pessimo lugar efetuar compr...\n",
      "49996               3  nao usei ainda xbox nao chegou esperando chega...\n",
      "49997               4  produto otimo faz diversos paes ainda posso pr...\n",
      "49998               1      contato fabricante dificilimo nao dao solucao\n",
      "49999               4  vale relogio leve duravel pratico infelizmente...\n",
      "\n",
      "[50000 rows x 2 columns]>\n"
     ]
    }
   ],
   "source": [
    "# Partilha\n",
    "b2wCorpus = b2wCorpus.sample(frac=1).reset_index(drop=True)\n",
    "print(b2wCorpus.head)"
   ]
  },
  {
   "cell_type": "code",
   "execution_count": 12,
   "metadata": {},
   "outputs": [],
   "source": [
    "# Codifica\n",
    "N =  200001\n",
    "with open(\"cbow_s50.txt\", \"r\",encoding='utf-8') as file:\n",
    "    head = [next(file) for x in range(N)]\n",
    "\n",
    "head[0] = str(N-1)+ \" \" + \"50\"+ \"\\n\" # Conserta contagem de palavras\n",
    "with open(\"word2vec_200k.txt\", \"w\",encoding='utf-8') as file:\n",
    "    for line in head:\n",
    "        file.write(line)\n",
    "\n",
    "def vocaIndex(lista, stem=False):\n",
    "    for indice in range(len(lista)):\n",
    "        text=lista[indice].lower()\n",
    "        if text in model.vocab:\n",
    "             lista[indice] = model.vocab[text].index\n",
    "        else: \n",
    "             lista[indice] = '0'\n",
    "    return lista\n",
    "\n",
    "model = KeyedVectors.load_word2vec_format('word2vec_200k.txt')\n",
    "\n",
    "def codifica(text, stem=False):\n",
    "    tokens = nltk.word_tokenize(text)\n",
    "    tokens = vocaIndex(tokens)\n",
    "    return tokens\n",
    "\n",
    "b2wCorpus.review_text = b2wCorpus.review_text.apply(lambda x: codifica(x))"
   ]
  },
  {
   "cell_type": "code",
   "execution_count": 13,
   "metadata": {},
   "outputs": [],
   "source": [
    "b2wCorpus['ord'] = b2wCorpus.apply(lambda row: len(row.review_text), axis=1)"
   ]
  },
  {
   "cell_type": "code",
   "execution_count": 14,
   "metadata": {},
   "outputs": [
    {
     "data": {
      "text/plain": [
       "(50000, 3)"
      ]
     },
     "execution_count": 14,
     "metadata": {},
     "output_type": "execute_result"
    }
   ],
   "source": [
    "b2wCorpus.shape"
   ]
  },
  {
   "cell_type": "code",
   "execution_count": 15,
   "metadata": {},
   "outputs": [],
   "source": [
    "#b2wCorpus = b2wCorpus[b2wCorpus.ord != 0]\n",
    "b2wCorpus = b2wCorpus.drop(b2wCorpus[b2wCorpus.ord < 5].index)\n",
    "b2wCorpus = b2wCorpus.drop(b2wCorpus[b2wCorpus.ord > 50].index)"
   ]
  },
  {
   "cell_type": "code",
   "execution_count": 16,
   "metadata": {},
   "outputs": [],
   "source": [
    "b2wCorpus['overall_rating'] = b2wCorpus.overall_rating.apply(lambda x: x - 1)"
   ]
  },
  {
   "cell_type": "code",
   "execution_count": 17,
   "metadata": {},
   "outputs": [
    {
     "data": {
      "text/plain": [
       "(47628, 3)"
      ]
     },
     "execution_count": 17,
     "metadata": {},
     "output_type": "execute_result"
    }
   ],
   "source": [
    "b2wCorpus.shape"
   ]
  },
  {
   "cell_type": "code",
   "execution_count": 18,
   "metadata": {},
   "outputs": [],
   "source": [
    "b2wCorpus.reset_index(drop=True, inplace=True)"
   ]
  },
  {
   "cell_type": "code",
   "execution_count": 19,
   "metadata": {},
   "outputs": [
    {
     "data": {
      "text/html": [
       "<div>\n",
       "<style scoped>\n",
       "    .dataframe tbody tr th:only-of-type {\n",
       "        vertical-align: middle;\n",
       "    }\n",
       "\n",
       "    .dataframe tbody tr th {\n",
       "        vertical-align: top;\n",
       "    }\n",
       "\n",
       "    .dataframe thead th {\n",
       "        text-align: right;\n",
       "    }\n",
       "</style>\n",
       "<table border=\"1\" class=\"dataframe\">\n",
       "  <thead>\n",
       "    <tr style=\"text-align: right;\">\n",
       "      <th></th>\n",
       "      <th>overall_rating</th>\n",
       "      <th>review_text</th>\n",
       "      <th>ord</th>\n",
       "    </tr>\n",
       "  </thead>\n",
       "  <tbody>\n",
       "    <tr>\n",
       "      <th>0</th>\n",
       "      <td>4</td>\n",
       "      <td>[16476, 484, 902, 62443, 209, 7310]</td>\n",
       "      <td>6</td>\n",
       "    </tr>\n",
       "    <tr>\n",
       "      <th>1</th>\n",
       "      <td>4</td>\n",
       "      <td>[2499, 85324, 1322, 930, 122, 70, 21144, 202, ...</td>\n",
       "      <td>18</td>\n",
       "    </tr>\n",
       "    <tr>\n",
       "      <th>2</th>\n",
       "      <td>3</td>\n",
       "      <td>[22522, 323, 161274, 532, 2499, 85324, 16476]</td>\n",
       "      <td>7</td>\n",
       "    </tr>\n",
       "    <tr>\n",
       "      <th>3</th>\n",
       "      <td>3</td>\n",
       "      <td>[2424, 0, 234, 9710, 52444, 16377, 61637, 6376...</td>\n",
       "      <td>9</td>\n",
       "    </tr>\n",
       "    <tr>\n",
       "      <th>4</th>\n",
       "      <td>1</td>\n",
       "      <td>[2424, 0, 363, 532, 17382, 69, 188512, 0, 0, 7...</td>\n",
       "      <td>30</td>\n",
       "    </tr>\n",
       "  </tbody>\n",
       "</table>\n",
       "</div>"
      ],
      "text/plain": [
       "   overall_rating                                        review_text  ord\n",
       "0               4                [16476, 484, 902, 62443, 209, 7310]    6\n",
       "1               4  [2499, 85324, 1322, 930, 122, 70, 21144, 202, ...   18\n",
       "2               3      [22522, 323, 161274, 532, 2499, 85324, 16476]    7\n",
       "3               3  [2424, 0, 234, 9710, 52444, 16377, 61637, 6376...    9\n",
       "4               1  [2424, 0, 363, 532, 17382, 69, 188512, 0, 0, 7...   30"
      ]
     },
     "execution_count": 19,
     "metadata": {},
     "output_type": "execute_result"
    }
   ],
   "source": [
    "b2wCorpus.head()"
   ]
  },
  {
   "cell_type": "code",
   "execution_count": 20,
   "metadata": {},
   "outputs": [
    {
     "data": {
      "text/plain": [
       "pandas.core.series.Series"
      ]
     },
     "execution_count": 20,
     "metadata": {},
     "output_type": "execute_result"
    }
   ],
   "source": [
    "type(b2wCorpus.review_text)"
   ]
  },
  {
   "cell_type": "code",
   "execution_count": 21,
   "metadata": {},
   "outputs": [],
   "source": [
    "#b2wCorpus.review_text.str.rjust(width=50, fillchar='0')\n",
    "#np.reshape(y_train,(-1))\n",
    "\n",
    "b2wCorpus.review_text = keras.preprocessing.sequence.pad_sequences(b2wCorpus.apply(lambda row: np.reshape(row.review_text,(-1)), axis=1), maxlen=50, padding='post').tolist()"
   ]
  },
  {
   "cell_type": "code",
   "execution_count": 22,
   "metadata": {},
   "outputs": [
    {
     "data": {
      "text/html": [
       "<div>\n",
       "<style scoped>\n",
       "    .dataframe tbody tr th:only-of-type {\n",
       "        vertical-align: middle;\n",
       "    }\n",
       "\n",
       "    .dataframe tbody tr th {\n",
       "        vertical-align: top;\n",
       "    }\n",
       "\n",
       "    .dataframe thead th {\n",
       "        text-align: right;\n",
       "    }\n",
       "</style>\n",
       "<table border=\"1\" class=\"dataframe\">\n",
       "  <thead>\n",
       "    <tr style=\"text-align: right;\">\n",
       "      <th></th>\n",
       "      <th>overall_rating</th>\n",
       "      <th>review_text</th>\n",
       "      <th>ord</th>\n",
       "    </tr>\n",
       "  </thead>\n",
       "  <tbody>\n",
       "    <tr>\n",
       "      <th>0</th>\n",
       "      <td>4</td>\n",
       "      <td>[16476, 484, 902, 62443, 209, 7310, 0, 0, 0, 0...</td>\n",
       "      <td>6</td>\n",
       "    </tr>\n",
       "    <tr>\n",
       "      <th>1</th>\n",
       "      <td>4</td>\n",
       "      <td>[2499, 85324, 1322, 930, 122, 70, 21144, 202, ...</td>\n",
       "      <td>18</td>\n",
       "    </tr>\n",
       "    <tr>\n",
       "      <th>2</th>\n",
       "      <td>3</td>\n",
       "      <td>[22522, 323, 161274, 532, 2499, 85324, 16476, ...</td>\n",
       "      <td>7</td>\n",
       "    </tr>\n",
       "    <tr>\n",
       "      <th>3</th>\n",
       "      <td>3</td>\n",
       "      <td>[2424, 0, 234, 9710, 52444, 16377, 61637, 6376...</td>\n",
       "      <td>9</td>\n",
       "    </tr>\n",
       "    <tr>\n",
       "      <th>4</th>\n",
       "      <td>1</td>\n",
       "      <td>[2424, 0, 363, 532, 17382, 69, 188512, 0, 0, 7...</td>\n",
       "      <td>30</td>\n",
       "    </tr>\n",
       "  </tbody>\n",
       "</table>\n",
       "</div>"
      ],
      "text/plain": [
       "   overall_rating                                        review_text  ord\n",
       "0               4  [16476, 484, 902, 62443, 209, 7310, 0, 0, 0, 0...    6\n",
       "1               4  [2499, 85324, 1322, 930, 122, 70, 21144, 202, ...   18\n",
       "2               3  [22522, 323, 161274, 532, 2499, 85324, 16476, ...    7\n",
       "3               3  [2424, 0, 234, 9710, 52444, 16377, 61637, 6376...    9\n",
       "4               1  [2424, 0, 363, 532, 17382, 69, 188512, 0, 0, 7...   30"
      ]
     },
     "execution_count": 22,
     "metadata": {},
     "output_type": "execute_result"
    }
   ],
   "source": [
    "b2wCorpus.head()"
   ]
  },
  {
   "cell_type": "code",
   "execution_count": 23,
   "metadata": {},
   "outputs": [],
   "source": [
    "# Função de split\n",
    "def train_validate_test_split(df, train_percent=.65, validate_percent=.1, seed=42):\n",
    "    np.random.seed(seed)\n",
    "    perm = np.random.permutation(df.index)\n",
    "    m = len(df.index)\n",
    "    train_end = int(train_percent * m)\n",
    "    validate_end = int(validate_percent * m) + train_end\n",
    "    train = df.iloc[perm[:train_end]]\n",
    "    validate = df.iloc[perm[train_end:validate_end]]\n",
    "    test = df.iloc[perm[validate_end:]]\n",
    "    return train, validate, test"
   ]
  },
  {
   "cell_type": "code",
   "execution_count": 24,
   "metadata": {},
   "outputs": [],
   "source": [
    "b2wCorpusTrain, b2wCorpusValidate, b2wCorpusTest = train_validate_test_split(b2wCorpus)"
   ]
  },
  {
   "cell_type": "code",
   "execution_count": 25,
   "metadata": {},
   "outputs": [
    {
     "data": {
      "text/html": [
       "<div>\n",
       "<style scoped>\n",
       "    .dataframe tbody tr th:only-of-type {\n",
       "        vertical-align: middle;\n",
       "    }\n",
       "\n",
       "    .dataframe tbody tr th {\n",
       "        vertical-align: top;\n",
       "    }\n",
       "\n",
       "    .dataframe thead th {\n",
       "        text-align: right;\n",
       "    }\n",
       "</style>\n",
       "<table border=\"1\" class=\"dataframe\">\n",
       "  <thead>\n",
       "    <tr style=\"text-align: right;\">\n",
       "      <th></th>\n",
       "      <th>overall_rating</th>\n",
       "      <th>review_text</th>\n",
       "      <th>ord</th>\n",
       "    </tr>\n",
       "  </thead>\n",
       "  <tbody>\n",
       "    <tr>\n",
       "      <th>17635</th>\n",
       "      <td>0</td>\n",
       "      <td>[0, 123, 403, 5841, 32165, 110, 25236, 565, 71...</td>\n",
       "      <td>50</td>\n",
       "    </tr>\n",
       "    <tr>\n",
       "      <th>21306</th>\n",
       "      <td>4</td>\n",
       "      <td>[1664, 728, 304, 2759, 345, 297, 2499, 1761, 9...</td>\n",
       "      <td>50</td>\n",
       "    </tr>\n",
       "    <tr>\n",
       "      <th>19565</th>\n",
       "      <td>0</td>\n",
       "      <td>[7804, 41933, 0, 18874, 110, 3093, 902, 8201, ...</td>\n",
       "      <td>50</td>\n",
       "    </tr>\n",
       "    <tr>\n",
       "      <th>11546</th>\n",
       "      <td>0</td>\n",
       "      <td>[902, 7804, 428, 62, 2294, 948, 1912, 1150, 13...</td>\n",
       "      <td>50</td>\n",
       "    </tr>\n",
       "    <tr>\n",
       "      <th>46333</th>\n",
       "      <td>1</td>\n",
       "      <td>[9735, 35919, 16299, 102, 20671, 225, 4339, 25...</td>\n",
       "      <td>50</td>\n",
       "    </tr>\n",
       "  </tbody>\n",
       "</table>\n",
       "</div>"
      ],
      "text/plain": [
       "       overall_rating                                        review_text  ord\n",
       "17635               0  [0, 123, 403, 5841, 32165, 110, 25236, 565, 71...   50\n",
       "21306               4  [1664, 728, 304, 2759, 345, 297, 2499, 1761, 9...   50\n",
       "19565               0  [7804, 41933, 0, 18874, 110, 3093, 902, 8201, ...   50\n",
       "11546               0  [902, 7804, 428, 62, 2294, 948, 1912, 1150, 13...   50\n",
       "46333               1  [9735, 35919, 16299, 102, 20671, 225, 4339, 25...   50"
      ]
     },
     "execution_count": 25,
     "metadata": {},
     "output_type": "execute_result"
    }
   ],
   "source": [
    "b2wCorpusTrain=b2wCorpusTrain.reindex(b2wCorpusTrain['ord'].sort_values(ascending=False).index)\n",
    "b2wCorpusTrain.head()"
   ]
  },
  {
   "cell_type": "code",
   "execution_count": 26,
   "metadata": {},
   "outputs": [
    {
     "data": {
      "text/plain": [
       "<bound method NDFrame.head of        overall_rating                                        review_text  ord\n",
       "29767               3  [394, 976, 717, 11763, 47683, 52658, 129, 134,...   50\n",
       "34512               2  [4402, 39, 2905, 6774, 818, 764, 164, 26224, 1...   50\n",
       "47508               0  [2989, 0, 12783, 306, 1304, 522, 5291, 245, 78...   50\n",
       "10402               0  [45850, 10570, 0, 8567, 4339, 17715, 14762, 86...   50\n",
       "40260               0  [13478, 31505, 106, 10071, 9968, 1705, 1812, 1...   50\n",
       "...               ...                                                ...  ...\n",
       "43894               4  [532, 561, 0, 0, 0, 0, 0, 0, 0, 0, 0, 0, 0, 0,...    5\n",
       "18548               4  [226, 3893, 362, 28129, 21362, 0, 0, 0, 0, 0, ...    5\n",
       "24767               4  [678, 4853, 958, 112734, 14911, 0, 0, 0, 0, 0,...    5\n",
       "15624               4  [5185, 2104, 18236, 4010, 0, 0, 0, 0, 0, 0, 0,...    5\n",
       "16950               4  [226, 902, 8201, 3993, 22522, 0, 0, 0, 0, 0, 0...    5\n",
       "\n",
       "[4762 rows x 3 columns]>"
      ]
     },
     "execution_count": 26,
     "metadata": {},
     "output_type": "execute_result"
    }
   ],
   "source": [
    "b2wCorpusValidate=b2wCorpusValidate.reindex(b2wCorpusValidate['ord'].sort_values(ascending=False).index)\n",
    "b2wCorpusValidate.head"
   ]
  },
  {
   "cell_type": "code",
   "execution_count": 27,
   "metadata": {},
   "outputs": [
    {
     "data": {
      "text/plain": [
       "<bound method NDFrame.head of        overall_rating                                        review_text  ord\n",
       "15762               0  [239, 362, 612, 902, 9735, 5437, 169, 1806, 13...   50\n",
       "43832               0  [26382, 20907, 5547, 30029, 6689, 293, 61, 252...   50\n",
       "33328               4  [8557, 3690, 902, 0, 39, 11471, 935, 1313, 553...   50\n",
       "39200               1  [902, 44379, 0, 15035, 38352, 330, 109923, 281...   50\n",
       "9374                0  [7804, 41933, 0, 9391, 2215, 7256, 134, 86, 10...   50\n",
       "...               ...                                                ...  ...\n",
       "17509               3  [7126, 202, 1771, 22522, 902, 0, 0, 0, 0, 0, 0...    5\n",
       "35187               2  [7804, 2048, 0, 3528, 39, 0, 0, 0, 0, 0, 0, 0,...    5\n",
       "41592               4  [16476, 902, 1645, 2294, 3036, 0, 0, 0, 0, 0, ...    5\n",
       "37500               3  [226, 47062, 33424, 185, 0, 0, 0, 0, 0, 0, 0, ...    5\n",
       "24796               0  [2499, 20342, 5993, 43450, 13662, 0, 0, 0, 0, ...    5\n",
       "\n",
       "[11908 rows x 3 columns]>"
      ]
     },
     "execution_count": 27,
     "metadata": {},
     "output_type": "execute_result"
    }
   ],
   "source": [
    "b2wCorpusTest=b2wCorpusTest.reindex(b2wCorpusTest['ord'].sort_values(ascending=False).index)\n",
    "b2wCorpusTest.head"
   ]
  },
  {
   "cell_type": "code",
   "execution_count": 28,
   "metadata": {},
   "outputs": [
    {
     "data": {
      "text/plain": [
       "pandas.core.series.Series"
      ]
     },
     "execution_count": 28,
     "metadata": {},
     "output_type": "execute_result"
    }
   ],
   "source": [
    "type(b2wCorpus.review_text)"
   ]
  },
  {
   "cell_type": "code",
   "execution_count": 29,
   "metadata": {},
   "outputs": [],
   "source": [
    "# Treino, Validação e teste\n",
    "RANDOM_SEED = 42\n",
    "x_train =  [ emb for emb in b2wCorpusTrain.review_text]\n",
    "y_train =   b2wCorpusTrain.overall_rating\n",
    "x_val = [ emb for emb in b2wCorpusValidate.review_text ]\n",
    "y_val = b2wCorpusValidate.overall_rating\n",
    "x_train = np.asarray(x_train)\n",
    "x_val =np.asarray(x_val)\n",
    "\n",
    "np.random.seed(RANDOM_SEED)\n",
    "model = KeyedVectors.load_word2vec_format('word2vec_200k.txt')\n",
    "emb = model.get_keras_embedding()\n"
   ]
  },
  {
   "cell_type": "code",
   "execution_count": null,
   "metadata": {},
   "outputs": [],
   "source": []
  },
  {
   "cell_type": "code",
   "execution_count": 46,
   "metadata": {},
   "outputs": [
    {
     "name": "stdout",
     "output_type": "stream",
     "text": [
      "Epoch 1/50\n",
      "1290/1290 [==============================] - 31s 24ms/step - loss: 1.2565 - accuracy: 0.4756 - val_loss: 1.1773 - val_accuracy: 0.4985\n",
      "Epoch 2/50\n",
      "1290/1290 [==============================] - 31s 24ms/step - loss: 1.1700 - accuracy: 0.5042 - val_loss: 1.1132 - val_accuracy: 0.5124\n",
      "Epoch 3/50\n",
      "1290/1290 [==============================] - 29s 23ms/step - loss: 1.1333 - accuracy: 0.5109 - val_loss: 1.0951 - val_accuracy: 0.5193\n",
      "Epoch 4/50\n",
      "1290/1290 [==============================] - 30s 23ms/step - loss: 1.1102 - accuracy: 0.5196 - val_loss: 1.1029 - val_accuracy: 0.5279\n",
      "Epoch 5/50\n",
      "1290/1290 [==============================] - 30s 23ms/step - loss: 1.0936 - accuracy: 0.5254 - val_loss: 1.0506 - val_accuracy: 0.5281\n",
      "Epoch 6/50\n",
      "1290/1290 [==============================] - 30s 23ms/step - loss: 1.0761 - accuracy: 0.5336 - val_loss: 1.0420 - val_accuracy: 0.5475\n",
      "Epoch 7/50\n",
      "1290/1290 [==============================] - 30s 23ms/step - loss: 1.0586 - accuracy: 0.5425 - val_loss: 1.0283 - val_accuracy: 0.5487\n",
      "Epoch 8/50\n",
      "1290/1290 [==============================] - 30s 23ms/step - loss: 1.0499 - accuracy: 0.5467 - val_loss: 1.0231 - val_accuracy: 0.5493\n",
      "Epoch 9/50\n",
      "1290/1290 [==============================] - 30s 24ms/step - loss: 1.0384 - accuracy: 0.5521 - val_loss: 1.0284 - val_accuracy: 0.5580\n",
      "Epoch 10/50\n",
      "1290/1290 [==============================] - 30s 23ms/step - loss: 1.0270 - accuracy: 0.5593 - val_loss: 1.0085 - val_accuracy: 0.5643\n",
      "Epoch 11/50\n",
      "1290/1290 [==============================] - 30s 23ms/step - loss: 1.0165 - accuracy: 0.5607 - val_loss: 1.0060 - val_accuracy: 0.5703\n",
      "Epoch 12/50\n",
      "1290/1290 [==============================] - 30s 23ms/step - loss: 1.0136 - accuracy: 0.5621 - val_loss: 0.9966 - val_accuracy: 0.5699\n",
      "Epoch 13/50\n",
      "1290/1290 [==============================] - 31s 24ms/step - loss: 1.0036 - accuracy: 0.5659 - val_loss: 1.0021 - val_accuracy: 0.5672\n",
      "Epoch 14/50\n",
      "1290/1290 [==============================] - 30s 23ms/step - loss: 0.9967 - accuracy: 0.5662 - val_loss: 0.9890 - val_accuracy: 0.5668\n",
      "Epoch 15/50\n",
      "1290/1290 [==============================] - 30s 23ms/step - loss: 0.9884 - accuracy: 0.5687 - val_loss: 0.9861 - val_accuracy: 0.5733\n",
      "Epoch 16/50\n",
      "1290/1290 [==============================] - 30s 23ms/step - loss: 0.9834 - accuracy: 0.5686 - val_loss: 0.9845 - val_accuracy: 0.5743\n",
      "Epoch 17/50\n",
      "1290/1290 [==============================] - 30s 23ms/step - loss: 0.9795 - accuracy: 0.5717 - val_loss: 0.9856 - val_accuracy: 0.5773\n",
      "Epoch 18/50\n",
      "1290/1290 [==============================] - 30s 23ms/step - loss: 0.9706 - accuracy: 0.5774 - val_loss: 0.9801 - val_accuracy: 0.5756\n",
      "Epoch 19/50\n",
      "1290/1290 [==============================] - 30s 23ms/step - loss: 0.9686 - accuracy: 0.5769 - val_loss: 0.9971 - val_accuracy: 0.5720\n",
      "Epoch 20/50\n",
      "1290/1290 [==============================] - 30s 23ms/step - loss: 0.9600 - accuracy: 0.5827 - val_loss: 0.9838 - val_accuracy: 0.5729\n",
      "Epoch 21/50\n",
      "1290/1290 [==============================] - 30s 23ms/step - loss: 0.9554 - accuracy: 0.5830 - val_loss: 0.9818 - val_accuracy: 0.5802\n",
      "Epoch 22/50\n",
      "1290/1290 [==============================] - 30s 24ms/step - loss: 0.9521 - accuracy: 0.5822 - val_loss: 0.9840 - val_accuracy: 0.5689\n",
      "Epoch 23/50\n",
      "1290/1290 [==============================] - 30s 23ms/step - loss: 0.9435 - accuracy: 0.5881 - val_loss: 0.9719 - val_accuracy: 0.5737\n",
      "Epoch 24/50\n",
      "1290/1290 [==============================] - 30s 23ms/step - loss: 0.9409 - accuracy: 0.5885 - val_loss: 0.9712 - val_accuracy: 0.5806\n",
      "Epoch 25/50\n",
      "1290/1290 [==============================] - 30s 23ms/step - loss: 0.9374 - accuracy: 0.5860 - val_loss: 0.9732 - val_accuracy: 0.5760\n",
      "Epoch 26/50\n",
      "1290/1290 [==============================] - 30s 23ms/step - loss: 0.9330 - accuracy: 0.5919 - val_loss: 0.9710 - val_accuracy: 0.5771\n",
      "Epoch 27/50\n",
      "1290/1290 [==============================] - 30s 23ms/step - loss: 0.9249 - accuracy: 0.5934 - val_loss: 0.9822 - val_accuracy: 0.5762\n",
      "Epoch 28/50\n",
      "1290/1290 [==============================] - 30s 23ms/step - loss: 0.9222 - accuracy: 0.5975 - val_loss: 0.9739 - val_accuracy: 0.5796\n",
      "Epoch 29/50\n",
      "1290/1290 [==============================] - 30s 23ms/step - loss: 0.9149 - accuracy: 0.5997 - val_loss: 0.9745 - val_accuracy: 0.5792\n",
      "Epoch 30/50\n",
      "1290/1290 [==============================] - 30s 23ms/step - loss: 0.9154 - accuracy: 0.6010 - val_loss: 0.9818 - val_accuracy: 0.5781\n",
      "Epoch 31/50\n",
      "1290/1290 [==============================] - 30s 23ms/step - loss: 0.9116 - accuracy: 0.6056 - val_loss: 0.9853 - val_accuracy: 0.5760\n",
      "Epoch 32/50\n",
      "1290/1290 [==============================] - 30s 23ms/step - loss: 0.9022 - accuracy: 0.6056 - val_loss: 0.9839 - val_accuracy: 0.5741\n",
      "Epoch 33/50\n",
      "1290/1290 [==============================] - 30s 23ms/step - loss: 0.9011 - accuracy: 0.6050 - val_loss: 0.9877 - val_accuracy: 0.5850\n",
      "Epoch 34/50\n",
      "1290/1290 [==============================] - 30s 23ms/step - loss: 0.9021 - accuracy: 0.6078 - val_loss: 0.9757 - val_accuracy: 0.5821\n",
      "Epoch 35/50\n",
      "1290/1290 [==============================] - 30s 23ms/step - loss: 0.8904 - accuracy: 0.6100 - val_loss: 0.9851 - val_accuracy: 0.5798\n",
      "Epoch 36/50\n",
      "1290/1290 [==============================] - 30s 23ms/step - loss: 0.8926 - accuracy: 0.6092 - val_loss: 0.9753 - val_accuracy: 0.5783\n",
      "Epoch 37/50\n",
      "1290/1290 [==============================] - 30s 23ms/step - loss: 0.8877 - accuracy: 0.6107 - val_loss: 0.9756 - val_accuracy: 0.5829\n",
      "Epoch 38/50\n",
      "1290/1290 [==============================] - 30s 23ms/step - loss: 0.8799 - accuracy: 0.6135 - val_loss: 0.9834 - val_accuracy: 0.5787\n",
      "Epoch 39/50\n",
      "1290/1290 [==============================] - 30s 23ms/step - loss: 0.8766 - accuracy: 0.6182 - val_loss: 0.9900 - val_accuracy: 0.5787\n",
      "Epoch 40/50\n",
      "1290/1290 [==============================] - 30s 23ms/step - loss: 0.8759 - accuracy: 0.6146 - val_loss: 0.9946 - val_accuracy: 0.5829\n",
      "Epoch 41/50\n",
      "1290/1290 [==============================] - 31s 24ms/step - loss: 0.8706 - accuracy: 0.6195 - val_loss: 0.9936 - val_accuracy: 0.5806\n",
      "Epoch 42/50\n",
      "1290/1290 [==============================] - 30s 23ms/step - loss: 0.8639 - accuracy: 0.6238 - val_loss: 1.0011 - val_accuracy: 0.5666\n",
      "Epoch 43/50\n",
      "1290/1290 [==============================] - 30s 23ms/step - loss: 0.8625 - accuracy: 0.6229 - val_loss: 1.0035 - val_accuracy: 0.5748\n",
      "Epoch 44/50\n",
      "1290/1290 [==============================] - 30s 23ms/step - loss: 0.8566 - accuracy: 0.6256 - val_loss: 1.0029 - val_accuracy: 0.5760\n",
      "Epoch 45/50\n",
      "1290/1290 [==============================] - 30s 23ms/step - loss: 0.8534 - accuracy: 0.6258 - val_loss: 1.0099 - val_accuracy: 0.5821\n",
      "Epoch 46/50\n",
      "1290/1290 [==============================] - 30s 23ms/step - loss: 0.8528 - accuracy: 0.6302 - val_loss: 1.0010 - val_accuracy: 0.5691\n",
      "Epoch 47/50\n",
      "1290/1290 [==============================] - 30s 23ms/step - loss: 0.8471 - accuracy: 0.6297 - val_loss: 1.0086 - val_accuracy: 0.5710\n",
      "Epoch 48/50\n",
      "1290/1290 [==============================] - 30s 23ms/step - loss: 0.8442 - accuracy: 0.6339 - val_loss: 1.0325 - val_accuracy: 0.5729\n",
      "Epoch 49/50\n",
      "1290/1290 [==============================] - 30s 23ms/step - loss: 0.8432 - accuracy: 0.6323 - val_loss: 1.0116 - val_accuracy: 0.5737\n",
      "Epoch 50/50\n",
      "1290/1290 [==============================] - 30s 23ms/step - loss: 0.8354 - accuracy: 0.6346 - val_loss: 1.0236 - val_accuracy: 0.5727\n"
     ]
    }
   ],
   "source": [
    "from tensorflow.keras.losses import sparse_categorical_crossentropy\n",
    "SEQUENCE_MAXLEN = 50\n",
    "model = keras.Sequential()\n",
    "model.add(layers.Input(shape=(SEQUENCE_MAXLEN, )))\n",
    "model.add(emb)\n",
    "model.add(layers.LSTM(64, dropout=0.25, return_sequences=True))\n",
    "model.add(keras.layers.LSTM(64, dropout=0))\n",
    "model.add(keras.layers.Dense(32, activation='relu'))\n",
    "model.add(keras.layers.Dense(5, activation='softmax'))\n",
    "#opt = tf.keras.optimizers.SGD(learning_rate=.1, momentum=.5)\n",
    "#opt = tf.keras.optimizers.Adamax(learning_rate=0.01, beta_1=0.9, beta_2=0.999, epsilon=1e-07, name=\"Adamax\")\n",
    "#model.compile(optimizer=opt, loss=categorical_crossentropy, metrics=['acc', 'mae'])\n",
    "opt=\"adam\"\n",
    "model.compile(optimizer=opt,loss=sparse_categorical_crossentropy, metrics=[\"accuracy\"])\n",
    "history = model.fit(\n",
    "    x= x_train, y=y_train, batch_size=24, epochs=50, validation_data=(x_val, y_val)\n",
    ")"
   ]
  },
  {
   "cell_type": "code",
   "execution_count": 47,
   "metadata": {},
   "outputs": [
    {
     "data": {
      "image/png": "[encoded data removed]",
      "text/plain": [
       "<Figure size 432x288 with 1 Axes>"
      ]
     },
     "metadata": {},
     "output_type": "display_data"
    }
   ],
   "source": [
    "plt.title('Loss')\n",
    "plt.xlabel('epochs')\n",
    "plt.ylabel('Loss')\n",
    "plt.plot(history.history['loss'], label='train')\n",
    "plt.plot(history.history['val_loss'], label='test')\n",
    "plt.legend()\n",
    "plt.show();"
   ]
  },
  {
   "cell_type": "code",
   "execution_count": 48,
   "metadata": {},
   "outputs": [
    {
     "data": {
      "image/png": "[encoded data removed]",
      "text/plain": [
       "<Figure size 432x288 with 1 Axes>"
      ]
     },
     "metadata": {},
     "output_type": "display_data"
    }
   ],
   "source": [
    "plt.title('Accuracy')\n",
    "plt.xlabel('epochs')\n",
    "plt.ylabel('accuracy')\n",
    "plt.plot(history.history['accuracy'], label='train')\n",
    "plt.plot(history.history['val_accuracy'], label='test')\n",
    "plt.legend()\n",
    "plt.show();"
   ]
  },
  {
   "cell_type": "code",
   "execution_count": null,
   "metadata": {},
   "outputs": [],
   "source": []
  },
  {
   "cell_type": "code",
   "execution_count": null,
   "metadata": {},
   "outputs": [],
   "source": []
  }
 ],
 "metadata": {
  "kernelspec": {
   "display_name": "Python 3",
   "language": "python",
   "name": "python3"
  },
  "language_info": {
   "codemirror_mode": {
    "name": "ipython",
    "version": 3
   },
   "file_extension": ".py",
   "mimetype": "text/x-python",
   "name": "python",
   "nbconvert_exporter": "python",
   "pygments_lexer": "ipython3",
   "version": "3.8.5"
  }
 },
 "nbformat": 4,
 "nbformat_minor": 4
}
