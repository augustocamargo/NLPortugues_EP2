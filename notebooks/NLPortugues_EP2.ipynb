{
 "cells": [
  {
   "cell_type": "code",
   "execution_count": 88,
   "metadata": {},
   "outputs": [
    {
     "name": "stderr",
     "output_type": "stream",
     "text": [
      "[nltk_data] Downloading package stopwords to\n",
      "[nltk_data]     /home/augusto/nltk_data...\n",
      "[nltk_data]   Package stopwords is already up-to-date!\n",
      "[nltk_data] Downloading package punkt to /home/augusto/nltk_data...\n",
      "[nltk_data]   Package punkt is already up-to-date!\n"
     ]
    }
   ],
   "source": [
    "import tensorflow as tf\n",
    "from tensorflow import keras\n",
    "import numpy as np\n",
    "import pandas as pd\n",
    "import matplotlib.pyplot as plt\n",
    "from sklearn.model_selection import train_test_split\n",
    "from tensorflow.keras.layers.experimental.preprocessing import TextVectorization\n",
    "import nltk\n",
    "nltk.download('stopwords')\n",
    "stop_words = nltk.corpus.stopwords.words('portuguese')\n",
    "from nltk.stem import SnowballStemmer\n",
    "nltk.download('punkt')\n",
    "stemmer = SnowballStemmer('portuguese')\n",
    "import re\n",
    "from unidecode import unidecode\n",
    "from keras.regularizers import l2\n",
    "from gensim.models import KeyedVectors\n",
    "from tensorflow.keras import layers\n",
    "from tensorflow.keras.losses import categorical_crossentropy\n",
    "from keras.layers import Dense, Dropout, LSTM\n",
    "import os\n",
    "from sklearn.metrics import confusion_matrix, classification_report"
   ]
  },
  {
   "cell_type": "markdown",
   "metadata": {},
   "source": [
    "## Pipeline "
   ]
  },
  {
   "cell_type": "code",
   "execution_count": 89,
   "metadata": {},
   "outputs": [],
   "source": [
    "# Base original da B2W, sem cortes + clean de overall_rating\n",
    "b2wCorpus = pd.read_csv(\"B2W-Reviews01.csv\",\";\",usecols=['review_text','overall_rating'],nrows=500)\n",
    "\n",
    "# Filtro\n",
    "d = b2wCorpus.index[b2wCorpus[\"overall_rating\"] < 1].tolist()\n",
    "b2wCorpus=b2wCorpus.drop(b2wCorpus.index[d])\n",
    "d = b2wCorpus.index[b2wCorpus[\"overall_rating\"] > 5].tolist()\n",
    "b2wCorpus=b2wCorpus.drop(b2wCorpus.index[d])\n",
    "#b2wCorpus['overall_rating'].replace({2: 1, 3: 1,4: 5}, inplace = True)\n",
    "#b2wCorpus['overall_rating'].replace({1: 0}, inplace = True)\n",
    "#b2wCorpus['overall_rating'].replace({5: 1}, inplace = True)\n",
    "#d = b2wCorpus.index[b2wCorpus[\"overall_rating\"] == 2].tolist()\n",
    "#b2wCorpus=b2wCorpus.drop(b2wCorpus.index[d])\n",
    "#b2wCorpus['overall_rating'].replace({5: 2}, inplace = True)\n",
    "#print(b2wCorpus.head)"
   ]
  },
  {
   "cell_type": "code",
   "execution_count": 90,
   "metadata": {},
   "outputs": [],
   "source": [
    "SEQUENCE_MAXLEN = 40\n",
    "\n",
    "# Cleanning function\n",
    "text_cleaning_re = \"@\\S+|https?:\\S+|http?:\\S|[^A-Za-z0-9]+\"\n",
    "def preprocess(text, stem=False):\n",
    "  text = unidecode(text)\n",
    "  text = re.sub(text_cleaning_re, ' ', str(text).lower()).strip()\n",
    "  text = re.sub(\"\\d+\", \"\", text)\n",
    "  text = re.sub(r'(?:^| )\\w(?:$| )', ' ', text).strip()\n",
    "  tokens = []\n",
    "  for token in text.split():\n",
    "    #if token not in stop_words:\n",
    "    #  if stem:\n",
    "    #    tokens.append(stemmer.stem(token))\n",
    "    #  else:\n",
    "    tokens.append(token)\n",
    "  return \" \".join(tokens)"
   ]
  },
  {
   "cell_type": "code",
   "execution_count": 91,
   "metadata": {},
   "outputs": [],
   "source": [
    "# Cleanning exec\n",
    "b2wCorpus.review_text = b2wCorpus.review_text.apply(lambda x: preprocess(x))"
   ]
  },
  {
   "cell_type": "code",
   "execution_count": 92,
   "metadata": {},
   "outputs": [
    {
     "name": "stdout",
     "output_type": "stream",
     "text": [
      "<bound method NDFrame.head of      overall_rating                                        review_text\n",
      "0                 4  estou contente com compra entrega rapida unico...\n",
      "1                 4  por apenas eu consegui comprar esse lindo copo...\n",
      "2                 4  supera em agilidade praticidade outras panelas...\n",
      "3                 4  meu filho amou parece de verdade com tantos de...\n",
      "4                 5  entrega foi no prazo as americanas estao de pa...\n",
      "..              ...                                                ...\n",
      "495               5  excelente produto por esse preco eu adquirir p...\n",
      "496               1  ja fiz elogios respeito da compra pelo site qu...\n",
      "497               1  ainda nao recebi produto nao posso opinar xxxx...\n",
      "498               5  melhor custo beneficio estava pensando em comp...\n",
      "499               3  com muita pesquisa analise do zoom buscape ach...\n",
      "\n",
      "[500 rows x 2 columns]>\n"
     ]
    }
   ],
   "source": [
    "print(b2wCorpus.head)"
   ]
  },
  {
   "cell_type": "code",
   "execution_count": 93,
   "metadata": {},
   "outputs": [
    {
     "data": {
      "text/plain": [
       "1     95\n",
       "2     23\n",
       "3     60\n",
       "4    150\n",
       "5    172\n",
       "Name: overall_rating, dtype: int64"
      ]
     },
     "execution_count": 93,
     "metadata": {},
     "output_type": "execute_result"
    }
   ],
   "source": [
    "b2wCorpus.overall_rating .value_counts().sort_index()"
   ]
  },
  {
   "cell_type": "code",
   "execution_count": 94,
   "metadata": {},
   "outputs": [
    {
     "name": "stdout",
     "output_type": "stream",
     "text": [
      "<bound method NDFrame.head of      overall_rating                                        review_text\n",
      "0                 4   otimo para dia dia nao fica deslizando da cabeca\n",
      "1                 4  tapete suave ao toque pelos sedosos cor mescla...\n",
      "2                 5  produto mto bom com essa garrafinha vc pode at...\n",
      "3                 5  um otimo produto atende super bem a entrega ch...\n",
      "4                 4  otimo produto original recomendo todos podem c...\n",
      "..              ...                                                ...\n",
      "495               3  um bom brinquedo para crianca nao oferece peri...\n",
      "496               4  produto muito bom smartphone que cumpre as nec...\n",
      "497               3  ate momento eu aprovo produto presente de aniv...\n",
      "498               4  alfomada decorativa nao eh confortavel mas cre...\n",
      "499               3      produto bom mas um dos espelhos veio quebrado\n",
      "\n",
      "[500 rows x 2 columns]>\n"
     ]
    }
   ],
   "source": [
    "# Partilha\n",
    "b2wCorpus = b2wCorpus.sample(frac=1).reset_index(drop=True)\n",
    "print(b2wCorpus.head)"
   ]
  },
  {
   "cell_type": "code",
   "execution_count": 95,
   "metadata": {},
   "outputs": [
    {
     "data": {
      "image/png": "[encoded data removed]",
      "text/plain": [
       "<Figure size 432x288 with 1 Axes>"
      ]
     },
     "metadata": {},
     "output_type": "display_data"
    },
    {
     "name": "stdout",
     "output_type": "stream",
     "text": [
      "498\n"
     ]
    }
   ],
   "source": [
    "# histograma de palavras x qtd de linhas\n",
    "Words = [len(linha.split()) for linha in b2wCorpus[\"review_text\"] if len(linha.split()) <=100 ]\n",
    "plt.style.use('ggplot')\n",
    "plt.hist(Words, bins=[0,5,10,15,20,25,30,35,40,45,50,55,60,65,70,75,80,85])\n",
    "plt.show()\n",
    "print(len(Words))"
   ]
  },
  {
   "cell_type": "code",
   "execution_count": 96,
   "metadata": {},
   "outputs": [],
   "source": [
    "# Codifica\n",
    "N =  200001\n",
    "with open(\"cbow_s50.txt\", \"r\",encoding='utf-8') as file:\n",
    "    head = [next(file) for x in range(N)]\n",
    "\n",
    "head[0] = str(N-1)+ \" \" + \"50\"+ \"\\n\" # Conserta contagem de palavras\n",
    "with open(\"word2vec_200k.txt\", \"w\",encoding='utf-8') as file:\n",
    "    for line in head:\n",
    "        file.write(line)\n",
    "\n",
    "def vocaIndex(lista, stem=False):\n",
    "    for indice in range(len(lista)):\n",
    "        text=lista[indice].lower()\n",
    "        if text in model.vocab:\n",
    "             lista[indice] = model.vocab[text].index\n",
    "        else: \n",
    "             lista[indice] = '199999'\n",
    "    return lista\n",
    "\n",
    "model = KeyedVectors.load_word2vec_format('word2vec_200k.txt')\n",
    "\n",
    "def codifica(text, stem=False):\n",
    "    tokens = nltk.word_tokenize(text)\n",
    "    tokens = vocaIndex(tokens)\n",
    "    return tokens\n",
    "\n",
    "b2wCorpus.review_text = b2wCorpus.review_text.apply(lambda x: codifica(x))"
   ]
  },
  {
   "cell_type": "code",
   "execution_count": 97,
   "metadata": {},
   "outputs": [],
   "source": [
    "b2wCorpus['ord'] = b2wCorpus.apply(lambda row: len(row.review_text), axis=1)"
   ]
  },
  {
   "cell_type": "code",
   "execution_count": 98,
   "metadata": {},
   "outputs": [
    {
     "data": {
      "text/plain": [
       "(500, 3)"
      ]
     },
     "execution_count": 98,
     "metadata": {},
     "output_type": "execute_result"
    }
   ],
   "source": [
    "b2wCorpus.shape"
   ]
  },
  {
   "cell_type": "code",
   "execution_count": 99,
   "metadata": {},
   "outputs": [],
   "source": [
    "#b2wCorpus = b2wCorpus[b2wCorpus.ord != 0]\n",
    "b2wCorpus = b2wCorpus.drop(b2wCorpus[b2wCorpus.ord < 10].index)\n",
    "b2wCorpus = b2wCorpus.drop(b2wCorpus[b2wCorpus.ord > SEQUENCE_MAXLEN].index)"
   ]
  },
  {
   "cell_type": "code",
   "execution_count": 100,
   "metadata": {},
   "outputs": [],
   "source": [
    "b2wCorpus['overall_rating'] = b2wCorpus.overall_rating.apply(lambda x: x - 1)"
   ]
  },
  {
   "cell_type": "code",
   "execution_count": 101,
   "metadata": {},
   "outputs": [
    {
     "data": {
      "text/plain": [
       "(344, 3)"
      ]
     },
     "execution_count": 101,
     "metadata": {},
     "output_type": "execute_result"
    }
   ],
   "source": [
    "b2wCorpus.shape"
   ]
  },
  {
   "cell_type": "code",
   "execution_count": 102,
   "metadata": {},
   "outputs": [],
   "source": [
    "b2wCorpus.reset_index(drop=True, inplace=True)"
   ]
  },
  {
   "cell_type": "code",
   "execution_count": 103,
   "metadata": {},
   "outputs": [
    {
     "data": {
      "text/html": [
       "<div>\n",
       "<style scoped>\n",
       "    .dataframe tbody tr th:only-of-type {\n",
       "        vertical-align: middle;\n",
       "    }\n",
       "\n",
       "    .dataframe tbody tr th {\n",
       "        vertical-align: top;\n",
       "    }\n",
       "\n",
       "    .dataframe thead th {\n",
       "        text-align: right;\n",
       "    }\n",
       "</style>\n",
       "<table border=\"1\" class=\"dataframe\">\n",
       "  <thead>\n",
       "    <tr style=\"text-align: right;\">\n",
       "      <th></th>\n",
       "      <th>overall_rating</th>\n",
       "      <th>review_text</th>\n",
       "      <th>ord</th>\n",
       "    </tr>\n",
       "  </thead>\n",
       "  <tbody>\n",
       "    <tr>\n",
       "      <th>0</th>\n",
       "      <td>3</td>\n",
       "      <td>[10966, 7975, 30, 4094, 149, 155654, 1686, 779...</td>\n",
       "      <td>14</td>\n",
       "    </tr>\n",
       "    <tr>\n",
       "      <th>1</th>\n",
       "      <td>4</td>\n",
       "      <td>[902, 138589, 226, 14, 142, 92907, 12112, 73, ...</td>\n",
       "      <td>24</td>\n",
       "    </tr>\n",
       "    <tr>\n",
       "      <th>2</th>\n",
       "      <td>4</td>\n",
       "      <td>[12, 101071, 902, 7126, 2789, 70, 4, 2499, 428...</td>\n",
       "      <td>23</td>\n",
       "    </tr>\n",
       "    <tr>\n",
       "      <th>3</th>\n",
       "      <td>3</td>\n",
       "      <td>[101071, 902, 1100, 22522, 88, 200, 1815, 566,...</td>\n",
       "      <td>23</td>\n",
       "    </tr>\n",
       "    <tr>\n",
       "      <th>4</th>\n",
       "      <td>0</td>\n",
       "      <td>[28, 226, 47, 3346, 143, 194349, 290, 7804, 13...</td>\n",
       "      <td>34</td>\n",
       "    </tr>\n",
       "  </tbody>\n",
       "</table>\n",
       "</div>"
      ],
      "text/plain": [
       "   overall_rating                                        review_text  ord\n",
       "0               3  [10966, 7975, 30, 4094, 149, 155654, 1686, 779...   14\n",
       "1               4  [902, 138589, 226, 14, 142, 92907, 12112, 73, ...   24\n",
       "2               4  [12, 101071, 902, 7126, 2789, 70, 4, 2499, 428...   23\n",
       "3               3  [101071, 902, 1100, 22522, 88, 200, 1815, 566,...   23\n",
       "4               0  [28, 226, 47, 3346, 143, 194349, 290, 7804, 13...   34"
      ]
     },
     "execution_count": 103,
     "metadata": {},
     "output_type": "execute_result"
    }
   ],
   "source": [
    "b2wCorpus.head()"
   ]
  },
  {
   "cell_type": "code",
   "execution_count": 104,
   "metadata": {},
   "outputs": [
    {
     "data": {
      "text/plain": [
       "pandas.core.series.Series"
      ]
     },
     "execution_count": 104,
     "metadata": {},
     "output_type": "execute_result"
    }
   ],
   "source": [
    "type(b2wCorpus.review_text)"
   ]
  },
  {
   "cell_type": "code",
   "execution_count": 105,
   "metadata": {},
   "outputs": [],
   "source": [
    "#b2wCorpus.review_text.str.rjust(width=50, fillchar='0')\n",
    "#np.reshape(y_train,(-1))\n",
    "\n",
    "b2wCorpus.review_text = keras.preprocessing.sequence.pad_sequences(b2wCorpus.apply(lambda row: np.reshape(row.review_text,(-1)), axis=1), maxlen=SEQUENCE_MAXLEN, padding='post').tolist()"
   ]
  },
  {
   "cell_type": "code",
   "execution_count": 106,
   "metadata": {},
   "outputs": [
    {
     "data": {
      "text/html": [
       "<div>\n",
       "<style scoped>\n",
       "    .dataframe tbody tr th:only-of-type {\n",
       "        vertical-align: middle;\n",
       "    }\n",
       "\n",
       "    .dataframe tbody tr th {\n",
       "        vertical-align: top;\n",
       "    }\n",
       "\n",
       "    .dataframe thead th {\n",
       "        text-align: right;\n",
       "    }\n",
       "</style>\n",
       "<table border=\"1\" class=\"dataframe\">\n",
       "  <thead>\n",
       "    <tr style=\"text-align: right;\">\n",
       "      <th></th>\n",
       "      <th>overall_rating</th>\n",
       "      <th>review_text</th>\n",
       "      <th>ord</th>\n",
       "    </tr>\n",
       "  </thead>\n",
       "  <tbody>\n",
       "    <tr>\n",
       "      <th>0</th>\n",
       "      <td>3</td>\n",
       "      <td>[10966, 7975, 30, 4094, 149, 155654, 1686, 779...</td>\n",
       "      <td>14</td>\n",
       "    </tr>\n",
       "    <tr>\n",
       "      <th>1</th>\n",
       "      <td>4</td>\n",
       "      <td>[902, 138589, 226, 14, 142, 92907, 12112, 73, ...</td>\n",
       "      <td>24</td>\n",
       "    </tr>\n",
       "    <tr>\n",
       "      <th>2</th>\n",
       "      <td>4</td>\n",
       "      <td>[12, 101071, 902, 7126, 2789, 70, 4, 2499, 428...</td>\n",
       "      <td>23</td>\n",
       "    </tr>\n",
       "    <tr>\n",
       "      <th>3</th>\n",
       "      <td>3</td>\n",
       "      <td>[101071, 902, 1100, 22522, 88, 200, 1815, 566,...</td>\n",
       "      <td>23</td>\n",
       "    </tr>\n",
       "    <tr>\n",
       "      <th>4</th>\n",
       "      <td>0</td>\n",
       "      <td>[28, 226, 47, 3346, 143, 194349, 290, 7804, 13...</td>\n",
       "      <td>34</td>\n",
       "    </tr>\n",
       "  </tbody>\n",
       "</table>\n",
       "</div>"
      ],
      "text/plain": [
       "   overall_rating                                        review_text  ord\n",
       "0               3  [10966, 7975, 30, 4094, 149, 155654, 1686, 779...   14\n",
       "1               4  [902, 138589, 226, 14, 142, 92907, 12112, 73, ...   24\n",
       "2               4  [12, 101071, 902, 7126, 2789, 70, 4, 2499, 428...   23\n",
       "3               3  [101071, 902, 1100, 22522, 88, 200, 1815, 566,...   23\n",
       "4               0  [28, 226, 47, 3346, 143, 194349, 290, 7804, 13...   34"
      ]
     },
     "execution_count": 106,
     "metadata": {},
     "output_type": "execute_result"
    }
   ],
   "source": [
    "b2wCorpus.head()"
   ]
  },
  {
   "cell_type": "code",
   "execution_count": 107,
   "metadata": {},
   "outputs": [],
   "source": [
    "# Função de split\n",
    "def train_validate_test_split(df, train_percent=.65, validate_percent=.1, seed=42):\n",
    "    np.random.seed(seed)\n",
    "    perm = np.random.permutation(df.index)\n",
    "    m = len(df.index)\n",
    "    train_end = int(train_percent * m)\n",
    "    validate_end = int(validate_percent * m) + train_end\n",
    "    train = df.iloc[perm[:train_end]]\n",
    "    validate = df.iloc[perm[train_end:validate_end]]\n",
    "    test = df.iloc[perm[validate_end:]]\n",
    "    return train, validate, test"
   ]
  },
  {
   "cell_type": "code",
   "execution_count": 108,
   "metadata": {},
   "outputs": [],
   "source": [
    "b2wCorpusTrain, b2wCorpusValidate, b2wCorpusTest = train_validate_test_split(b2wCorpus)"
   ]
  },
  {
   "cell_type": "code",
   "execution_count": 109,
   "metadata": {},
   "outputs": [
    {
     "data": {
      "text/html": [
       "<div>\n",
       "<style scoped>\n",
       "    .dataframe tbody tr th:only-of-type {\n",
       "        vertical-align: middle;\n",
       "    }\n",
       "\n",
       "    .dataframe tbody tr th {\n",
       "        vertical-align: top;\n",
       "    }\n",
       "\n",
       "    .dataframe thead th {\n",
       "        text-align: right;\n",
       "    }\n",
       "</style>\n",
       "<table border=\"1\" class=\"dataframe\">\n",
       "  <thead>\n",
       "    <tr style=\"text-align: right;\">\n",
       "      <th></th>\n",
       "      <th>overall_rating</th>\n",
       "      <th>review_text</th>\n",
       "      <th>ord</th>\n",
       "    </tr>\n",
       "  </thead>\n",
       "  <tbody>\n",
       "    <tr>\n",
       "      <th>182</th>\n",
       "      <td>2</td>\n",
       "      <td>[169, 85, 1025, 2, 1014, 26, 17509, 64, 2047, ...</td>\n",
       "      <td>40</td>\n",
       "    </tr>\n",
       "    <tr>\n",
       "      <th>145</th>\n",
       "      <td>4</td>\n",
       "      <td>[85, 775, 63, 363, 2499, 7, 4402, 45, 199999, ...</td>\n",
       "      <td>39</td>\n",
       "    </tr>\n",
       "    <tr>\n",
       "      <th>331</th>\n",
       "      <td>2</td>\n",
       "      <td>[44791, 226, 36, 6455, 448, 2, 12, 44791, 3165...</td>\n",
       "      <td>38</td>\n",
       "    </tr>\n",
       "    <tr>\n",
       "      <th>210</th>\n",
       "      <td>2</td>\n",
       "      <td>[2697, 63, 5185, 143, 533, 2, 19363, 2, 4423, ...</td>\n",
       "      <td>36</td>\n",
       "    </tr>\n",
       "    <tr>\n",
       "      <th>309</th>\n",
       "      <td>1</td>\n",
       "      <td>[9735, 12, 2989, 2499, 28, 63, 61637, 10, 16, ...</td>\n",
       "      <td>36</td>\n",
       "    </tr>\n",
       "  </tbody>\n",
       "</table>\n",
       "</div>"
      ],
      "text/plain": [
       "     overall_rating                                        review_text  ord\n",
       "182               2  [169, 85, 1025, 2, 1014, 26, 17509, 64, 2047, ...   40\n",
       "145               4  [85, 775, 63, 363, 2499, 7, 4402, 45, 199999, ...   39\n",
       "331               2  [44791, 226, 36, 6455, 448, 2, 12, 44791, 3165...   38\n",
       "210               2  [2697, 63, 5185, 143, 533, 2, 19363, 2, 4423, ...   36\n",
       "309               1  [9735, 12, 2989, 2499, 28, 63, 61637, 10, 16, ...   36"
      ]
     },
     "execution_count": 109,
     "metadata": {},
     "output_type": "execute_result"
    }
   ],
   "source": [
    "b2wCorpusTrain=b2wCorpusTrain.reindex(b2wCorpusTrain['ord'].sort_values(ascending=False).index)\n",
    "b2wCorpusTrain.head()"
   ]
  },
  {
   "cell_type": "code",
   "execution_count": 110,
   "metadata": {},
   "outputs": [
    {
     "data": {
      "text/plain": [
       "<bound method NDFrame.head of      overall_rating                                        review_text  ord\n",
       "295               0  [477, 60, 16, 34045, 11882, 47, 371, 7, 8240, ...   39\n",
       "4                 0  [28, 226, 47, 3346, 143, 194349, 290, 7804, 13...   34\n",
       "89                2  [3620, 7804, 25757, 22, 204, 36, 1946, 11, 185...   34\n",
       "213               3  [26, 199999, 15521, 63, 11, 130, 56, 1190, 14,...   29\n",
       "26                0  [902, 2773, 5557, 2, 199999, 532, 239, 2106, 7...   28\n",
       "294               4  [5185, 199999, 9735, 2009, 8824, 30, 17628, 78...   26\n",
       "337               0  [63, 2648, 7804, 6376, 136, 5486, 366, 2789, 1...   25\n",
       "100               2  [2697, 1143, 27, 37585, 248, 2580, 7804, 98375...   25\n",
       "141               0  [9735, 143, 902, 502, 268, 2, 274, 7804, 7256,...   25\n",
       "200               3  [902, 63, 226, 9095, 7, 6455, 25, 1771, 92, 38...   25\n",
       "246               0  [362, 7, 9735, 902, 7804, 7256, 5841, 440, 283...   23\n",
       "11                2  [565, 14, 41954, 7, 173900, 19383, 41954, 1999...   20\n",
       "268               2  [14, 913, 1165, 24827, 8, 25541, 199999, 2697,...   20\n",
       "136               4  [6376, 8, 902, 428, 131, 8, 1322, 17382, 930, ...   15\n",
       "150               4  [2989, 161439, 61637, 913, 692, 2694, 5567, 24...   15\n",
       "98                3  [122, 340, 428, 131, 8, 7930, 8837, 1100, 122,...   14\n",
       "0                 3  [10966, 7975, 30, 4094, 149, 155654, 1686, 779...   14\n",
       "61                3  [18874, 110, 17, 323, 7, 47, 9735, 71, 3013, 3...   14\n",
       "47                4  [6376, 8, 600, 566, 2, 2499, 2989, 63, 226, 11...   14\n",
       "32                4  [6376, 8, 902, 6432, 1135, 1664, 11759, 30, 94...   13\n",
       "218               4  [902, 101071, 6455, 63, 70, 202, 199999, 2499,...   13\n",
       "226               2  [1143, 63, 226, 2499, 28, 131, 8, 566, 14, 160...   13\n",
       "312               3  [63, 226, 3006, 6376, 15480, 8, 104, 11, 2499,...   13\n",
       "192               4  [63, 226, 902, 2, 161274, 532, 22522, 502, 130...   12\n",
       "307               0  [47, 7804, 7256, 13770, 48582, 22, 60, 7804, 5...   12\n",
       "328               4  [17390, 22522, 92, 467, 7, 2499, 70, 85324, 13...   11\n",
       "340               2  [12, 226, 10835, 11, 199999, 7804, 2692, 1979,...   11\n",
       "286               1  [12783, 20206, 6689, 173, 7804, 428, 18874, 14...   11\n",
       "284               4  [6008, 2, 161274, 532, 22522, 902, 5437, 14, 6...   11\n",
       "103               0  [7804, 7256, 76, 4643, 199999, 135, 2110, 1738...   11\n",
       "171               2  [199999, 494, 1295, 14, 31, 15080, 16, 532, 15...   11\n",
       "36                4  [6376, 63, 117, 8051, 70, 202, 25, 6443, 7804,...   11\n",
       "206               3  [16476, 2104, 1664, 200, 1815, 2217, 930, 4885...   10\n",
       "215               4  [31217, 14, 25, 2237, 8, 5265, 8, 136, 627, 11...   10>"
      ]
     },
     "execution_count": 110,
     "metadata": {},
     "output_type": "execute_result"
    }
   ],
   "source": [
    "b2wCorpusValidate=b2wCorpusValidate.reindex(b2wCorpusValidate['ord'].sort_values(ascending=False).index)\n",
    "b2wCorpusValidate.head"
   ]
  },
  {
   "cell_type": "code",
   "execution_count": 111,
   "metadata": {},
   "outputs": [
    {
     "data": {
      "text/plain": [
       "<bound method NDFrame.head of      overall_rating                                        review_text  ord\n",
       "276               3  [902, 28, 3013, 131, 8, 566, 70, 21144, 342, 1...   39\n",
       "99                3  [9420, 494, 39, 31, 22987, 275, 29, 37152, 7, ...   37\n",
       "52                1  [2697, 902, 63, 1692, 290, 25, 19044, 56, 16, ...   37\n",
       "151               0  [29, 106, 9735, 7804, 7256, 90988, 125, 74, 26...   36\n",
       "71                0  [58469, 600, 10, 991, 1101, 17382, 172, 10547,...   34\n",
       "..              ...                                                ...  ...\n",
       "322               3  [138589, 15221, 2, 113, 14, 3993, 226, 12871, ...   10\n",
       "252               4  [3006, 2, 161274, 532, 92, 10410, 2499, 14, 42...   10\n",
       "269               3  [63, 226, 22522, 4853, 14, 775, 428, 13, 566, ...   10\n",
       "207               4  [101071, 902, 63, 61637, 54465, 635, 63, 3330,...   10\n",
       "14                0  [3222, 20206, 7804, 7256, 238, 2, 566, 31021, ...   10\n",
       "\n",
       "[87 rows x 3 columns]>"
      ]
     },
     "execution_count": 111,
     "metadata": {},
     "output_type": "execute_result"
    }
   ],
   "source": [
    "b2wCorpusTest=b2wCorpusTest.reindex(b2wCorpusTest['ord'].sort_values(ascending=False).index)\n",
    "b2wCorpusTest.head"
   ]
  },
  {
   "cell_type": "code",
   "execution_count": 112,
   "metadata": {},
   "outputs": [
    {
     "data": {
      "text/plain": [
       "pandas.core.series.Series"
      ]
     },
     "execution_count": 112,
     "metadata": {},
     "output_type": "execute_result"
    }
   ],
   "source": [
    "type(b2wCorpus.review_text)"
   ]
  },
  {
   "cell_type": "code",
   "execution_count": 113,
   "metadata": {},
   "outputs": [],
   "source": [
    "# Treino, Validação e teste\n",
    "RANDOM_SEED = 42\n",
    "x_train =  [ emb for emb in b2wCorpusTrain.review_text]\n",
    "y_train =   b2wCorpusTrain.overall_rating\n",
    "\n",
    "x_val = [ emb for emb in b2wCorpusValidate.review_text ]\n",
    "y_val = b2wCorpusValidate.overall_rating\n",
    "\n",
    "x_test = [ emb for emb in b2wCorpusTest.review_text ]\n",
    "y_test = b2wCorpusTest.overall_rating\n",
    "\n",
    "x_train = np.asarray(x_train)\n",
    "x_val =np.asarray(x_val)\n",
    "x_test =np.asarray(x_test)\n",
    "\n",
    "np.random.seed(RANDOM_SEED)\n",
    "modelE = KeyedVectors.load_word2vec_format('word2vec_200k.txt')\n",
    "emb = modelE.get_keras_embedding()\n",
    "#emb.trainable = True"
   ]
  },
  {
   "cell_type": "code",
   "execution_count": 114,
   "metadata": {},
   "outputs": [],
   "source": [
    "def plot_confusion_matrix(cm, classes,\n",
    "                        normalize=False,\n",
    "                        title='Confusion matrix',\n",
    "                        cmap=plt.cm.Blues):\n",
    "    plt.imshow(cm, interpolation='nearest', cmap=cmap)\n",
    "    plt.title(title)\n",
    "    plt.colorbar()\n",
    "    tick_marks = np.arange(len(classes))\n",
    "    plt.xticks(tick_marks, classes, rotation=45)\n",
    "    plt.yticks(tick_marks, classes)\n",
    "\n",
    "    if normalize:\n",
    "        cm = cm.astype('float') / cm.sum(axis=1)[:, np.newaxis]\n",
    "        print(\"Normalized confusion matrix\")\n",
    "    else:\n",
    "        print('Confusion matrix, without normalization')\n",
    "\n",
    "    print(cm)\n",
    "\n",
    "    thresh = cm.max() / 2.\n",
    "    for i, j in itertools.product(range(cm.shape[0]), range(cm.shape[1])):\n",
    "        plt.text(j, i, cm[i, j],\n",
    "            horizontalalignment=\"center\",\n",
    "            color=\"white\" if cm[i, j] > thresh else \"black\")\n",
    "\n",
    "    plt.tight_layout()\n",
    "    plt.ylabel('True label')\n",
    "    plt.xlabel('Predicted label')"
   ]
  },
  {
   "cell_type": "code",
   "execution_count": 115,
   "metadata": {},
   "outputs": [],
   "source": [
    "from tensorflow.keras.losses import sparse_categorical_crossentropy\n",
    "def myNet(SEQUENCE_MAXLEN,emb,nome,tipo,units,dropout,batch_size,epochs,x_train,y_train,x_val,y_val,x_test,y_test):\n",
    "      \n",
    "    if os.path.exists(\"weights.hdf5\"):\n",
    "        os.remove(\"weights.hdf5\")\n",
    "\n",
    "    model = keras.Sequential()\n",
    "    model.add(layers.Input(shape=(SEQUENCE_MAXLEN, )))\n",
    "    model.add(emb)\n",
    "    if tipo == 'LSTM':\n",
    "        model.add(keras.layers.LSTM(units,dropout=dropout))\n",
    "        opt=\"adam\"\n",
    "    else:\n",
    "        forward_layer = keras.layers.LSTM(units, activation='relu',dropout=dropout)\n",
    "        backward_layer = keras.layers.LSTM(units, activation='relu', go_backwards=True,dropout=dropout)\n",
    "        model.add(keras.layers.Bidirectional(forward_layer, backward_layer=backward_layer))\n",
    "        model.add(keras.layers.Dropout(dropout))\n",
    "        opt = tf.keras.optimizers.SGD(learning_rate=.01, momentum=.9)\n",
    "    model.add(keras.layers.Dense(5, activation='softmax'))\n",
    "    model.compile(optimizer=opt,loss=sparse_categorical_crossentropy, metrics=[\"accuracy\"])\n",
    "    checkpointer = tf.keras.callbacks.ModelCheckpoint(filepath=\"weights.hdf5\", verbose=1, save_best_only=True)\n",
    "    es =  tf.keras.callbacks.EarlyStopping(monitor='val_loss', mode='min', verbose=1, patience=5)\n",
    "    history = model.fit(\n",
    "        x= x_train, y=y_train, batch_size=batch_size, epochs=epochs, validation_data=(x_val, y_val), callbacks=[checkpointer,es])\n",
    "    \n",
    "    plt.title('Loss')\n",
    "    plt.xlabel('epochs')\n",
    "    plt.ylabel('Loss')\n",
    "    plt.plot(history.history['loss'], label='train')\n",
    "    plt.plot(history.history['val_loss'], label='valid')\n",
    "    plt.legend()\n",
    "    plt.show();\n",
    "    \n",
    "    plt.title('Accuracy')\n",
    "    plt.xlabel('epochs')\n",
    "    plt.ylabel('accuracy')\n",
    "    plt.plot(history.history['accuracy'], label='train')\n",
    "    plt.plot(history.history['val_accuracy'], label='valid')\n",
    "    plt.legend()\n",
    "    plt.show();\n",
    "    \n",
    "    model.load_weights('weights.hdf5')\n",
    "    scores = model.evaluate(x_test, y_test, verbose=1)\n",
    "    titulo = nome + ' - Units: ' + str(units) + ' - Dropouts: ' + str(dropout) + ' - Batchs: ' + str(batch_size)\n",
    "    acc = \"Acuracia - %s: %.2f%%\" % (titulo, scores[1]*100)\n",
    "    print(acc)\n",
    "    print('Score: ' + str(scores))\n",
    "    \n",
    "    y_pred = model.predict(x_val)\n",
    "    print(y_val)\n",
    "    print(np.round(y_pred))\n",
    "    cm = confusion_matrix(y_val, np.round(y_pred))\n",
    "\n",
    "    cm_plot_labels = ['0', '1', '2', '3', '4']\n",
    "    \n",
    "    plot_confusion_matrix(cm=cm, classes=cm_plot_labels, title='Confusion Matrix')"
   ]
  },
  {
   "cell_type": "code",
   "execution_count": 116,
   "metadata": {},
   "outputs": [
    {
     "name": "stdout",
     "output_type": "stream",
     "text": [
      "Epoch 1/50\n",
      "7/7 [==============================] - ETA: 0s - loss: 1.5976 - accuracy: 0.2735\n",
      "Epoch 00001: val_loss improved from inf to 1.58892, saving model to weights.hdf5\n",
      "7/7 [==============================] - 1s 103ms/step - loss: 1.5976 - accuracy: 0.2735 - val_loss: 1.5889 - val_accuracy: 0.2059\n",
      "Epoch 2/50\n",
      "7/7 [==============================] - ETA: 0s - loss: 1.5151 - accuracy: 0.3318\n",
      "Epoch 00002: val_loss did not improve from 1.58892\n",
      "7/7 [==============================] - 0s 20ms/step - loss: 1.5151 - accuracy: 0.3318 - val_loss: 1.6582 - val_accuracy: 0.2059\n",
      "Epoch 3/50\n",
      "7/7 [==============================] - ETA: 0s - loss: 1.4483 - accuracy: 0.3318\n",
      "Epoch 00003: val_loss improved from 1.58892 to 1.51542, saving model to weights.hdf5\n",
      "7/7 [==============================] - 0s 70ms/step - loss: 1.4483 - accuracy: 0.3318 - val_loss: 1.5154 - val_accuracy: 0.2941\n",
      "Epoch 4/50\n",
      "7/7 [==============================] - ETA: 0s - loss: 1.4424 - accuracy: 0.3632\n",
      "Epoch 00004: val_loss improved from 1.51542 to 1.50068, saving model to weights.hdf5\n",
      "7/7 [==============================] - 1s 87ms/step - loss: 1.4424 - accuracy: 0.3632 - val_loss: 1.5007 - val_accuracy: 0.3235\n",
      "Epoch 5/50\n",
      "7/7 [==============================] - ETA: 0s - loss: 1.4157 - accuracy: 0.3363\n",
      "Epoch 00005: val_loss did not improve from 1.50068\n",
      "7/7 [==============================] - 0s 24ms/step - loss: 1.4157 - accuracy: 0.3363 - val_loss: 1.5377 - val_accuracy: 0.3235\n",
      "Epoch 6/50\n",
      "7/7 [==============================] - ETA: 0s - loss: 1.3981 - accuracy: 0.3587\n",
      "Epoch 00006: val_loss improved from 1.50068 to 1.47109, saving model to weights.hdf5\n",
      "7/7 [==============================] - 1s 88ms/step - loss: 1.3981 - accuracy: 0.3587 - val_loss: 1.4711 - val_accuracy: 0.2059\n",
      "Epoch 7/50\n",
      "7/7 [==============================] - ETA: 0s - loss: 1.3318 - accuracy: 0.3453\n",
      "Epoch 00007: val_loss improved from 1.47109 to 1.42198, saving model to weights.hdf5\n",
      "7/7 [==============================] - 1s 188ms/step - loss: 1.3318 - accuracy: 0.3453 - val_loss: 1.4220 - val_accuracy: 0.2059\n",
      "Epoch 8/50\n",
      "6/7 [========================>.....] - ETA: 0s - loss: 1.3552 - accuracy: 0.3594\n",
      "Epoch 00008: val_loss improved from 1.42198 to 1.38233, saving model to weights.hdf5\n",
      "7/7 [==============================] - 1s 108ms/step - loss: 1.3733 - accuracy: 0.3363 - val_loss: 1.3823 - val_accuracy: 0.3235\n",
      "Epoch 9/50\n",
      "7/7 [==============================] - ETA: 0s - loss: 1.3907 - accuracy: 0.3408\n",
      "Epoch 00009: val_loss did not improve from 1.38233\n",
      "7/7 [==============================] - 0s 21ms/step - loss: 1.3907 - accuracy: 0.3408 - val_loss: 1.4569 - val_accuracy: 0.2941\n",
      "Epoch 10/50\n",
      "7/7 [==============================] - ETA: 0s - loss: 1.3299 - accuracy: 0.3363\n",
      "Epoch 00010: val_loss did not improve from 1.38233\n",
      "7/7 [==============================] - 0s 22ms/step - loss: 1.3299 - accuracy: 0.3363 - val_loss: 1.4873 - val_accuracy: 0.2059\n",
      "Epoch 11/50\n",
      "7/7 [==============================] - ETA: 0s - loss: 1.3283 - accuracy: 0.3408\n",
      "Epoch 00011: val_loss did not improve from 1.38233\n",
      "7/7 [==============================] - 0s 22ms/step - loss: 1.3283 - accuracy: 0.3408 - val_loss: 1.3970 - val_accuracy: 0.2941\n",
      "Epoch 12/50\n",
      "7/7 [==============================] - ETA: 0s - loss: 1.3484 - accuracy: 0.3229\n",
      "Epoch 00012: val_loss did not improve from 1.38233\n",
      "7/7 [==============================] - 0s 21ms/step - loss: 1.3484 - accuracy: 0.3229 - val_loss: 1.4000 - val_accuracy: 0.2353\n",
      "Epoch 13/50\n",
      "7/7 [==============================] - ETA: 0s - loss: 1.3018 - accuracy: 0.4081\n",
      "Epoch 00013: val_loss did not improve from 1.38233\n",
      "7/7 [==============================] - 0s 22ms/step - loss: 1.3018 - accuracy: 0.4081 - val_loss: 1.4040 - val_accuracy: 0.2059\n",
      "Epoch 00013: early stopping\n"
     ]
    },
    {
     "data": {
      "image/png": "[encoded data removed]",
      "text/plain": [
       "<Figure size 432x288 with 1 Axes>"
      ]
     },
     "metadata": {},
     "output_type": "display_data"
    },
    {
     "data": {
      "image/png": "[encoded data removed]",
      "text/plain": [
       "<Figure size 432x288 with 1 Axes>"
      ]
     },
     "metadata": {},
     "output_type": "display_data"
    },
    {
     "name": "stdout",
     "output_type": "stream",
     "text": [
      "3/3 [==============================] - 0s 5ms/step - loss: 1.3878 - accuracy: 0.3103\n",
      "Acuracia - LSTM - Units: 128 - Dropouts: 0.5 - Batchs: 32: 31.03%\n",
      "Score: [1.3877809047698975, 0.3103448152542114]\n",
      "295    0\n",
      "4      0\n",
      "89     2\n",
      "213    3\n",
      "26     0\n",
      "294    4\n",
      "337    0\n",
      "100    2\n",
      "141    0\n",
      "200    3\n",
      "246    0\n",
      "11     2\n",
      "268    2\n",
      "136    4\n",
      "150    4\n",
      "98     3\n",
      "0      3\n",
      "61     3\n",
      "47     4\n",
      "32     4\n",
      "218    4\n",
      "226    2\n",
      "312    3\n",
      "192    4\n",
      "307    0\n",
      "328    4\n",
      "340    2\n",
      "286    1\n",
      "284    4\n",
      "103    0\n",
      "171    2\n",
      "36     4\n",
      "206    3\n",
      "215    4\n",
      "Name: overall_rating, dtype: int64\n",
      "[[0. 0. 0. 0. 0.]\n",
      " [0. 0. 0. 0. 0.]\n",
      " [0. 0. 0. 0. 0.]\n",
      " [0. 0. 0. 0. 1.]\n",
      " [0. 0. 0. 0. 0.]\n",
      " [0. 0. 0. 0. 0.]\n",
      " [0. 0. 0. 0. 0.]\n",
      " [0. 0. 0. 0. 0.]\n",
      " [0. 0. 0. 0. 0.]\n",
      " [0. 0. 0. 0. 0.]\n",
      " [0. 0. 0. 0. 0.]\n",
      " [0. 0. 0. 0. 0.]\n",
      " [0. 0. 0. 0. 0.]\n",
      " [0. 0. 0. 0. 0.]\n",
      " [0. 0. 0. 0. 1.]\n",
      " [0. 0. 0. 0. 0.]\n",
      " [0. 0. 0. 0. 1.]\n",
      " [0. 0. 0. 0. 0.]\n",
      " [0. 0. 0. 0. 1.]\n",
      " [0. 0. 0. 0. 0.]\n",
      " [0. 0. 0. 0. 0.]\n",
      " [0. 0. 0. 0. 1.]\n",
      " [0. 0. 0. 0. 1.]\n",
      " [0. 0. 0. 0. 1.]\n",
      " [0. 0. 0. 0. 0.]\n",
      " [0. 0. 0. 0. 1.]\n",
      " [0. 0. 0. 0. 0.]\n",
      " [0. 0. 0. 0. 0.]\n",
      " [0. 0. 0. 0. 0.]\n",
      " [0. 0. 0. 0. 0.]\n",
      " [0. 0. 0. 0. 0.]\n",
      " [0. 0. 0. 0. 1.]\n",
      " [0. 0. 0. 0. 1.]\n",
      " [0. 0. 0. 0. 0.]]\n"
     ]
    },
    {
     "ename": "ValueError",
     "evalue": "Classification metrics can't handle a mix of multiclass and multilabel-indicator targets",
     "output_type": "error",
     "traceback": [
      "\u001b[0;31m---------------------------------------------------------------------------\u001b[0m",
      "\u001b[0;31mValueError\u001b[0m                                Traceback (most recent call last)",
      "\u001b[0;32m<ipython-input-116-7a5e1dd11f92>\u001b[0m in \u001b[0;36m<module>\u001b[0;34m\u001b[0m\n\u001b[1;32m      3\u001b[0m \u001b[0mdropouts\u001b[0m \u001b[0;34m=\u001b[0m \u001b[0;36m.5\u001b[0m\u001b[0;34m\u001b[0m\u001b[0;34m\u001b[0m\u001b[0m\n\u001b[1;32m      4\u001b[0m \u001b[0mbatch_size\u001b[0m \u001b[0;34m=\u001b[0m \u001b[0;36m32\u001b[0m\u001b[0;34m\u001b[0m\u001b[0;34m\u001b[0m\u001b[0m\n\u001b[0;32m----> 5\u001b[0;31m \u001b[0mmyNet\u001b[0m\u001b[0;34m(\u001b[0m\u001b[0;36m40\u001b[0m\u001b[0;34m,\u001b[0m\u001b[0memb\u001b[0m\u001b[0;34m,\u001b[0m\u001b[0mnet\u001b[0m\u001b[0;34m,\u001b[0m\u001b[0mnet\u001b[0m\u001b[0;34m,\u001b[0m\u001b[0munits\u001b[0m\u001b[0;34m,\u001b[0m\u001b[0mdropouts\u001b[0m\u001b[0;34m,\u001b[0m\u001b[0mbatch_size\u001b[0m\u001b[0;34m,\u001b[0m\u001b[0;36m50\u001b[0m\u001b[0;34m,\u001b[0m\u001b[0mx_train\u001b[0m\u001b[0;34m,\u001b[0m\u001b[0my_train\u001b[0m\u001b[0;34m,\u001b[0m\u001b[0mx_val\u001b[0m\u001b[0;34m,\u001b[0m\u001b[0my_val\u001b[0m\u001b[0;34m,\u001b[0m\u001b[0mx_test\u001b[0m\u001b[0;34m,\u001b[0m\u001b[0my_test\u001b[0m\u001b[0;34m)\u001b[0m\u001b[0;34m\u001b[0m\u001b[0;34m\u001b[0m\u001b[0m\n\u001b[0m",
      "\u001b[0;32m<ipython-input-115-3567cfdd2f07>\u001b[0m in \u001b[0;36mmyNet\u001b[0;34m(SEQUENCE_MAXLEN, emb, nome, tipo, units, dropout, batch_size, epochs, x_train, y_train, x_val, y_val, x_test, y_test)\u001b[0m\n\u001b[1;32m     50\u001b[0m     \u001b[0mprint\u001b[0m\u001b[0;34m(\u001b[0m\u001b[0my_val\u001b[0m\u001b[0;34m)\u001b[0m\u001b[0;34m\u001b[0m\u001b[0;34m\u001b[0m\u001b[0m\n\u001b[1;32m     51\u001b[0m     \u001b[0mprint\u001b[0m\u001b[0;34m(\u001b[0m\u001b[0mnp\u001b[0m\u001b[0;34m.\u001b[0m\u001b[0mround\u001b[0m\u001b[0;34m(\u001b[0m\u001b[0my_pred\u001b[0m\u001b[0;34m)\u001b[0m\u001b[0;34m)\u001b[0m\u001b[0;34m\u001b[0m\u001b[0;34m\u001b[0m\u001b[0m\n\u001b[0;32m---> 52\u001b[0;31m     \u001b[0mcm\u001b[0m \u001b[0;34m=\u001b[0m \u001b[0mconfusion_matrix\u001b[0m\u001b[0;34m(\u001b[0m\u001b[0my_val\u001b[0m\u001b[0;34m,\u001b[0m \u001b[0mnp\u001b[0m\u001b[0;34m.\u001b[0m\u001b[0mround\u001b[0m\u001b[0;34m(\u001b[0m\u001b[0my_pred\u001b[0m\u001b[0;34m)\u001b[0m\u001b[0;34m)\u001b[0m\u001b[0;34m\u001b[0m\u001b[0;34m\u001b[0m\u001b[0m\n\u001b[0m\u001b[1;32m     53\u001b[0m \u001b[0;34m\u001b[0m\u001b[0m\n\u001b[1;32m     54\u001b[0m     \u001b[0mcm_plot_labels\u001b[0m \u001b[0;34m=\u001b[0m \u001b[0;34m[\u001b[0m\u001b[0;34m'0'\u001b[0m\u001b[0;34m,\u001b[0m \u001b[0;34m'1'\u001b[0m\u001b[0;34m,\u001b[0m \u001b[0;34m'2'\u001b[0m\u001b[0;34m,\u001b[0m \u001b[0;34m'3'\u001b[0m\u001b[0;34m,\u001b[0m \u001b[0;34m'4'\u001b[0m\u001b[0;34m]\u001b[0m\u001b[0;34m\u001b[0m\u001b[0;34m\u001b[0m\u001b[0m\n",
      "\u001b[0;32m/usr/local/lib/python3.8/dist-packages/sklearn/utils/validation.py\u001b[0m in \u001b[0;36minner_f\u001b[0;34m(*args, **kwargs)\u001b[0m\n\u001b[1;32m     71\u001b[0m                           FutureWarning)\n\u001b[1;32m     72\u001b[0m         \u001b[0mkwargs\u001b[0m\u001b[0;34m.\u001b[0m\u001b[0mupdate\u001b[0m\u001b[0;34m(\u001b[0m\u001b[0;34m{\u001b[0m\u001b[0mk\u001b[0m\u001b[0;34m:\u001b[0m \u001b[0marg\u001b[0m \u001b[0;32mfor\u001b[0m \u001b[0mk\u001b[0m\u001b[0;34m,\u001b[0m \u001b[0marg\u001b[0m \u001b[0;32min\u001b[0m \u001b[0mzip\u001b[0m\u001b[0;34m(\u001b[0m\u001b[0msig\u001b[0m\u001b[0;34m.\u001b[0m\u001b[0mparameters\u001b[0m\u001b[0;34m,\u001b[0m \u001b[0margs\u001b[0m\u001b[0;34m)\u001b[0m\u001b[0;34m}\u001b[0m\u001b[0;34m)\u001b[0m\u001b[0;34m\u001b[0m\u001b[0;34m\u001b[0m\u001b[0m\n\u001b[0;32m---> 73\u001b[0;31m         \u001b[0;32mreturn\u001b[0m \u001b[0mf\u001b[0m\u001b[0;34m(\u001b[0m\u001b[0;34m**\u001b[0m\u001b[0mkwargs\u001b[0m\u001b[0;34m)\u001b[0m\u001b[0;34m\u001b[0m\u001b[0;34m\u001b[0m\u001b[0m\n\u001b[0m\u001b[1;32m     74\u001b[0m     \u001b[0;32mreturn\u001b[0m \u001b[0minner_f\u001b[0m\u001b[0;34m\u001b[0m\u001b[0;34m\u001b[0m\u001b[0m\n\u001b[1;32m     75\u001b[0m \u001b[0;34m\u001b[0m\u001b[0m\n",
      "\u001b[0;32m/usr/local/lib/python3.8/dist-packages/sklearn/metrics/_classification.py\u001b[0m in \u001b[0;36mconfusion_matrix\u001b[0;34m(y_true, y_pred, labels, sample_weight, normalize)\u001b[0m\n\u001b[1;32m    274\u001b[0m \u001b[0;34m\u001b[0m\u001b[0m\n\u001b[1;32m    275\u001b[0m     \"\"\"\n\u001b[0;32m--> 276\u001b[0;31m     \u001b[0my_type\u001b[0m\u001b[0;34m,\u001b[0m \u001b[0my_true\u001b[0m\u001b[0;34m,\u001b[0m \u001b[0my_pred\u001b[0m \u001b[0;34m=\u001b[0m \u001b[0m_check_targets\u001b[0m\u001b[0;34m(\u001b[0m\u001b[0my_true\u001b[0m\u001b[0;34m,\u001b[0m \u001b[0my_pred\u001b[0m\u001b[0;34m)\u001b[0m\u001b[0;34m\u001b[0m\u001b[0;34m\u001b[0m\u001b[0m\n\u001b[0m\u001b[1;32m    277\u001b[0m     \u001b[0;32mif\u001b[0m \u001b[0my_type\u001b[0m \u001b[0;32mnot\u001b[0m \u001b[0;32min\u001b[0m \u001b[0;34m(\u001b[0m\u001b[0;34m\"binary\"\u001b[0m\u001b[0;34m,\u001b[0m \u001b[0;34m\"multiclass\"\u001b[0m\u001b[0;34m)\u001b[0m\u001b[0;34m:\u001b[0m\u001b[0;34m\u001b[0m\u001b[0;34m\u001b[0m\u001b[0m\n\u001b[1;32m    278\u001b[0m         \u001b[0;32mraise\u001b[0m \u001b[0mValueError\u001b[0m\u001b[0;34m(\u001b[0m\u001b[0;34m\"%s is not supported\"\u001b[0m \u001b[0;34m%\u001b[0m \u001b[0my_type\u001b[0m\u001b[0;34m)\u001b[0m\u001b[0;34m\u001b[0m\u001b[0;34m\u001b[0m\u001b[0m\n",
      "\u001b[0;32m/usr/local/lib/python3.8/dist-packages/sklearn/metrics/_classification.py\u001b[0m in \u001b[0;36m_check_targets\u001b[0;34m(y_true, y_pred)\u001b[0m\n\u001b[1;32m     88\u001b[0m \u001b[0;34m\u001b[0m\u001b[0m\n\u001b[1;32m     89\u001b[0m     \u001b[0;32mif\u001b[0m \u001b[0mlen\u001b[0m\u001b[0;34m(\u001b[0m\u001b[0my_type\u001b[0m\u001b[0;34m)\u001b[0m \u001b[0;34m>\u001b[0m \u001b[0;36m1\u001b[0m\u001b[0;34m:\u001b[0m\u001b[0;34m\u001b[0m\u001b[0;34m\u001b[0m\u001b[0m\n\u001b[0;32m---> 90\u001b[0;31m         raise ValueError(\"Classification metrics can't handle a mix of {0} \"\n\u001b[0m\u001b[1;32m     91\u001b[0m                          \"and {1} targets\".format(type_true, type_pred))\n\u001b[1;32m     92\u001b[0m \u001b[0;34m\u001b[0m\u001b[0m\n",
      "\u001b[0;31mValueError\u001b[0m: Classification metrics can't handle a mix of multiclass and multilabel-indicator targets"
     ]
    }
   ],
   "source": [
    "net = 'LSTM'\n",
    "units = 128\n",
    "dropouts = .5\n",
    "batch_size = 32\n",
    "myNet(40,emb,net,net,units,dropouts,batch_size,50,x_train,y_train,x_val,y_val,x_test,y_test)"
   ]
  },
  {
   "cell_type": "code",
   "execution_count": null,
   "metadata": {},
   "outputs": [],
   "source": []
  },
  {
   "cell_type": "code",
   "execution_count": null,
   "metadata": {},
   "outputs": [],
   "source": []
  },
  {
   "cell_type": "code",
   "execution_count": null,
   "metadata": {},
   "outputs": [],
   "source": []
  },
  {
   "cell_type": "code",
   "execution_count": null,
   "metadata": {},
   "outputs": [],
   "source": []
  },
  {
   "cell_type": "code",
   "execution_count": null,
   "metadata": {},
   "outputs": [],
   "source": []
  }
 ],
 "metadata": {
  "kernelspec": {
   "display_name": "Python 3",
   "language": "python",
   "name": "python3"
  },
  "language_info": {
   "codemirror_mode": {
    "name": "ipython",
    "version": 3
   },
   "file_extension": ".py",
   "mimetype": "text/x-python",
   "name": "python",
   "nbconvert_exporter": "python",
   "pygments_lexer": "ipython3",
   "version": "3.8.5"
  }
 },
 "nbformat": 4,
 "nbformat_minor": 4
}
