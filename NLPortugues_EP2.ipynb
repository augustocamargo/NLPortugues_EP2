{
 "cells": [
  {
   "cell_type": "code",
   "execution_count": 1,
   "metadata": {},
   "outputs": [
    {
     "name": "stderr",
     "output_type": "stream",
     "text": [
      "[nltk_data] Downloading package stopwords to\n",
      "[nltk_data]     /home/augusto/nltk_data...\n",
      "[nltk_data]   Package stopwords is already up-to-date!\n",
      "[nltk_data] Downloading package punkt to /home/augusto/nltk_data...\n",
      "[nltk_data]   Package punkt is already up-to-date!\n"
     ]
    }
   ],
   "source": [
    "import tensorflow as tf\n",
    "from tensorflow import keras\n",
    "import numpy as np\n",
    "import pandas as pd\n",
    "import matplotlib.pyplot as plt\n",
    "from sklearn.model_selection import train_test_split\n",
    "from tensorflow.keras.layers.experimental.preprocessing import TextVectorization\n",
    "import nltk\n",
    "nltk.download('stopwords')\n",
    "stop_words = nltk.corpus.stopwords.words('portuguese')\n",
    "from nltk.stem import SnowballStemmer\n",
    "nltk.download('punkt')\n",
    "stemmer = SnowballStemmer('portuguese')\n",
    "import re\n",
    "from unidecode import unidecode\n",
    "from keras.regularizers import l2\n",
    "from gensim.models import KeyedVectors\n",
    "from tensorflow.keras import layers\n",
    "from tensorflow.keras.losses import categorical_crossentropy\n",
    "from keras.layers import Dense, Dropout, LSTM"
   ]
  },
  {
   "cell_type": "markdown",
   "metadata": {},
   "source": [
    "## Pipeline "
   ]
  },
  {
   "cell_type": "code",
   "execution_count": 2,
   "metadata": {},
   "outputs": [
    {
     "name": "stdout",
     "output_type": "stream",
     "text": [
      "<bound method NDFrame.head of         overall_rating                                        review_text\n",
      "0                    4  Estou contente com a compra entrega rápida o ú...\n",
      "1                    4  Por apenas R$1994.20,eu consegui comprar esse ...\n",
      "2                    4  SUPERA EM AGILIDADE E PRATICIDADE OUTRAS PANEL...\n",
      "3                    4  MEU FILHO AMOU! PARECE DE VERDADE COM TANTOS D...\n",
      "4                    5  A entrega foi no prazo, as americanas estão de...\n",
      "...                ...                                                ...\n",
      "132368               5  Vale muito, estou usando no controle do Xbox e...\n",
      "132369               5  Prático e barato, super indico o produto para ...\n",
      "132370               4  Chegou antes do prazo previsto e corresponde a...\n",
      "132371               1  Material fraco, poderia ser melhor. Ficou deve...\n",
      "132372               1  Comprei esse produto, quando chegou estava com...\n",
      "\n",
      "[132373 rows x 2 columns]>\n"
     ]
    }
   ],
   "source": [
    "# Base original da B2W, sem cortes + clean de overall_rating\n",
    "b2wCorpus = pd.read_csv(\"B2W-Reviews01.csv\",\";\",usecols=['review_text','overall_rating'])\n",
    "\n",
    "# Filtro\n",
    "d = b2wCorpus.index[b2wCorpus[\"overall_rating\"] < 1].tolist()\n",
    "b2wCorpus=b2wCorpus.drop(b2wCorpus.index[d])\n",
    "d = b2wCorpus.index[b2wCorpus[\"overall_rating\"] > 5].tolist()\n",
    "b2wCorpus=b2wCorpus.drop(b2wCorpus.index[d])\n",
    "\n",
    "print(b2wCorpus.head)"
   ]
  },
  {
   "cell_type": "code",
   "execution_count": 3,
   "metadata": {},
   "outputs": [],
   "source": [
    "# Cleanning function\n",
    "text_cleaning_re = \"@\\S+|https?:\\S+|http?:\\S|[^A-Za-z0-9]+\"\n",
    "def preprocess(text, stem=False):\n",
    "  text = unidecode(text)\n",
    "  text = re.sub(text_cleaning_re, ' ', str(text).lower()).strip()\n",
    "  text = re.sub(\"\\d+\", \"\", text)\n",
    "  text = re.sub(r'(?:^| )\\w(?:$| )', ' ', text).strip()\n",
    "  tokens = []\n",
    "  for token in text.split():\n",
    "    if token not in stop_words:\n",
    "      if stem:\n",
    "        tokens.append(stemmer.stem(token))\n",
    "      else:\n",
    "        tokens.append(token)\n",
    "  return \" \".join(tokens)"
   ]
  },
  {
   "cell_type": "code",
   "execution_count": 4,
   "metadata": {},
   "outputs": [],
   "source": [
    "# Cleanning exec\n",
    "b2wCorpus.review_text = b2wCorpus.review_text.apply(lambda x: preprocess(x))"
   ]
  },
  {
   "cell_type": "code",
   "execution_count": 5,
   "metadata": {},
   "outputs": [
    {
     "name": "stdout",
     "output_type": "stream",
     "text": [
      "<bound method NDFrame.head of         overall_rating                                        review_text\n",
      "0                    4  contente compra entrega rapida unico problema ...\n",
      "1                    4        apenas consegui comprar lindo copo acrilico\n",
      "2                    4  supera agilidade praticidade outras panelas el...\n",
      "3                    4          filho amou parece verdade tantos detalhes\n",
      "4                    5  entrega prazo americanas estao parabens smart ...\n",
      "...                ...                                                ...\n",
      "132368               5  vale usando controle xbox durou semana carga p...\n",
      "132369               5  pratico barato super indico produto corre dia ...\n",
      "132370               4    chegou antes prazo previsto corresponde anuncio\n",
      "132371               1  material fraco poderia ser melhor ficou devend...\n",
      "132372               1  comprei produto chegou avaria devolvi ja vai f...\n",
      "\n",
      "[132373 rows x 2 columns]>\n"
     ]
    }
   ],
   "source": [
    "print(b2wCorpus.head)"
   ]
  },
  {
   "cell_type": "code",
   "execution_count": 6,
   "metadata": {},
   "outputs": [
    {
     "data": {
      "text/plain": [
       "1    27369\n",
       "2     8389\n",
       "3    16315\n",
       "4    32345\n",
       "5    47955\n",
       "Name: overall_rating, dtype: int64"
      ]
     },
     "execution_count": 6,
     "metadata": {},
     "output_type": "execute_result"
    }
   ],
   "source": [
    "b2wCorpus.overall_rating .value_counts().sort_index()"
   ]
  },
  {
   "cell_type": "code",
   "execution_count": 7,
   "metadata": {},
   "outputs": [
    {
     "name": "stdout",
     "output_type": "stream",
     "text": [
      "<bound method NDFrame.head of         overall_rating                                        review_text\n",
      "0                    4  bom chegou antes data prevista produto chegou ...\n",
      "1                    5  qualidade boa produto original excelente fazer...\n",
      "2                    5  atendeu totalmente expectativa material excele...\n",
      "3                    4                             recebi data tudo certo\n",
      "4                    1  nao recebi produto ainda nao recebi renbolco v...\n",
      "...                ...                                                ...\n",
      "132368               5  excelente qualidade boa economiza tempo legal ...\n",
      "132369               3             potes pequenos nao gostei material bom\n",
      "132370               5            correspondeu espectativas tamanho otimo\n",
      "132371               1  nao especificacoes medidas possui tamanho inad...\n",
      "132372               5  entregue antes prazo bem embalado codigo rastr...\n",
      "\n",
      "[132373 rows x 2 columns]>\n"
     ]
    }
   ],
   "source": [
    "# Partilha\n",
    "b2wCorpus = b2wCorpus.sample(frac=1).reset_index(drop=True)\n",
    "print(b2wCorpus.head)"
   ]
  },
  {
   "cell_type": "code",
   "execution_count": 8,
   "metadata": {},
   "outputs": [
    {
     "data": {
      "image/png": "[encoded data removed]",
      "text/plain": [
       "<Figure size 432x288 with 1 Axes>"
      ]
     },
     "metadata": {},
     "output_type": "display_data"
    },
    {
     "name": "stdout",
     "output_type": "stream",
     "text": [
      "130344\n"
     ]
    }
   ],
   "source": [
    "# histograma de palavras x qtd de linhas\n",
    "Words = [len(linha.split()) for linha in b2wCorpus[\"review_text\"] if len(linha.split()) <=60 ]\n",
    "plt.style.use('ggplot')\n",
    "plt.hist(Words, bins=[0,5,10,15,20,25,30,35,40,45,50,55,60])\n",
    "plt.show()\n",
    "print(len(Words))"
   ]
  },
  {
   "cell_type": "code",
   "execution_count": 9,
   "metadata": {},
   "outputs": [],
   "source": [
    "# Codifica\n",
    "N =  200001\n",
    "with open(\"cbow_s50.txt\", \"r\",encoding='utf-8') as file:\n",
    "    head = [next(file) for x in range(N)]\n",
    "\n",
    "head[0] = str(N-1)+ \" \" + \"50\"+ \"\\n\" # Conserta contagem de palavras\n",
    "with open(\"word2vec_200k.txt\", \"w\",encoding='utf-8') as file:\n",
    "    for line in head:\n",
    "        file.write(line)\n",
    "\n",
    "def vocaIndex(lista, stem=False):\n",
    "    for indice in range(len(lista)):\n",
    "        text=lista[indice].lower()\n",
    "        if text in model.vocab:\n",
    "             lista[indice] = model.vocab[text].index\n",
    "        else: \n",
    "             lista[indice] = '0'\n",
    "    return lista\n",
    "\n",
    "model = KeyedVectors.load_word2vec_format('word2vec_200k.txt')\n",
    "\n",
    "def codifica(text, stem=False):\n",
    "    tokens = nltk.word_tokenize(text)\n",
    "    tokens = vocaIndex(tokens)\n",
    "    return tokens\n",
    "\n",
    "b2wCorpus.review_text = b2wCorpus.review_text.apply(lambda x: codifica(x))"
   ]
  },
  {
   "cell_type": "code",
   "execution_count": 10,
   "metadata": {},
   "outputs": [],
   "source": [
    "b2wCorpus['ord'] = b2wCorpus.apply(lambda row: len(row.review_text), axis=1)"
   ]
  },
  {
   "cell_type": "code",
   "execution_count": 11,
   "metadata": {},
   "outputs": [
    {
     "data": {
      "text/plain": [
       "(132373, 3)"
      ]
     },
     "execution_count": 11,
     "metadata": {},
     "output_type": "execute_result"
    }
   ],
   "source": [
    "b2wCorpus.shape"
   ]
  },
  {
   "cell_type": "code",
   "execution_count": 12,
   "metadata": {},
   "outputs": [],
   "source": [
    "#b2wCorpus = b2wCorpus[b2wCorpus.ord != 0]\n",
    "b2wCorpus = b2wCorpus.drop(b2wCorpus[b2wCorpus.ord < 10].index)\n",
    "b2wCorpus = b2wCorpus.drop(b2wCorpus[b2wCorpus.ord > 50].index)"
   ]
  },
  {
   "cell_type": "code",
   "execution_count": 13,
   "metadata": {},
   "outputs": [],
   "source": [
    "b2wCorpus['overall_rating'] = b2wCorpus.overall_rating.apply(lambda x: x - 1)"
   ]
  },
  {
   "cell_type": "code",
   "execution_count": 14,
   "metadata": {},
   "outputs": [
    {
     "data": {
      "text/plain": [
       "(68406, 3)"
      ]
     },
     "execution_count": 14,
     "metadata": {},
     "output_type": "execute_result"
    }
   ],
   "source": [
    "b2wCorpus.shape"
   ]
  },
  {
   "cell_type": "code",
   "execution_count": 15,
   "metadata": {},
   "outputs": [],
   "source": [
    "b2wCorpus.reset_index(drop=True, inplace=True)"
   ]
  },
  {
   "cell_type": "code",
   "execution_count": 16,
   "metadata": {},
   "outputs": [
    {
     "data": {
      "text/html": [
       "<div>\n",
       "<style scoped>\n",
       "    .dataframe tbody tr th:only-of-type {\n",
       "        vertical-align: middle;\n",
       "    }\n",
       "\n",
       "    .dataframe tbody tr th {\n",
       "        vertical-align: top;\n",
       "    }\n",
       "\n",
       "    .dataframe thead th {\n",
       "        text-align: right;\n",
       "    }\n",
       "</style>\n",
       "<table border=\"1\" class=\"dataframe\">\n",
       "  <thead>\n",
       "    <tr style=\"text-align: right;\">\n",
       "      <th></th>\n",
       "      <th>overall_rating</th>\n",
       "      <th>review_text</th>\n",
       "      <th>ord</th>\n",
       "    </tr>\n",
       "  </thead>\n",
       "  <tbody>\n",
       "    <tr>\n",
       "      <th>0</th>\n",
       "      <td>0</td>\n",
       "      <td>[7804, 7256, 902, 62, 7804, 7256, 0, 291, 2537...</td>\n",
       "      <td>10</td>\n",
       "    </tr>\n",
       "    <tr>\n",
       "      <th>1</th>\n",
       "      <td>0</td>\n",
       "      <td>[9735, 304, 7804, 7256, 12783, 10545, 785, 166...</td>\n",
       "      <td>12</td>\n",
       "    </tr>\n",
       "    <tr>\n",
       "      <th>2</th>\n",
       "      <td>4</td>\n",
       "      <td>[76, 4108, 11735, 29588, 4104, 3835, 457, 1494...</td>\n",
       "      <td>13</td>\n",
       "    </tr>\n",
       "    <tr>\n",
       "      <th>3</th>\n",
       "      <td>0</td>\n",
       "      <td>[9735, 128, 10492, 128, 4774, 10185, 2288, 184...</td>\n",
       "      <td>14</td>\n",
       "    </tr>\n",
       "    <tr>\n",
       "      <th>4</th>\n",
       "      <td>0</td>\n",
       "      <td>[902, 382, 175496, 40728, 1143, 17129, 714, 39...</td>\n",
       "      <td>30</td>\n",
       "    </tr>\n",
       "  </tbody>\n",
       "</table>\n",
       "</div>"
      ],
      "text/plain": [
       "   overall_rating                                        review_text  ord\n",
       "0               0  [7804, 7256, 902, 62, 7804, 7256, 0, 291, 2537...   10\n",
       "1               0  [9735, 304, 7804, 7256, 12783, 10545, 785, 166...   12\n",
       "2               4  [76, 4108, 11735, 29588, 4104, 3835, 457, 1494...   13\n",
       "3               0  [9735, 128, 10492, 128, 4774, 10185, 2288, 184...   14\n",
       "4               0  [902, 382, 175496, 40728, 1143, 17129, 714, 39...   30"
      ]
     },
     "execution_count": 16,
     "metadata": {},
     "output_type": "execute_result"
    }
   ],
   "source": [
    "b2wCorpus.head()"
   ]
  },
  {
   "cell_type": "code",
   "execution_count": 17,
   "metadata": {},
   "outputs": [
    {
     "data": {
      "text/plain": [
       "pandas.core.series.Series"
      ]
     },
     "execution_count": 17,
     "metadata": {},
     "output_type": "execute_result"
    }
   ],
   "source": [
    "type(b2wCorpus.review_text)"
   ]
  },
  {
   "cell_type": "code",
   "execution_count": 18,
   "metadata": {},
   "outputs": [],
   "source": [
    "#b2wCorpus.review_text.str.rjust(width=50, fillchar='0')\n",
    "#np.reshape(y_train,(-1))\n",
    "\n",
    "b2wCorpus.review_text = keras.preprocessing.sequence.pad_sequences(b2wCorpus.apply(lambda row: np.reshape(row.review_text,(-1)), axis=1), maxlen=50, padding='post').tolist()"
   ]
  },
  {
   "cell_type": "code",
   "execution_count": 19,
   "metadata": {},
   "outputs": [
    {
     "data": {
      "text/html": [
       "<div>\n",
       "<style scoped>\n",
       "    .dataframe tbody tr th:only-of-type {\n",
       "        vertical-align: middle;\n",
       "    }\n",
       "\n",
       "    .dataframe tbody tr th {\n",
       "        vertical-align: top;\n",
       "    }\n",
       "\n",
       "    .dataframe thead th {\n",
       "        text-align: right;\n",
       "    }\n",
       "</style>\n",
       "<table border=\"1\" class=\"dataframe\">\n",
       "  <thead>\n",
       "    <tr style=\"text-align: right;\">\n",
       "      <th></th>\n",
       "      <th>overall_rating</th>\n",
       "      <th>review_text</th>\n",
       "      <th>ord</th>\n",
       "    </tr>\n",
       "  </thead>\n",
       "  <tbody>\n",
       "    <tr>\n",
       "      <th>0</th>\n",
       "      <td>0</td>\n",
       "      <td>[7804, 7256, 902, 62, 7804, 7256, 0, 291, 2537...</td>\n",
       "      <td>10</td>\n",
       "    </tr>\n",
       "    <tr>\n",
       "      <th>1</th>\n",
       "      <td>0</td>\n",
       "      <td>[9735, 304, 7804, 7256, 12783, 10545, 785, 166...</td>\n",
       "      <td>12</td>\n",
       "    </tr>\n",
       "    <tr>\n",
       "      <th>2</th>\n",
       "      <td>4</td>\n",
       "      <td>[76, 4108, 11735, 29588, 4104, 3835, 457, 1494...</td>\n",
       "      <td>13</td>\n",
       "    </tr>\n",
       "    <tr>\n",
       "      <th>3</th>\n",
       "      <td>0</td>\n",
       "      <td>[9735, 128, 10492, 128, 4774, 10185, 2288, 184...</td>\n",
       "      <td>14</td>\n",
       "    </tr>\n",
       "    <tr>\n",
       "      <th>4</th>\n",
       "      <td>0</td>\n",
       "      <td>[902, 382, 175496, 40728, 1143, 17129, 714, 39...</td>\n",
       "      <td>30</td>\n",
       "    </tr>\n",
       "  </tbody>\n",
       "</table>\n",
       "</div>"
      ],
      "text/plain": [
       "   overall_rating                                        review_text  ord\n",
       "0               0  [7804, 7256, 902, 62, 7804, 7256, 0, 291, 2537...   10\n",
       "1               0  [9735, 304, 7804, 7256, 12783, 10545, 785, 166...   12\n",
       "2               4  [76, 4108, 11735, 29588, 4104, 3835, 457, 1494...   13\n",
       "3               0  [9735, 128, 10492, 128, 4774, 10185, 2288, 184...   14\n",
       "4               0  [902, 382, 175496, 40728, 1143, 17129, 714, 39...   30"
      ]
     },
     "execution_count": 19,
     "metadata": {},
     "output_type": "execute_result"
    }
   ],
   "source": [
    "b2wCorpus.head()"
   ]
  },
  {
   "cell_type": "code",
   "execution_count": 20,
   "metadata": {},
   "outputs": [],
   "source": [
    "# Função de split\n",
    "def train_validate_test_split(df, train_percent=.65, validate_percent=.1, seed=42):\n",
    "    np.random.seed(seed)\n",
    "    perm = np.random.permutation(df.index)\n",
    "    m = len(df.index)\n",
    "    train_end = int(train_percent * m)\n",
    "    validate_end = int(validate_percent * m) + train_end\n",
    "    train = df.iloc[perm[:train_end]]\n",
    "    validate = df.iloc[perm[train_end:validate_end]]\n",
    "    test = df.iloc[perm[validate_end:]]\n",
    "    return train, validate, test"
   ]
  },
  {
   "cell_type": "code",
   "execution_count": 21,
   "metadata": {},
   "outputs": [],
   "source": [
    "b2wCorpusTrain, b2wCorpusValidate, b2wCorpusTest = train_validate_test_split(b2wCorpus)"
   ]
  },
  {
   "cell_type": "code",
   "execution_count": 22,
   "metadata": {},
   "outputs": [
    {
     "data": {
      "text/html": [
       "<div>\n",
       "<style scoped>\n",
       "    .dataframe tbody tr th:only-of-type {\n",
       "        vertical-align: middle;\n",
       "    }\n",
       "\n",
       "    .dataframe tbody tr th {\n",
       "        vertical-align: top;\n",
       "    }\n",
       "\n",
       "    .dataframe thead th {\n",
       "        text-align: right;\n",
       "    }\n",
       "</style>\n",
       "<table border=\"1\" class=\"dataframe\">\n",
       "  <thead>\n",
       "    <tr style=\"text-align: right;\">\n",
       "      <th></th>\n",
       "      <th>overall_rating</th>\n",
       "      <th>review_text</th>\n",
       "      <th>ord</th>\n",
       "    </tr>\n",
       "  </thead>\n",
       "  <tbody>\n",
       "    <tr>\n",
       "      <th>13969</th>\n",
       "      <td>1</td>\n",
       "      <td>[386, 509, 0, 620, 7804, 11949, 3302, 223, 229...</td>\n",
       "      <td>18</td>\n",
       "    </tr>\n",
       "    <tr>\n",
       "      <th>64918</th>\n",
       "      <td>4</td>\n",
       "      <td>[1619, 16476, 25673, 2130, 1349, 202, 2099, 31...</td>\n",
       "      <td>19</td>\n",
       "    </tr>\n",
       "    <tr>\n",
       "      <th>4884</th>\n",
       "      <td>3</td>\n",
       "      <td>[363, 20405, 532, 0, 8129, 54465, 6468, 16476,...</td>\n",
       "      <td>10</td>\n",
       "    </tr>\n",
       "    <tr>\n",
       "      <th>35392</th>\n",
       "      <td>0</td>\n",
       "      <td>[10835, 221, 8852, 428, 1446, 92851, 10835, 16...</td>\n",
       "      <td>20</td>\n",
       "    </tr>\n",
       "    <tr>\n",
       "      <th>53505</th>\n",
       "      <td>2</td>\n",
       "      <td>[37681, 362, 565, 1312, 19672, 32617, 234, 94,...</td>\n",
       "      <td>14</td>\n",
       "    </tr>\n",
       "  </tbody>\n",
       "</table>\n",
       "</div>"
      ],
      "text/plain": [
       "       overall_rating                                        review_text  ord\n",
       "13969               1  [386, 509, 0, 620, 7804, 11949, 3302, 223, 229...   18\n",
       "64918               4  [1619, 16476, 25673, 2130, 1349, 202, 2099, 31...   19\n",
       "4884                3  [363, 20405, 532, 0, 8129, 54465, 6468, 16476,...   10\n",
       "35392               0  [10835, 221, 8852, 428, 1446, 92851, 10835, 16...   20\n",
       "53505               2  [37681, 362, 565, 1312, 19672, 32617, 234, 94,...   14"
      ]
     },
     "execution_count": 22,
     "metadata": {},
     "output_type": "execute_result"
    }
   ],
   "source": [
    "#b2wCorpusTrain=b2wCorpusTrain.reindex(b2wCorpusTrain['ord'].sort_values(ascending=False).index)\n",
    "b2wCorpusTrain.head()"
   ]
  },
  {
   "cell_type": "code",
   "execution_count": 23,
   "metadata": {},
   "outputs": [
    {
     "data": {
      "text/plain": [
       "<bound method NDFrame.head of        overall_rating                                        review_text  ord\n",
       "35006               1  [3448, 620, 45525, 3054, 14038, 7804, 0, 70, 0...   10\n",
       "12039               1  [168, 9735, 5437, 168, 7256, 566, 643, 101, 83...   15\n",
       "1205                3  [9735, 902, 20206, 2499, 85324, 6851, 6731, 56...   13\n",
       "52717               3  [6244, 1815, 2689, 5437, 2499, 85324, 2104, 21...   12\n",
       "55836               2  [9735, 902, 7455, 459, 0, 310, 173, 7804, 7256...   17\n",
       "...               ...                                                ...  ...\n",
       "33447               0  [108018, 5841, 2130, 2832, 20752, 2420, 7804, ...   41\n",
       "41535               0  [902, 8867, 20096, 18874, 265, 1294, 2197, 223...   11\n",
       "54315               1  [44608, 7051, 902, 1721, 813, 930, 7804, 6985,...   21\n",
       "34120               3  [363, 0, 1602, 715, 226, 18598, 134, 26493, 21...   12\n",
       "3902                0  [467, 902, 7256, 5437, 33343, 1150, 6440, 1887...   33\n",
       "\n",
       "[6840 rows x 3 columns]>"
      ]
     },
     "execution_count": 23,
     "metadata": {},
     "output_type": "execute_result"
    }
   ],
   "source": [
    "#b2wCorpusValidate=b2wCorpusValidate.reindex(b2wCorpusValidate['ord'].sort_values(ascending=False).index)\n",
    "b2wCorpusValidate.head"
   ]
  },
  {
   "cell_type": "code",
   "execution_count": 24,
   "metadata": {},
   "outputs": [
    {
     "data": {
      "text/plain": [
       "<bound method NDFrame.head of        overall_rating                                        review_text  ord\n",
       "15991               2  [276, 0, 4131, 958, 101724, 74216, 12967, 276,...   50\n",
       "54544               4  [169, 598, 6515, 7804, 440, 230, 5437, 9735, 1...   50\n",
       "59543               4  [169, 930, 138589, 70, 21144, 112734, 4253, 90...   50\n",
       "35157               0  [902, 366, 2141, 173, 5885, 7157, 30209, 1790,...   50\n",
       "3675                0  [9735, 170337, 86, 1499, 3851, 86, 14468, 2689...   50\n",
       "...               ...                                                ...  ...\n",
       "22886               4  [3615, 428, 131, 566, 4853, 1664, 1033, 59872,...   10\n",
       "54441               1  [194801, 902, 10185, 45028, 1450, 7804, 10994,...   10\n",
       "10190               4  [902, 2104, 6376, 46064, 3460, 978, 0, 930, 13...   10\n",
       "60875               2  [12783, 1309, 7804, 2104, 902, 39, 129359, 446...   10\n",
       "21942               4  [6376, 902, 2499, 2789, 85324, 112734, 14911, ...   10\n",
       "\n",
       "[17103 rows x 3 columns]>"
      ]
     },
     "execution_count": 24,
     "metadata": {},
     "output_type": "execute_result"
    }
   ],
   "source": [
    "b2wCorpusTest=b2wCorpusTest.reindex(b2wCorpusTest['ord'].sort_values(ascending=False).index)\n",
    "b2wCorpusTest.head"
   ]
  },
  {
   "cell_type": "code",
   "execution_count": 25,
   "metadata": {},
   "outputs": [
    {
     "data": {
      "text/plain": [
       "pandas.core.series.Series"
      ]
     },
     "execution_count": 25,
     "metadata": {},
     "output_type": "execute_result"
    }
   ],
   "source": [
    "type(b2wCorpus.review_text)"
   ]
  },
  {
   "cell_type": "code",
   "execution_count": 26,
   "metadata": {},
   "outputs": [],
   "source": [
    "# Treino, Validação e teste\n",
    "RANDOM_SEED = 42\n",
    "x_train =  [ emb for emb in b2wCorpusTrain.review_text]\n",
    "y_train =   b2wCorpusTrain.overall_rating\n",
    "x_val = [ emb for emb in b2wCorpusValidate.review_text ]\n",
    "y_val = b2wCorpusValidate.overall_rating\n",
    "x_train = np.asarray(x_train)\n",
    "x_val =np.asarray(x_val)\n",
    "\n",
    "np.random.seed(RANDOM_SEED)\n",
    "model = KeyedVectors.load_word2vec_format('word2vec_200k.txt')\n",
    "emb = model.get_keras_embedding()"
   ]
  },
  {
   "cell_type": "code",
   "execution_count": null,
   "metadata": {},
   "outputs": [],
   "source": []
  },
  {
   "cell_type": "code",
   "execution_count": 45,
   "metadata": {},
   "outputs": [
    {
     "name": "stdout",
     "output_type": "stream",
     "text": [
      "Epoch 1/50\n",
      "1390/1390 [==============================] - 31s 22ms/step - loss: 1.2464 - accuracy: 0.4940 - val_loss: 1.2259 - val_accuracy: 0.5067\n",
      "Epoch 2/50\n",
      "1390/1390 [==============================] - 29s 21ms/step - loss: 1.1210 - accuracy: 0.5419 - val_loss: 1.0804 - val_accuracy: 0.5550\n",
      "Epoch 3/50\n",
      "1390/1390 [==============================] - 29s 21ms/step - loss: 1.0618 - accuracy: 0.5664 - val_loss: 1.0476 - val_accuracy: 0.5656\n",
      "Epoch 4/50\n",
      "1390/1390 [==============================] - 30s 21ms/step - loss: 1.0274 - accuracy: 0.5817 - val_loss: 1.0079 - val_accuracy: 0.5813\n",
      "Epoch 5/50\n",
      "1390/1390 [==============================] - 29s 21ms/step - loss: 1.0021 - accuracy: 0.5874 - val_loss: 0.9960 - val_accuracy: 0.5857\n",
      "Epoch 6/50\n",
      "1390/1390 [==============================] - 28s 20ms/step - loss: 0.9809 - accuracy: 0.5965 - val_loss: 0.9888 - val_accuracy: 0.5860\n",
      "Epoch 7/50\n",
      "1390/1390 [==============================] - 28s 20ms/step - loss: 0.9648 - accuracy: 0.6025 - val_loss: 0.9705 - val_accuracy: 0.5968\n",
      "Epoch 8/50\n",
      "1390/1390 [==============================] - 28s 20ms/step - loss: 0.9454 - accuracy: 0.6103 - val_loss: 0.9711 - val_accuracy: 0.5944\n",
      "Epoch 9/50\n",
      "1390/1390 [==============================] - 28s 20ms/step - loss: 0.9293 - accuracy: 0.6181 - val_loss: 0.9764 - val_accuracy: 0.5924\n",
      "Epoch 10/50\n",
      "1390/1390 [==============================] - 28s 20ms/step - loss: 0.9120 - accuracy: 0.6230 - val_loss: 0.9734 - val_accuracy: 0.5984\n",
      "Epoch 11/50\n",
      "1390/1390 [==============================] - 29s 21ms/step - loss: 0.8925 - accuracy: 0.6317 - val_loss: 0.9870 - val_accuracy: 0.5972\n",
      "Epoch 12/50\n",
      "1390/1390 [==============================] - 29s 21ms/step - loss: 0.8735 - accuracy: 0.6389 - val_loss: 0.9699 - val_accuracy: 0.6004\n",
      "Epoch 13/50\n",
      "1390/1390 [==============================] - 29s 21ms/step - loss: 0.8556 - accuracy: 0.6475 - val_loss: 0.9773 - val_accuracy: 0.5920\n",
      "Epoch 14/50\n",
      "1390/1390 [==============================] - 29s 21ms/step - loss: 0.8357 - accuracy: 0.6546 - val_loss: 0.9948 - val_accuracy: 0.6047\n",
      "Epoch 15/50\n",
      "1390/1390 [==============================] - 29s 21ms/step - loss: 0.8111 - accuracy: 0.6655 - val_loss: 1.0082 - val_accuracy: 0.5977\n",
      "Epoch 16/50\n",
      "1390/1390 [==============================] - 29s 21ms/step - loss: 0.7928 - accuracy: 0.6739 - val_loss: 1.0049 - val_accuracy: 0.5863\n",
      "Epoch 17/50\n",
      "1390/1390 [==============================] - 29s 21ms/step - loss: 0.7697 - accuracy: 0.6852 - val_loss: 1.0272 - val_accuracy: 0.5925\n",
      "Epoch 18/50\n",
      "1390/1390 [==============================] - 29s 21ms/step - loss: 0.7477 - accuracy: 0.6948 - val_loss: 1.0267 - val_accuracy: 0.5956\n",
      "Epoch 19/50\n",
      "1390/1390 [==============================] - 29s 21ms/step - loss: 0.7263 - accuracy: 0.7057 - val_loss: 1.0667 - val_accuracy: 0.5810\n",
      "Epoch 20/50\n",
      "1390/1390 [==============================] - 29s 21ms/step - loss: 0.7039 - accuracy: 0.7152 - val_loss: 1.0843 - val_accuracy: 0.5773\n",
      "Epoch 21/50\n",
      "1390/1390 [==============================] - 29s 21ms/step - loss: 0.6823 - accuracy: 0.7247 - val_loss: 1.1178 - val_accuracy: 0.5636\n",
      "Epoch 22/50\n",
      "1390/1390 [==============================] - 29s 21ms/step - loss: 0.6584 - accuracy: 0.7366 - val_loss: 1.1476 - val_accuracy: 0.5816\n",
      "Epoch 23/50\n",
      "1390/1390 [==============================] - 29s 21ms/step - loss: 0.6352 - accuracy: 0.7477 - val_loss: 1.2024 - val_accuracy: 0.5826\n",
      "Epoch 24/50\n",
      "1390/1390 [==============================] - 29s 21ms/step - loss: 0.6104 - accuracy: 0.7615 - val_loss: 1.2336 - val_accuracy: 0.5667\n",
      "Epoch 25/50\n",
      "1390/1390 [==============================] - 29s 21ms/step - loss: 0.5905 - accuracy: 0.7701 - val_loss: 1.3028 - val_accuracy: 0.5674\n",
      "Epoch 26/50\n",
      "1390/1390 [==============================] - 29s 21ms/step - loss: 0.5687 - accuracy: 0.7816 - val_loss: 1.2464 - val_accuracy: 0.5721\n",
      "Epoch 27/50\n",
      "1390/1390 [==============================] - 29s 21ms/step - loss: 0.5550 - accuracy: 0.7875 - val_loss: 1.2993 - val_accuracy: 0.5626\n",
      "Epoch 28/50\n",
      "1390/1390 [==============================] - 29s 21ms/step - loss: 0.5316 - accuracy: 0.7992 - val_loss: 1.3587 - val_accuracy: 0.5620\n",
      "Epoch 29/50\n",
      "1390/1390 [==============================] - 29s 21ms/step - loss: 0.5119 - accuracy: 0.8081 - val_loss: 1.3706 - val_accuracy: 0.5649\n",
      "Epoch 30/50\n",
      "1390/1390 [==============================] - 29s 21ms/step - loss: 0.4911 - accuracy: 0.8163 - val_loss: 1.3463 - val_accuracy: 0.5724\n",
      "Epoch 31/50\n",
      "1390/1390 [==============================] - 29s 21ms/step - loss: 0.5008 - accuracy: 0.8123 - val_loss: 1.3879 - val_accuracy: 0.5611\n",
      "Epoch 32/50\n",
      "1390/1390 [==============================] - 30s 22ms/step - loss: 0.4618 - accuracy: 0.8314 - val_loss: 1.4125 - val_accuracy: 0.5626\n",
      "Epoch 33/50\n",
      "1390/1390 [==============================] - 29s 21ms/step - loss: 0.4384 - accuracy: 0.8412 - val_loss: 1.5235 - val_accuracy: 0.5664\n",
      "Epoch 34/50\n",
      "1390/1390 [==============================] - 30s 21ms/step - loss: 0.4274 - accuracy: 0.8457 - val_loss: 1.5163 - val_accuracy: 0.5594\n",
      "Epoch 35/50\n",
      "1390/1390 [==============================] - 29s 21ms/step - loss: 0.4149 - accuracy: 0.8504 - val_loss: 1.5072 - val_accuracy: 0.5592\n",
      "Epoch 36/50\n",
      "1390/1390 [==============================] - 29s 21ms/step - loss: 0.4150 - accuracy: 0.8508 - val_loss: 1.5325 - val_accuracy: 0.5601\n",
      "Epoch 37/50\n",
      "1390/1390 [==============================] - 30s 21ms/step - loss: 0.3840 - accuracy: 0.8632 - val_loss: 1.6077 - val_accuracy: 0.5526\n",
      "Epoch 38/50\n",
      "1390/1390 [==============================] - 33s 24ms/step - loss: 0.3727 - accuracy: 0.8690 - val_loss: 1.6693 - val_accuracy: 0.5572\n",
      "Epoch 39/50\n",
      "1390/1390 [==============================] - 31s 23ms/step - loss: 0.3647 - accuracy: 0.8710 - val_loss: 1.6612 - val_accuracy: 0.5596\n",
      "Epoch 40/50\n",
      "1390/1390 [==============================] - 29s 21ms/step - loss: 0.3518 - accuracy: 0.8782 - val_loss: 1.6457 - val_accuracy: 0.5474\n",
      "Epoch 41/50\n",
      "1390/1390 [==============================] - 30s 21ms/step - loss: 0.3501 - accuracy: 0.8766 - val_loss: 1.7089 - val_accuracy: 0.5579\n",
      "Epoch 42/50\n",
      "1390/1390 [==============================] - 30s 21ms/step - loss: 0.3260 - accuracy: 0.8880 - val_loss: 1.7338 - val_accuracy: 0.5510\n",
      "Epoch 43/50\n",
      "1390/1390 [==============================] - 30s 21ms/step - loss: 0.3268 - accuracy: 0.8884 - val_loss: 1.7295 - val_accuracy: 0.5444\n",
      "Epoch 44/50\n",
      "1390/1390 [==============================] - 31s 22ms/step - loss: 0.3135 - accuracy: 0.8937 - val_loss: 1.7922 - val_accuracy: 0.5382\n",
      "Epoch 45/50\n",
      "1390/1390 [==============================] - 29s 21ms/step - loss: 0.2981 - accuracy: 0.9004 - val_loss: 1.8135 - val_accuracy: 0.5561\n",
      "Epoch 46/50\n",
      "1390/1390 [==============================] - 31s 23ms/step - loss: 0.2896 - accuracy: 0.9016 - val_loss: 1.8319 - val_accuracy: 0.5475\n",
      "Epoch 47/50\n",
      "1390/1390 [==============================] - 29s 21ms/step - loss: 0.2932 - accuracy: 0.9019 - val_loss: 1.8266 - val_accuracy: 0.5493\n",
      "Epoch 48/50\n",
      "1390/1390 [==============================] - 29s 21ms/step - loss: 0.2722 - accuracy: 0.9085 - val_loss: 1.9326 - val_accuracy: 0.5414\n",
      "Epoch 49/50\n",
      "1390/1390 [==============================] - 29s 21ms/step - loss: 0.2697 - accuracy: 0.9101 - val_loss: 1.9324 - val_accuracy: 0.5481\n",
      "Epoch 50/50\n",
      "1390/1390 [==============================] - 29s 21ms/step - loss: 0.2636 - accuracy: 0.9122 - val_loss: 1.9015 - val_accuracy: 0.5499\n"
     ]
    }
   ],
   "source": [
    "from tensorflow.keras.losses import sparse_categorical_crossentropy\n",
    "SEQUENCE_MAXLEN = 50\n",
    "model = keras.Sequential()\n",
    "model.add(layers.Input(shape=(SEQUENCE_MAXLEN, )))\n",
    "model.add(emb)\n",
    "model.add(layers.LSTM(128))\n",
    "model.add(Dropout(0.25))\n",
    "model.add(keras.layers.Dense(5, activation='softmax'))\n",
    "#opt = tf.keras.optimizers.SGD(learning_rate=.1, momentum=.5)\n",
    "#opt = tf.keras.optimizers.Adamax(learning_rate=0.01, beta_1=.9, beta_2=.9, epsilon=1e-07, name=\"Adamax\")\n",
    "#model.compile(optimizer=opt, loss=categorical_crossentropy, metrics=['acc', 'mae'])\n",
    "opt=\"adam\"\n",
    "model.compile(optimizer=opt,loss=sparse_categorical_crossentropy, metrics=[\"accuracy\"])\n",
    "history = model.fit(\n",
    "    x= x_train, y=y_train, batch_size=32, epochs=50, validation_data=(x_val, y_val)\n",
    ")"
   ]
  },
  {
   "cell_type": "code",
   "execution_count": 46,
   "metadata": {},
   "outputs": [
    {
     "data": {
      "image/png": "[encoded data removed]",
      "text/plain": [
       "<Figure size 432x288 with 1 Axes>"
      ]
     },
     "metadata": {},
     "output_type": "display_data"
    }
   ],
   "source": [
    "plt.title('Loss')\n",
    "plt.xlabel('epochs')\n",
    "plt.ylabel('Loss')\n",
    "plt.plot(history.history['loss'], label='train')\n",
    "plt.plot(history.history['val_loss'], label='valid')\n",
    "plt.legend()\n",
    "plt.show();"
   ]
  },
  {
   "cell_type": "code",
   "execution_count": 47,
   "metadata": {},
   "outputs": [
    {
     "data": {
      "image/png": "[encoded data removed]",
      "text/plain": [
       "<Figure size 432x288 with 1 Axes>"
      ]
     },
     "metadata": {},
     "output_type": "display_data"
    }
   ],
   "source": [
    "plt.title('Accuracy')\n",
    "plt.xlabel('epochs')\n",
    "plt.ylabel('accuracy')\n",
    "plt.plot(history.history['accuracy'], label='train')\n",
    "plt.plot(history.history['val_accuracy'], label='valid')\n",
    "plt.legend()\n",
    "plt.show();"
   ]
  },
  {
   "cell_type": "code",
   "execution_count": null,
   "metadata": {},
   "outputs": [],
   "source": []
  },
  {
   "cell_type": "code",
   "execution_count": null,
   "metadata": {},
   "outputs": [],
   "source": []
  }
 ],
 "metadata": {
  "kernelspec": {
   "display_name": "Python 3",
   "language": "python",
   "name": "python3"
  },
  "language_info": {
   "codemirror_mode": {
    "name": "ipython",
    "version": 3
   },
   "file_extension": ".py",
   "mimetype": "text/x-python",
   "name": "python",
   "nbconvert_exporter": "python",
   "pygments_lexer": "ipython3",
   "version": "3.8.5"
  }
 },
 "nbformat": 4,
 "nbformat_minor": 4
}
