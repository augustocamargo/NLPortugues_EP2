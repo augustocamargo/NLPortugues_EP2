{
 "cells": [
  {
   "cell_type": "code",
   "execution_count": 1,
   "metadata": {},
   "outputs": [
    {
     "name": "stderr",
     "output_type": "stream",
     "text": [
      "[nltk_data] Downloading package stopwords to\n",
      "[nltk_data]     /home/augusto/nltk_data...\n",
      "[nltk_data]   Package stopwords is already up-to-date!\n",
      "[nltk_data] Downloading package punkt to /home/augusto/nltk_data...\n",
      "[nltk_data]   Package punkt is already up-to-date!\n"
     ]
    }
   ],
   "source": [
    "import tensorflow as tf\n",
    "from tensorflow import keras\n",
    "import numpy as np\n",
    "import pandas as pd\n",
    "import matplotlib.pyplot as plt\n",
    "from sklearn.model_selection import train_test_split\n",
    "from tensorflow.keras.layers.experimental.preprocessing import TextVectorization\n",
    "import nltk\n",
    "nltk.download('stopwords')\n",
    "stop_words = nltk.corpus.stopwords.words('portuguese')\n",
    "from nltk.stem import SnowballStemmer\n",
    "nltk.download('punkt')\n",
    "stemmer = SnowballStemmer('portuguese')\n",
    "import re\n",
    "from unidecode import unidecode\n",
    "from keras.regularizers import l2\n",
    "from gensim.models import KeyedVectors\n",
    "from tensorflow.keras import layers\n",
    "from tensorflow.keras.losses import categorical_crossentropy\n",
    "from keras.layers import Dense, Dropout, LSTM"
   ]
  },
  {
   "cell_type": "markdown",
   "metadata": {},
   "source": [
    "## Pipeline "
   ]
  },
  {
   "cell_type": "code",
   "execution_count": 2,
   "metadata": {},
   "outputs": [],
   "source": [
    "# Base original da B2W, sem cortes + clean de overall_rating\n",
    "b2wCorpus = pd.read_csv(\"B2W-Reviews01.csv\",\";\",usecols=['review_text','overall_rating'])\n",
    "\n",
    "# Filtro\n",
    "d = b2wCorpus.index[b2wCorpus[\"overall_rating\"] < 1].tolist()\n",
    "b2wCorpus=b2wCorpus.drop(b2wCorpus.index[d])\n",
    "d = b2wCorpus.index[b2wCorpus[\"overall_rating\"] > 5].tolist()\n",
    "b2wCorpus=b2wCorpus.drop(b2wCorpus.index[d])\n",
    "b2wCorpus['overall_rating'].replace({2: 1, 3: 1,4: 5}, inplace = True)\n",
    "b2wCorpus['overall_rating'].replace({1: 0}, inplace = True)\n",
    "b2wCorpus['overall_rating'].replace({5: 1}, inplace = True)\n",
    "#d = b2wCorpus.index[b2wCorpus[\"overall_rating\"] == 2].tolist()\n",
    "#b2wCorpus=b2wCorpus.drop(b2wCorpus.index[d])\n",
    "#b2wCorpus['overall_rating'].replace({5: 2}, inplace = True)\n",
    "#print(b2wCorpus.head)"
   ]
  },
  {
   "cell_type": "code",
   "execution_count": 3,
   "metadata": {},
   "outputs": [],
   "source": [
    "SEQUENCE_MAXLEN = 40\n",
    "\n",
    "# Cleanning function\n",
    "text_cleaning_re = \"@\\S+|https?:\\S+|http?:\\S|[^A-Za-z0-9]+\"\n",
    "def preprocess(text, stem=False):\n",
    "  text = unidecode(text)\n",
    "  text = re.sub(text_cleaning_re, ' ', str(text).lower()).strip()\n",
    "  text = re.sub(\"\\d+\", \"\", text)\n",
    "  text = re.sub(r'(?:^| )\\w(?:$| )', ' ', text).strip()\n",
    "  tokens = []\n",
    "  for token in text.split():\n",
    "    if token not in stop_words:\n",
    "      if stem:\n",
    "        tokens.append(stemmer.stem(token))\n",
    "      else:\n",
    "        tokens.append(token)\n",
    "  return \" \".join(tokens)"
   ]
  },
  {
   "cell_type": "code",
   "execution_count": 4,
   "metadata": {},
   "outputs": [],
   "source": [
    "# Cleanning exec\n",
    "b2wCorpus.review_text = b2wCorpus.review_text.apply(lambda x: preprocess(x))"
   ]
  },
  {
   "cell_type": "code",
   "execution_count": 5,
   "metadata": {},
   "outputs": [
    {
     "name": "stdout",
     "output_type": "stream",
     "text": [
      "<bound method NDFrame.head of         overall_rating                                        review_text\n",
      "0                    1  contente compra entrega rapida unico problema ...\n",
      "1                    1        apenas consegui comprar lindo copo acrilico\n",
      "2                    1  supera agilidade praticidade outras panelas el...\n",
      "3                    1          filho amou parece verdade tantos detalhes\n",
      "4                    1  entrega prazo americanas estao parabens smart ...\n",
      "...                ...                                                ...\n",
      "132368               1  vale usando controle xbox durou semana carga p...\n",
      "132369               1  pratico barato super indico produto corre dia ...\n",
      "132370               1    chegou antes prazo previsto corresponde anuncio\n",
      "132371               0  material fraco poderia ser melhor ficou devend...\n",
      "132372               0  comprei produto chegou avaria devolvi ja vai f...\n",
      "\n",
      "[132373 rows x 2 columns]>\n"
     ]
    }
   ],
   "source": [
    "print(b2wCorpus.head)"
   ]
  },
  {
   "cell_type": "code",
   "execution_count": 6,
   "metadata": {},
   "outputs": [
    {
     "data": {
      "text/plain": [
       "0    52073\n",
       "1    80300\n",
       "Name: overall_rating, dtype: int64"
      ]
     },
     "execution_count": 6,
     "metadata": {},
     "output_type": "execute_result"
    }
   ],
   "source": [
    "b2wCorpus.overall_rating .value_counts().sort_index()"
   ]
  },
  {
   "cell_type": "code",
   "execution_count": 7,
   "metadata": {},
   "outputs": [
    {
     "name": "stdout",
     "output_type": "stream",
     "text": [
      "<bound method NDFrame.head of         overall_rating                                        review_text\n",
      "0                    0  tudo certo pedido entrega recomendo compra int...\n",
      "1                    0  comprei prancha garantia estendida desde chego...\n",
      "2                    1  ja comprei varias coisas quero continuar compr...\n",
      "3                    1             ainda nao instalei exatamente esperava\n",
      "4                    1   chegou prazo atendeu expectativas melhorou sinal\n",
      "...                ...                                                ...\n",
      "132368               0                    mede mts mts medida vou comprar\n",
      "132369               1             material entregue prazo recomendo site\n",
      "132370               0  ainda nao recebi produto nao avalia lo ja ligu...\n",
      "132371               1   acho moto otimo aparelho queria saber moto xt xt\n",
      "132372               0  comprei testar pois pretendo adquirir unidades...\n",
      "\n",
      "[132373 rows x 2 columns]>\n"
     ]
    }
   ],
   "source": [
    "# Partilha\n",
    "b2wCorpus = b2wCorpus.sample(frac=1).reset_index(drop=True)\n",
    "print(b2wCorpus.head)"
   ]
  },
  {
   "cell_type": "code",
   "execution_count": 8,
   "metadata": {},
   "outputs": [
    {
     "data": {
      "image/png": "[encoded data removed]",
      "text/plain": [
       "<Figure size 432x288 with 1 Axes>"
      ]
     },
     "metadata": {},
     "output_type": "display_data"
    },
    {
     "name": "stdout",
     "output_type": "stream",
     "text": [
      "131993\n"
     ]
    }
   ],
   "source": [
    "# histograma de palavras x qtd de linhas\n",
    "Words = [len(linha.split()) for linha in b2wCorpus[\"review_text\"] if len(linha.split()) <=100 ]\n",
    "plt.style.use('ggplot')\n",
    "plt.hist(Words, bins=[0,5,10,15,20,25,30,35,40,45,50,55,60,65,70,75,80,85])\n",
    "plt.show()\n",
    "print(len(Words))"
   ]
  },
  {
   "cell_type": "code",
   "execution_count": 9,
   "metadata": {},
   "outputs": [],
   "source": [
    "# Codifica\n",
    "N =  200001\n",
    "with open(\"cbow_s50.txt\", \"r\",encoding='utf-8') as file:\n",
    "    head = [next(file) for x in range(N)]\n",
    "\n",
    "head[0] = str(N-1)+ \" \" + \"50\"+ \"\\n\" # Conserta contagem de palavras\n",
    "with open(\"word2vec_200k.txt\", \"w\",encoding='utf-8') as file:\n",
    "    for line in head:\n",
    "        file.write(line)\n",
    "\n",
    "def vocaIndex(lista, stem=False):\n",
    "    for indice in range(len(lista)):\n",
    "        text=lista[indice].lower()\n",
    "        if text in model.vocab:\n",
    "             lista[indice] = model.vocab[text].index\n",
    "        else: \n",
    "             lista[indice] = '199999'\n",
    "    return lista\n",
    "\n",
    "model = KeyedVectors.load_word2vec_format('word2vec_200k.txt')\n",
    "\n",
    "def codifica(text, stem=False):\n",
    "    tokens = nltk.word_tokenize(text)\n",
    "    tokens = vocaIndex(tokens)\n",
    "    return tokens\n",
    "\n",
    "b2wCorpus.review_text = b2wCorpus.review_text.apply(lambda x: codifica(x))"
   ]
  },
  {
   "cell_type": "code",
   "execution_count": 10,
   "metadata": {},
   "outputs": [],
   "source": [
    "b2wCorpus['ord'] = b2wCorpus.apply(lambda row: len(row.review_text), axis=1)"
   ]
  },
  {
   "cell_type": "code",
   "execution_count": 11,
   "metadata": {},
   "outputs": [
    {
     "data": {
      "text/plain": [
       "(132373, 3)"
      ]
     },
     "execution_count": 11,
     "metadata": {},
     "output_type": "execute_result"
    }
   ],
   "source": [
    "b2wCorpus.shape"
   ]
  },
  {
   "cell_type": "code",
   "execution_count": 12,
   "metadata": {},
   "outputs": [],
   "source": [
    "#b2wCorpus = b2wCorpus[b2wCorpus.ord != 0]\n",
    "b2wCorpus = b2wCorpus.drop(b2wCorpus[b2wCorpus.ord < 10].index)\n",
    "b2wCorpus = b2wCorpus.drop(b2wCorpus[b2wCorpus.ord > SEQUENCE_MAXLEN].index)"
   ]
  },
  {
   "cell_type": "code",
   "execution_count": 13,
   "metadata": {},
   "outputs": [],
   "source": [
    "#b2wCorpus['overall_rating'] = b2wCorpus.overall_rating.apply(lambda x: x - 1)"
   ]
  },
  {
   "cell_type": "code",
   "execution_count": 14,
   "metadata": {},
   "outputs": [
    {
     "data": {
      "text/plain": [
       "(65887, 3)"
      ]
     },
     "execution_count": 14,
     "metadata": {},
     "output_type": "execute_result"
    }
   ],
   "source": [
    "b2wCorpus.shape"
   ]
  },
  {
   "cell_type": "code",
   "execution_count": 15,
   "metadata": {},
   "outputs": [],
   "source": [
    "b2wCorpus.reset_index(drop=True, inplace=True)"
   ]
  },
  {
   "cell_type": "code",
   "execution_count": 16,
   "metadata": {},
   "outputs": [
    {
     "data": {
      "text/html": [
       "<div>\n",
       "<style scoped>\n",
       "    .dataframe tbody tr th:only-of-type {\n",
       "        vertical-align: middle;\n",
       "    }\n",
       "\n",
       "    .dataframe tbody tr th {\n",
       "        vertical-align: top;\n",
       "    }\n",
       "\n",
       "    .dataframe thead th {\n",
       "        text-align: right;\n",
       "    }\n",
       "</style>\n",
       "<table border=\"1\" class=\"dataframe\">\n",
       "  <thead>\n",
       "    <tr style=\"text-align: right;\">\n",
       "      <th></th>\n",
       "      <th>overall_rating</th>\n",
       "      <th>review_text</th>\n",
       "      <th>ord</th>\n",
       "    </tr>\n",
       "  </thead>\n",
       "  <tbody>\n",
       "    <tr>\n",
       "      <th>0</th>\n",
       "      <td>0</td>\n",
       "      <td>[9735, 22657, 1918, 16199, 123, 428, 8867, 224...</td>\n",
       "      <td>23</td>\n",
       "    </tr>\n",
       "    <tr>\n",
       "      <th>1</th>\n",
       "      <td>1</td>\n",
       "      <td>[12783, 9735, 20341, 457, 386, 947, 14705, 101...</td>\n",
       "      <td>11</td>\n",
       "    </tr>\n",
       "    <tr>\n",
       "      <th>2</th>\n",
       "      <td>1</td>\n",
       "      <td>[902, 101071, 12783, 9735, 178, 18612, 176849,...</td>\n",
       "      <td>11</td>\n",
       "    </tr>\n",
       "    <tr>\n",
       "      <th>3</th>\n",
       "      <td>0</td>\n",
       "      <td>[902, 930, 10185, 3223, 404, 2100, 104, 5460, ...</td>\n",
       "      <td>16</td>\n",
       "    </tr>\n",
       "    <tr>\n",
       "      <th>4</th>\n",
       "      <td>0</td>\n",
       "      <td>[2989, 138, 39, 226, 1135, 7804, 428, 2369, 71...</td>\n",
       "      <td>29</td>\n",
       "    </tr>\n",
       "  </tbody>\n",
       "</table>\n",
       "</div>"
      ],
      "text/plain": [
       "   overall_rating                                        review_text  ord\n",
       "0               0  [9735, 22657, 1918, 16199, 123, 428, 8867, 224...   23\n",
       "1               1  [12783, 9735, 20341, 457, 386, 947, 14705, 101...   11\n",
       "2               1  [902, 101071, 12783, 9735, 178, 18612, 176849,...   11\n",
       "3               0  [902, 930, 10185, 3223, 404, 2100, 104, 5460, ...   16\n",
       "4               0  [2989, 138, 39, 226, 1135, 7804, 428, 2369, 71...   29"
      ]
     },
     "execution_count": 16,
     "metadata": {},
     "output_type": "execute_result"
    }
   ],
   "source": [
    "b2wCorpus.head()"
   ]
  },
  {
   "cell_type": "code",
   "execution_count": 17,
   "metadata": {},
   "outputs": [
    {
     "data": {
      "text/plain": [
       "pandas.core.series.Series"
      ]
     },
     "execution_count": 17,
     "metadata": {},
     "output_type": "execute_result"
    }
   ],
   "source": [
    "type(b2wCorpus.review_text)"
   ]
  },
  {
   "cell_type": "code",
   "execution_count": 18,
   "metadata": {},
   "outputs": [],
   "source": [
    "#b2wCorpus.review_text.str.rjust(width=50, fillchar='0')\n",
    "#np.reshape(y_train,(-1))\n",
    "\n",
    "b2wCorpus.review_text = keras.preprocessing.sequence.pad_sequences(b2wCorpus.apply(lambda row: np.reshape(row.review_text,(-1)), axis=1), maxlen=SEQUENCE_MAXLEN, padding='post').tolist()"
   ]
  },
  {
   "cell_type": "code",
   "execution_count": 19,
   "metadata": {},
   "outputs": [
    {
     "data": {
      "text/html": [
       "<div>\n",
       "<style scoped>\n",
       "    .dataframe tbody tr th:only-of-type {\n",
       "        vertical-align: middle;\n",
       "    }\n",
       "\n",
       "    .dataframe tbody tr th {\n",
       "        vertical-align: top;\n",
       "    }\n",
       "\n",
       "    .dataframe thead th {\n",
       "        text-align: right;\n",
       "    }\n",
       "</style>\n",
       "<table border=\"1\" class=\"dataframe\">\n",
       "  <thead>\n",
       "    <tr style=\"text-align: right;\">\n",
       "      <th></th>\n",
       "      <th>overall_rating</th>\n",
       "      <th>review_text</th>\n",
       "      <th>ord</th>\n",
       "    </tr>\n",
       "  </thead>\n",
       "  <tbody>\n",
       "    <tr>\n",
       "      <th>0</th>\n",
       "      <td>0</td>\n",
       "      <td>[9735, 22657, 1918, 16199, 123, 428, 8867, 224...</td>\n",
       "      <td>23</td>\n",
       "    </tr>\n",
       "    <tr>\n",
       "      <th>1</th>\n",
       "      <td>1</td>\n",
       "      <td>[12783, 9735, 20341, 457, 386, 947, 14705, 101...</td>\n",
       "      <td>11</td>\n",
       "    </tr>\n",
       "    <tr>\n",
       "      <th>2</th>\n",
       "      <td>1</td>\n",
       "      <td>[902, 101071, 12783, 9735, 178, 18612, 176849,...</td>\n",
       "      <td>11</td>\n",
       "    </tr>\n",
       "    <tr>\n",
       "      <th>3</th>\n",
       "      <td>0</td>\n",
       "      <td>[902, 930, 10185, 3223, 404, 2100, 104, 5460, ...</td>\n",
       "      <td>16</td>\n",
       "    </tr>\n",
       "    <tr>\n",
       "      <th>4</th>\n",
       "      <td>0</td>\n",
       "      <td>[2989, 138, 39, 226, 1135, 7804, 428, 2369, 71...</td>\n",
       "      <td>29</td>\n",
       "    </tr>\n",
       "  </tbody>\n",
       "</table>\n",
       "</div>"
      ],
      "text/plain": [
       "   overall_rating                                        review_text  ord\n",
       "0               0  [9735, 22657, 1918, 16199, 123, 428, 8867, 224...   23\n",
       "1               1  [12783, 9735, 20341, 457, 386, 947, 14705, 101...   11\n",
       "2               1  [902, 101071, 12783, 9735, 178, 18612, 176849,...   11\n",
       "3               0  [902, 930, 10185, 3223, 404, 2100, 104, 5460, ...   16\n",
       "4               0  [2989, 138, 39, 226, 1135, 7804, 428, 2369, 71...   29"
      ]
     },
     "execution_count": 19,
     "metadata": {},
     "output_type": "execute_result"
    }
   ],
   "source": [
    "b2wCorpus.head()"
   ]
  },
  {
   "cell_type": "code",
   "execution_count": 20,
   "metadata": {},
   "outputs": [],
   "source": [
    "# Função de split\n",
    "def train_validate_test_split(df, train_percent=.65, validate_percent=.1, seed=42):\n",
    "    np.random.seed(seed)\n",
    "    perm = np.random.permutation(df.index)\n",
    "    m = len(df.index)\n",
    "    train_end = int(train_percent * m)\n",
    "    validate_end = int(validate_percent * m) + train_end\n",
    "    train = df.iloc[perm[:train_end]]\n",
    "    validate = df.iloc[perm[train_end:validate_end]]\n",
    "    test = df.iloc[perm[validate_end:]]\n",
    "    return train, validate, test"
   ]
  },
  {
   "cell_type": "code",
   "execution_count": 21,
   "metadata": {},
   "outputs": [],
   "source": [
    "b2wCorpusTrain, b2wCorpusValidate, b2wCorpusTest = train_validate_test_split(b2wCorpus)"
   ]
  },
  {
   "cell_type": "code",
   "execution_count": 22,
   "metadata": {},
   "outputs": [
    {
     "data": {
      "text/html": [
       "<div>\n",
       "<style scoped>\n",
       "    .dataframe tbody tr th:only-of-type {\n",
       "        vertical-align: middle;\n",
       "    }\n",
       "\n",
       "    .dataframe tbody tr th {\n",
       "        vertical-align: top;\n",
       "    }\n",
       "\n",
       "    .dataframe thead th {\n",
       "        text-align: right;\n",
       "    }\n",
       "</style>\n",
       "<table border=\"1\" class=\"dataframe\">\n",
       "  <thead>\n",
       "    <tr style=\"text-align: right;\">\n",
       "      <th></th>\n",
       "      <th>overall_rating</th>\n",
       "      <th>review_text</th>\n",
       "      <th>ord</th>\n",
       "    </tr>\n",
       "  </thead>\n",
       "  <tbody>\n",
       "    <tr>\n",
       "      <th>34018</th>\n",
       "      <td>0</td>\n",
       "      <td>[2989, 3435, 372, 7804, 22522, 3006, 7804, 116...</td>\n",
       "      <td>40</td>\n",
       "    </tr>\n",
       "    <tr>\n",
       "      <th>58916</th>\n",
       "      <td>1</td>\n",
       "      <td>[517, 101071, 20017, 199999, 1150, 41021, 967,...</td>\n",
       "      <td>40</td>\n",
       "    </tr>\n",
       "    <tr>\n",
       "      <th>28915</th>\n",
       "      <td>0</td>\n",
       "      <td>[902, 494, 39, 22097, 724, 404, 39, 199999, 17...</td>\n",
       "      <td>40</td>\n",
       "    </tr>\n",
       "    <tr>\n",
       "      <th>19217</th>\n",
       "      <td>0</td>\n",
       "      <td>[305, 1129, 293, 111326, 5405, 9735, 106, 3183...</td>\n",
       "      <td>40</td>\n",
       "    </tr>\n",
       "    <tr>\n",
       "      <th>37535</th>\n",
       "      <td>0</td>\n",
       "      <td>[20969, 3563, 8306, 11264, 930, 7804, 199999, ...</td>\n",
       "      <td>40</td>\n",
       "    </tr>\n",
       "  </tbody>\n",
       "</table>\n",
       "</div>"
      ],
      "text/plain": [
       "       overall_rating                                        review_text  ord\n",
       "34018               0  [2989, 3435, 372, 7804, 22522, 3006, 7804, 116...   40\n",
       "58916               1  [517, 101071, 20017, 199999, 1150, 41021, 967,...   40\n",
       "28915               0  [902, 494, 39, 22097, 724, 404, 39, 199999, 17...   40\n",
       "19217               0  [305, 1129, 293, 111326, 5405, 9735, 106, 3183...   40\n",
       "37535               0  [20969, 3563, 8306, 11264, 930, 7804, 199999, ...   40"
      ]
     },
     "execution_count": 22,
     "metadata": {},
     "output_type": "execute_result"
    }
   ],
   "source": [
    "b2wCorpusTrain=b2wCorpusTrain.reindex(b2wCorpusTrain['ord'].sort_values(ascending=False).index)\n",
    "b2wCorpusTrain.head()"
   ]
  },
  {
   "cell_type": "code",
   "execution_count": 23,
   "metadata": {},
   "outputs": [
    {
     "data": {
      "text/plain": [
       "<bound method NDFrame.head of        overall_rating                                        review_text  ord\n",
       "14801               0  [7804, 30218, 194, 3495, 92632, 9735, 902, 202...   40\n",
       "46260               0  [7256, 6689, 193, 104, 166780, 9735, 2689, 543...   40\n",
       "22293               0  [18874, 265, 7804, 7256, 12783, 1643, 199999, ...   40\n",
       "16636               0  [902, 20798, 39, 199999, 3397, 532, 53, 635, 6...   40\n",
       "50249               1  [226, 11759, 1771, 21469, 3223, 3650, 678, 542...   40\n",
       "...               ...                                                ...  ...\n",
       "12028               1  [428, 131, 566, 2104, 902, 981, 89314, 46237, ...   10\n",
       "6829                1  [9735, 11072, 39884, 428, 70, 131, 7930, 6244,...   10\n",
       "63251               1  [2789, 78567, 3223, 199999, 2104, 101071, 1530...   10\n",
       "38016               1  [1278, 11735, 10547, 2499, 131, 566, 10547, 42...   10\n",
       "48753               0  [902, 7126, 1771, 20405, 24509, 321, 1771, 321...   10\n",
       "\n",
       "[6588 rows x 3 columns]>"
      ]
     },
     "execution_count": 23,
     "metadata": {},
     "output_type": "execute_result"
    }
   ],
   "source": [
    "b2wCorpusValidate=b2wCorpusValidate.reindex(b2wCorpusValidate['ord'].sort_values(ascending=False).index)\n",
    "b2wCorpusValidate.head"
   ]
  },
  {
   "cell_type": "code",
   "execution_count": 24,
   "metadata": {},
   "outputs": [
    {
     "data": {
      "text/plain": [
       "<bound method NDFrame.head of        overall_rating                                        review_text  ord\n",
       "65445               0  [363, 303, 7256, 10138, 9735, 188512, 930, 976...   40\n",
       "7254                1  [4710, 51890, 153, 3006, 199999, 82034, 203, 2...   40\n",
       "15596               0  [226, 86, 90008, 25099, 9735, 11264, 1345, 122...   40\n",
       "20607               0  [1643, 600, 25999, 50697, 8653, 31182, 1101, 5...   40\n",
       "23104               0  [902, 428, 8393, 293, 173, 99, 199999, 180, 11...   40\n",
       "...               ...                                                ...  ...\n",
       "9168                0  [3656, 36387, 18874, 114787, 7804, 464, 199999...   10\n",
       "7368                1  [2532, 1968, 6376, 902, 290, 1142, 795, 943, 3...   10\n",
       "13615               1  [985, 20341, 3012, 8517, 3830, 18453, 3006, 29...   10\n",
       "16465               1  [8567, 233, 3798, 2499, 6851, 25236, 502, 616,...   10\n",
       "37552               0  [234, 330, 98124, 218, 215, 9005, 147012, 330,...   10\n",
       "\n",
       "[16473 rows x 3 columns]>"
      ]
     },
     "execution_count": 24,
     "metadata": {},
     "output_type": "execute_result"
    }
   ],
   "source": [
    "b2wCorpusTest=b2wCorpusTest.reindex(b2wCorpusTest['ord'].sort_values(ascending=False).index)\n",
    "b2wCorpusTest.head"
   ]
  },
  {
   "cell_type": "code",
   "execution_count": 25,
   "metadata": {},
   "outputs": [
    {
     "data": {
      "text/plain": [
       "pandas.core.series.Series"
      ]
     },
     "execution_count": 25,
     "metadata": {},
     "output_type": "execute_result"
    }
   ],
   "source": [
    "type(b2wCorpus.review_text)"
   ]
  },
  {
   "cell_type": "code",
   "execution_count": 26,
   "metadata": {},
   "outputs": [],
   "source": [
    "# Treino, Validação e teste\n",
    "RANDOM_SEED = 42\n",
    "x_train =  [ emb for emb in b2wCorpusTrain.review_text]\n",
    "y_train =   b2wCorpusTrain.overall_rating\n",
    "x_val = [ emb for emb in b2wCorpusValidate.review_text ]\n",
    "y_val = b2wCorpusValidate.overall_rating\n",
    "x_train = np.asarray(x_train)\n",
    "x_val =np.asarray(x_val)\n",
    "\n",
    "np.random.seed(RANDOM_SEED)\n",
    "model = KeyedVectors.load_word2vec_format('word2vec_200k.txt')\n",
    "emb = model.get_keras_embedding()\n",
    "#emb.trainable = True"
   ]
  },
  {
   "cell_type": "code",
   "execution_count": 27,
   "metadata": {},
   "outputs": [
    {
     "name": "stdout",
     "output_type": "stream",
     "text": [
      "Epoch 1/50\n",
      "2677/2677 [==============================] - 48s 18ms/step - loss: 0.5371 - accuracy: 0.7404 - val_loss: 0.4500 - val_accuracy: 0.7989\n",
      "Epoch 2/50\n",
      "2677/2677 [==============================] - 46s 17ms/step - loss: 0.4653 - accuracy: 0.7873 - val_loss: 0.4050 - val_accuracy: 0.8200\n",
      "Epoch 3/50\n",
      "2677/2677 [==============================] - 46s 17ms/step - loss: 0.4396 - accuracy: 0.8018 - val_loss: 0.3864 - val_accuracy: 0.8326\n",
      "Epoch 4/50\n",
      "2677/2677 [==============================] - 47s 18ms/step - loss: 0.4222 - accuracy: 0.8090 - val_loss: 0.3745 - val_accuracy: 0.8353\n",
      "Epoch 5/50\n",
      "2677/2677 [==============================] - 48s 18ms/step - loss: 0.4113 - accuracy: 0.8150 - val_loss: 0.3654 - val_accuracy: 0.8423\n",
      "Epoch 6/50\n",
      "2677/2677 [==============================] - 47s 18ms/step - loss: 0.3995 - accuracy: 0.8239 - val_loss: 0.3598 - val_accuracy: 0.8473\n",
      "Epoch 7/50\n",
      "2677/2677 [==============================] - 47s 18ms/step - loss: 0.3894 - accuracy: 0.8297 - val_loss: 0.3573 - val_accuracy: 0.8478\n",
      "Epoch 8/50\n",
      "2677/2677 [==============================] - 47s 18ms/step - loss: 0.3845 - accuracy: 0.8301 - val_loss: 0.3427 - val_accuracy: 0.8515\n",
      "Epoch 9/50\n",
      "2677/2677 [==============================] - 47s 18ms/step - loss: 0.3766 - accuracy: 0.8352 - val_loss: 0.3374 - val_accuracy: 0.8546\n",
      "Epoch 10/50\n",
      "2677/2677 [==============================] - 47s 18ms/step - loss: 0.3687 - accuracy: 0.8402 - val_loss: 0.3376 - val_accuracy: 0.8546\n",
      "Epoch 11/50\n",
      "2677/2677 [==============================] - 47s 18ms/step - loss: 0.3632 - accuracy: 0.8429 - val_loss: 0.3373 - val_accuracy: 0.8552\n",
      "Epoch 12/50\n",
      "2677/2677 [==============================] - 48s 18ms/step - loss: 0.3601 - accuracy: 0.8427 - val_loss: 0.3346 - val_accuracy: 0.8544\n",
      "Epoch 13/50\n",
      "2677/2677 [==============================] - 47s 18ms/step - loss: 0.3525 - accuracy: 0.8470 - val_loss: 0.3348 - val_accuracy: 0.8573\n",
      "Epoch 14/50\n",
      "2677/2677 [==============================] - 48s 18ms/step - loss: 0.3494 - accuracy: 0.8469 - val_loss: 0.3337 - val_accuracy: 0.8526\n",
      "Epoch 15/50\n",
      "2677/2677 [==============================] - 53s 20ms/step - loss: 0.3470 - accuracy: 0.8485 - val_loss: 0.3376 - val_accuracy: 0.8566\n",
      "Epoch 16/50\n",
      "2677/2677 [==============================] - 53s 20ms/step - loss: 0.3418 - accuracy: 0.8521 - val_loss: 0.3310 - val_accuracy: 0.8553\n",
      "Epoch 17/50\n",
      "2677/2677 [==============================] - 55s 21ms/step - loss: 0.3406 - accuracy: 0.8538 - val_loss: 0.3285 - val_accuracy: 0.8576\n",
      "Epoch 18/50\n",
      "2677/2677 [==============================] - 56s 21ms/step - loss: 0.3384 - accuracy: 0.8539 - val_loss: 0.3302 - val_accuracy: 0.8575\n",
      "Epoch 19/50\n",
      "2677/2677 [==============================] - 55s 21ms/step - loss: 0.3317 - accuracy: 0.8564 - val_loss: 0.3346 - val_accuracy: 0.8584\n",
      "Epoch 20/50\n",
      "2677/2677 [==============================] - 54s 20ms/step - loss: 0.3323 - accuracy: 0.8565 - val_loss: 0.3297 - val_accuracy: 0.8641\n",
      "Epoch 21/50\n",
      "2677/2677 [==============================] - 55s 21ms/step - loss: 0.3314 - accuracy: 0.8568 - val_loss: 0.3359 - val_accuracy: 0.8587\n",
      "Epoch 22/50\n",
      "2677/2677 [==============================] - 52s 20ms/step - loss: 0.3273 - accuracy: 0.8594 - val_loss: 0.3295 - val_accuracy: 0.8596\n",
      "Epoch 23/50\n",
      "2677/2677 [==============================] - 52s 19ms/step - loss: 0.3260 - accuracy: 0.8580 - val_loss: 0.3275 - val_accuracy: 0.8611\n",
      "Epoch 24/50\n",
      "2677/2677 [==============================] - 52s 20ms/step - loss: 0.3215 - accuracy: 0.8605 - val_loss: 0.3327 - val_accuracy: 0.8610\n",
      "Epoch 25/50\n",
      "2677/2677 [==============================] - 52s 19ms/step - loss: 0.3174 - accuracy: 0.8648 - val_loss: 0.3348 - val_accuracy: 0.8590\n",
      "Epoch 26/50\n",
      "2677/2677 [==============================] - 52s 20ms/step - loss: 0.3198 - accuracy: 0.8610 - val_loss: 0.3341 - val_accuracy: 0.8635\n",
      "Epoch 27/50\n",
      "2677/2677 [==============================] - 52s 19ms/step - loss: 0.3147 - accuracy: 0.8650 - val_loss: 0.3299 - val_accuracy: 0.8614\n",
      "Epoch 28/50\n",
      "2677/2677 [==============================] - 47s 17ms/step - loss: 0.3133 - accuracy: 0.8643 - val_loss: 0.3367 - val_accuracy: 0.8600\n",
      "Epoch 29/50\n",
      "2677/2677 [==============================] - 46s 17ms/step - loss: 0.3129 - accuracy: 0.8646 - val_loss: 0.3360 - val_accuracy: 0.8610\n",
      "Epoch 30/50\n",
      "2677/2677 [==============================] - 46s 17ms/step - loss: 0.3114 - accuracy: 0.8674 - val_loss: 0.3381 - val_accuracy: 0.8582\n",
      "Epoch 31/50\n",
      "2677/2677 [==============================] - 45s 17ms/step - loss: 0.3092 - accuracy: 0.8661 - val_loss: 0.3324 - val_accuracy: 0.8611\n",
      "Epoch 32/50\n",
      "2677/2677 [==============================] - 45s 17ms/step - loss: 0.3058 - accuracy: 0.8686 - val_loss: 0.3363 - val_accuracy: 0.8608\n",
      "Epoch 33/50\n",
      "2677/2677 [==============================] - 45s 17ms/step - loss: 0.3049 - accuracy: 0.8707 - val_loss: 0.3390 - val_accuracy: 0.8594\n",
      "Epoch 34/50\n",
      "2677/2677 [==============================] - 45s 17ms/step - loss: 0.3061 - accuracy: 0.8687 - val_loss: 0.3331 - val_accuracy: 0.8616\n",
      "Epoch 35/50\n",
      "2677/2677 [==============================] - 45s 17ms/step - loss: 0.3035 - accuracy: 0.8704 - val_loss: 0.3365 - val_accuracy: 0.8591\n",
      "Epoch 36/50\n",
      "2677/2677 [==============================] - 45s 17ms/step - loss: 0.3009 - accuracy: 0.8722 - val_loss: 0.3321 - val_accuracy: 0.8585\n",
      "Epoch 37/50\n",
      "2677/2677 [==============================] - 45s 17ms/step - loss: 0.2998 - accuracy: 0.8719 - val_loss: 0.3306 - val_accuracy: 0.8622\n",
      "Epoch 38/50\n",
      "2677/2677 [==============================] - 44s 17ms/step - loss: 0.2989 - accuracy: 0.8721 - val_loss: 0.3317 - val_accuracy: 0.8569\n",
      "Epoch 39/50\n",
      "2677/2677 [==============================] - 45s 17ms/step - loss: 0.2982 - accuracy: 0.8723 - val_loss: 0.3341 - val_accuracy: 0.8611\n",
      "Epoch 40/50\n",
      "2677/2677 [==============================] - 45s 17ms/step - loss: 0.2971 - accuracy: 0.8729 - val_loss: 0.3406 - val_accuracy: 0.8607\n",
      "Epoch 41/50\n",
      "2677/2677 [==============================] - 45s 17ms/step - loss: 0.2953 - accuracy: 0.8743 - val_loss: 0.3384 - val_accuracy: 0.8632\n",
      "Epoch 42/50\n",
      "2677/2677 [==============================] - 45s 17ms/step - loss: 0.2921 - accuracy: 0.8764 - val_loss: 0.3396 - val_accuracy: 0.8619\n",
      "Epoch 43/50\n",
      "2677/2677 [==============================] - 45s 17ms/step - loss: 0.2947 - accuracy: 0.8745 - val_loss: 0.3396 - val_accuracy: 0.8631\n",
      "Epoch 44/50\n",
      "2677/2677 [==============================] - 45s 17ms/step - loss: 0.2922 - accuracy: 0.8763 - val_loss: 0.3335 - val_accuracy: 0.8637\n",
      "Epoch 45/50\n",
      "2677/2677 [==============================] - 45s 17ms/step - loss: 0.2915 - accuracy: 0.8763 - val_loss: 0.3486 - val_accuracy: 0.8619\n",
      "Epoch 46/50\n",
      "2677/2677 [==============================] - 44s 17ms/step - loss: 0.2905 - accuracy: 0.8755 - val_loss: 0.3467 - val_accuracy: 0.8648\n",
      "Epoch 47/50\n",
      "2677/2677 [==============================] - 46s 17ms/step - loss: 0.2896 - accuracy: 0.8780 - val_loss: 0.3404 - val_accuracy: 0.8651\n",
      "Epoch 48/50\n",
      "2677/2677 [==============================] - 49s 18ms/step - loss: 0.2891 - accuracy: 0.8758 - val_loss: 0.3435 - val_accuracy: 0.8651\n",
      "Epoch 49/50\n",
      "2677/2677 [==============================] - 50s 19ms/step - loss: 0.2872 - accuracy: 0.8775 - val_loss: 0.3417 - val_accuracy: 0.8591\n",
      "Epoch 50/50\n",
      "2677/2677 [==============================] - 50s 19ms/step - loss: 0.2855 - accuracy: 0.8799 - val_loss: 0.3344 - val_accuracy: 0.8626\n"
     ]
    }
   ],
   "source": [
    "from tensorflow.keras.losses import sparse_categorical_crossentropy\n",
    "model = keras.Sequential()\n",
    "model.add(layers.Input(shape=(SEQUENCE_MAXLEN, )))\n",
    "model.add(emb)\n",
    "model.add(keras.layers.LSTM(128, dropout=0.5))\n",
    "#model.add(Dropout(0.50))\n",
    "#model.add(keras.layers.Dense(5, activation='softmax'))\n",
    "#opt = tf.keras.optimizers.SGD(learning_rate=.1, momentum=.5)\n",
    "#opt = tf.keras.optimizers.Adamax(learning_rate=0.01, beta_1=.9, beta_2=.9, epsilon=1e-07, name=\"Adamax\")\n",
    "#model.compile(optimizer=opt, loss=categorical_crossentropy, metrics=['acc', 'mae'])\n",
    "#opt=\"adam\"\n",
    "#model.compile(optimizer=opt,loss=sparse_categorical_crossentropy, metrics=[\"accuracy\"])\n",
    "model.add(keras.layers.Dense(1, activation='sigmoid'))\n",
    "model.compile(optimizer = 'adam', loss='binary_crossentropy', metrics=['accuracy'])\n",
    "history = model.fit(\n",
    "    x= x_train, y=y_train, batch_size=16, epochs=50, validation_data=(x_val, y_val))\n"
   ]
  },
  {
   "cell_type": "code",
   "execution_count": 29,
   "metadata": {},
   "outputs": [],
   "source": [
    "#print(opt)"
   ]
  },
  {
   "cell_type": "code",
   "execution_count": 30,
   "metadata": {},
   "outputs": [
    {
     "data": {
      "image/png": "[encoded data removed]",
      "text/plain": [
       "<Figure size 432x288 with 1 Axes>"
      ]
     },
     "metadata": {},
     "output_type": "display_data"
    }
   ],
   "source": [
    "plt.title('Loss')\n",
    "plt.xlabel('epochs')\n",
    "plt.ylabel('Loss')\n",
    "plt.plot(history.history['loss'], label='train')\n",
    "plt.plot(history.history['val_loss'], label='valid')\n",
    "plt.legend()\n",
    "plt.show();"
   ]
  },
  {
   "cell_type": "code",
   "execution_count": 31,
   "metadata": {},
   "outputs": [
    {
     "data": {
      "image/png": "[encoded data removed]",
      "text/plain": [
       "<Figure size 432x288 with 1 Axes>"
      ]
     },
     "metadata": {},
     "output_type": "display_data"
    }
   ],
   "source": [
    "plt.title('Accuracy')\n",
    "plt.xlabel('epochs')\n",
    "plt.ylabel('accuracy')\n",
    "plt.plot(history.history['accuracy'], label='train')\n",
    "plt.plot(history.history['val_accuracy'], label='valid')\n",
    "plt.legend()\n",
    "plt.show();"
   ]
  },
  {
   "cell_type": "code",
   "execution_count": null,
   "metadata": {},
   "outputs": [],
   "source": []
  },
  {
   "cell_type": "code",
   "execution_count": null,
   "metadata": {},
   "outputs": [],
   "source": []
  }
 ],
 "metadata": {
  "kernelspec": {
   "display_name": "Python 3",
   "language": "python",
   "name": "python3"
  },
  "language_info": {
   "codemirror_mode": {
    "name": "ipython",
    "version": 3
   },
   "file_extension": ".py",
   "mimetype": "text/x-python",
   "name": "python",
   "nbconvert_exporter": "python",
   "pygments_lexer": "ipython3",
   "version": "3.8.5"
  }
 },
 "nbformat": 4,
 "nbformat_minor": 4
}
