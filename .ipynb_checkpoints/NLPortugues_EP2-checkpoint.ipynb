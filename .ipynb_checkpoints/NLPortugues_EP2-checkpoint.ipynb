{
 "cells": [
  {
   "cell_type": "code",
   "execution_count": 1,
   "metadata": {},
   "outputs": [
    {
     "name": "stderr",
     "output_type": "stream",
     "text": [
      "[nltk_data] Downloading package stopwords to\n",
      "[nltk_data]     /home/augusto/nltk_data...\n",
      "[nltk_data]   Package stopwords is already up-to-date!\n",
      "[nltk_data] Downloading package punkt to /home/augusto/nltk_data...\n",
      "[nltk_data]   Package punkt is already up-to-date!\n"
     ]
    }
   ],
   "source": [
    "import tensorflow as tf\n",
    "from tensorflow import keras\n",
    "import numpy as np\n",
    "import pandas as pd\n",
    "import matplotlib.pyplot as plt\n",
    "from sklearn.model_selection import train_test_split\n",
    "from tensorflow.keras.layers.experimental.preprocessing import TextVectorization\n",
    "import nltk\n",
    "nltk.download('stopwords')\n",
    "stop_words = nltk.corpus.stopwords.words('portuguese')\n",
    "from nltk.stem import SnowballStemmer\n",
    "nltk.download('punkt')\n",
    "stemmer = SnowballStemmer('portuguese')\n",
    "import re\n",
    "from unidecode import unidecode\n",
    "from keras.regularizers import l2\n",
    "from gensim.models import KeyedVectors\n",
    "from tensorflow.keras import layers\n",
    "from tensorflow.keras.losses import categorical_crossentropy\n",
    "from keras.layers import Dense, Dropout, LSTM"
   ]
  },
  {
   "cell_type": "markdown",
   "metadata": {},
   "source": [
    "## Pipeline "
   ]
  },
  {
   "cell_type": "code",
   "execution_count": 2,
   "metadata": {},
   "outputs": [],
   "source": [
    "# Base original da B2W, sem cortes + clean de overall_rating\n",
    "b2wCorpus = pd.read_csv(\"B2W-Reviews01.csv\",\";\",usecols=['review_text','overall_rating'])\n",
    "\n",
    "# Filtro\n",
    "d = b2wCorpus.index[b2wCorpus[\"overall_rating\"] < 1].tolist()\n",
    "b2wCorpus=b2wCorpus.drop(b2wCorpus.index[d])\n",
    "d = b2wCorpus.index[b2wCorpus[\"overall_rating\"] > 5].tolist()\n",
    "b2wCorpus=b2wCorpus.drop(b2wCorpus.index[d])\n",
    "#d = b2wCorpus.index[b2wCorpus[\"overall_rating\"] == 2].tolist()\n",
    "#b2wCorpus=b2wCorpus.drop(b2wCorpus.index[d])\n",
    "#b2wCorpus['overall_rating'].replace({5: 2}, inplace = True)\n",
    "#print(b2wCorpus.head)"
   ]
  },
  {
   "cell_type": "code",
   "execution_count": 3,
   "metadata": {},
   "outputs": [],
   "source": [
    "# Cleanning function\n",
    "text_cleaning_re = \"@\\S+|https?:\\S+|http?:\\S|[^A-Za-z0-9]+\"\n",
    "def preprocess(text, stem=False):\n",
    "  text = unidecode(text)\n",
    "  text = re.sub(text_cleaning_re, ' ', str(text).lower()).strip()\n",
    "  text = re.sub(\"\\d+\", \"\", text)\n",
    "  text = re.sub(r'(?:^| )\\w(?:$| )', ' ', text).strip()\n",
    "  print(text)\n",
    "  tokens = []\n",
    "  for token in text.split():\n",
    "    if token not in stop_words:\n",
    "      if stem:\n",
    "        tokens.append(stemmer.stem(token))\n",
    "      else:\n",
    "    tokens.append(token)\n",
    "  return \" \".join(tokens)"
   ]
  },
  {
   "cell_type": "code",
   "execution_count": 4,
   "metadata": {},
   "outputs": [],
   "source": [
    "# Cleanning exec\n",
    "b2wCorpus.review_text = b2wCorpus.review_text.apply(lambda x: preprocess(x))"
   ]
  },
  {
   "cell_type": "code",
   "execution_count": 5,
   "metadata": {},
   "outputs": [
    {
     "name": "stdout",
     "output_type": "stream",
     "text": [
      "<bound method NDFrame.head of         overall_rating                                        review_text\n",
      "0                    4  estou contente com compra entrega rapida unico...\n",
      "1                    4  por apenas   eu consegui comprar esse lindo co...\n",
      "2                    4  supera em agilidade praticidade outras panelas...\n",
      "3                    4  meu filho amou parece de verdade com tantos de...\n",
      "4                    5  entrega foi no prazo as americanas estao de pa...\n",
      "...                ...                                                ...\n",
      "132368               5  vale muito estou usando no controle do xbox me...\n",
      "132369               5  pratico barato super indico produto para quem ...\n",
      "132370               4  chegou antes do prazo previsto corresponde ao ...\n",
      "132371               1  material fraco poderia ser melhor ficou devend...\n",
      "132372               1  comprei esse produto quando chegou estava com ...\n",
      "\n",
      "[132373 rows x 2 columns]>\n"
     ]
    }
   ],
   "source": [
    "print(b2wCorpus.head)"
   ]
  },
  {
   "cell_type": "code",
   "execution_count": 6,
   "metadata": {},
   "outputs": [
    {
     "data": {
      "text/plain": [
       "1    27369\n",
       "2     8389\n",
       "3    16315\n",
       "4    32345\n",
       "5    47955\n",
       "Name: overall_rating, dtype: int64"
      ]
     },
     "execution_count": 6,
     "metadata": {},
     "output_type": "execute_result"
    }
   ],
   "source": [
    "b2wCorpus.overall_rating .value_counts().sort_index()"
   ]
  },
  {
   "cell_type": "code",
   "execution_count": 7,
   "metadata": {},
   "outputs": [
    {
     "name": "stdout",
     "output_type": "stream",
     "text": [
      "<bound method NDFrame.head of         overall_rating                                        review_text\n",
      "0                    1  curso do foco pessimo nao se consegue focar pr...\n",
      "1                    1  produto nao recebido falta de consideracao com...\n",
      "2                    5  nave montada maravilhosa tem um mecanismo de r...\n",
      "3                    4  produto facil pratico de manuseio eu tentava f...\n",
      "4                    1  nao moe carne ela fica toda entalada na peca t...\n",
      "...                ...                                                ...\n",
      "132368               3  uso dele de limpeza ao nivel em casa nao profi...\n",
      "132369               3  fio da camera um pouco curto fica numa posicao...\n",
      "132370               1  produto nao original de pessima qualidade ao r...\n",
      "132371               5  chego muito antes do horario estabelecido reco...\n",
      "132372               1  volume muito baixo tem que enfiar ele no ouvid...\n",
      "\n",
      "[132373 rows x 2 columns]>\n"
     ]
    }
   ],
   "source": [
    "# Partilha\n",
    "b2wCorpus = b2wCorpus.sample(frac=1).reset_index(drop=True)\n",
    "print(b2wCorpus.head)"
   ]
  },
  {
   "cell_type": "code",
   "execution_count": 8,
   "metadata": {},
   "outputs": [
    {
     "data": {
      "image/png": "[encoded data removed]",
      "text/plain": [
       "<Figure size 432x288 with 1 Axes>"
      ]
     },
     "metadata": {},
     "output_type": "display_data"
    },
    {
     "name": "stdout",
     "output_type": "stream",
     "text": [
      "130890\n"
     ]
    }
   ],
   "source": [
    "# histograma de palavras x qtd de linhas\n",
    "Words = [len(linha.split()) for linha in b2wCorpus[\"review_text\"] if len(linha.split()) <=100 ]\n",
    "plt.style.use('ggplot')\n",
    "plt.hist(Words, bins=[0,5,10,15,20,25,30,35,40,45,50,55,60,65,70,75,80,85])\n",
    "plt.show()\n",
    "print(len(Words))"
   ]
  },
  {
   "cell_type": "code",
   "execution_count": 9,
   "metadata": {},
   "outputs": [],
   "source": [
    "# Codifica\n",
    "N =  200001\n",
    "with open(\"cbow_s50.txt\", \"r\",encoding='utf-8') as file:\n",
    "    head = [next(file) for x in range(N)]\n",
    "\n",
    "head[0] = str(N-1)+ \" \" + \"50\"+ \"\\n\" # Conserta contagem de palavras\n",
    "with open(\"word2vec_200k.txt\", \"w\",encoding='utf-8') as file:\n",
    "    for line in head:\n",
    "        file.write(line)\n",
    "\n",
    "def vocaIndex(lista, stem=False):\n",
    "    for indice in range(len(lista)):\n",
    "        text=lista[indice].lower()\n",
    "        if text in model.vocab:\n",
    "             lista[indice] = model.vocab[text].index\n",
    "        else: \n",
    "             lista[indice] = '199999'\n",
    "    return lista\n",
    "\n",
    "model = KeyedVectors.load_word2vec_format('word2vec_200k.txt')\n",
    "\n",
    "def codifica(text, stem=False):\n",
    "    tokens = nltk.word_tokenize(text)\n",
    "    tokens = vocaIndex(tokens)\n",
    "    return tokens\n",
    "\n",
    "b2wCorpus.review_text = b2wCorpus.review_text.apply(lambda x: codifica(x))"
   ]
  },
  {
   "cell_type": "code",
   "execution_count": 10,
   "metadata": {},
   "outputs": [],
   "source": [
    "b2wCorpus['ord'] = b2wCorpus.apply(lambda row: len(row.review_text), axis=1)"
   ]
  },
  {
   "cell_type": "code",
   "execution_count": 11,
   "metadata": {},
   "outputs": [
    {
     "data": {
      "text/plain": [
       "(132373, 3)"
      ]
     },
     "execution_count": 11,
     "metadata": {},
     "output_type": "execute_result"
    }
   ],
   "source": [
    "b2wCorpus.shape"
   ]
  },
  {
   "cell_type": "code",
   "execution_count": 12,
   "metadata": {},
   "outputs": [],
   "source": [
    "#b2wCorpus = b2wCorpus[b2wCorpus.ord != 0]\n",
    "b2wCorpus = b2wCorpus.drop(b2wCorpus[b2wCorpus.ord < 10].index)\n",
    "b2wCorpus = b2wCorpus.drop(b2wCorpus[b2wCorpus.ord > 60].index)"
   ]
  },
  {
   "cell_type": "code",
   "execution_count": 13,
   "metadata": {},
   "outputs": [],
   "source": [
    "b2wCorpus['overall_rating'] = b2wCorpus.overall_rating.apply(lambda x: x - 1)"
   ]
  },
  {
   "cell_type": "code",
   "execution_count": 14,
   "metadata": {},
   "outputs": [
    {
     "data": {
      "text/plain": [
       "(96358, 3)"
      ]
     },
     "execution_count": 14,
     "metadata": {},
     "output_type": "execute_result"
    }
   ],
   "source": [
    "b2wCorpus.shape"
   ]
  },
  {
   "cell_type": "code",
   "execution_count": 15,
   "metadata": {},
   "outputs": [],
   "source": [
    "b2wCorpus.reset_index(drop=True, inplace=True)"
   ]
  },
  {
   "cell_type": "code",
   "execution_count": 16,
   "metadata": {},
   "outputs": [
    {
     "data": {
      "text/html": [
       "<div>\n",
       "<style scoped>\n",
       "    .dataframe tbody tr th:only-of-type {\n",
       "        vertical-align: middle;\n",
       "    }\n",
       "\n",
       "    .dataframe tbody tr th {\n",
       "        vertical-align: top;\n",
       "    }\n",
       "\n",
       "    .dataframe thead th {\n",
       "        text-align: right;\n",
       "    }\n",
       "</style>\n",
       "<table border=\"1\" class=\"dataframe\">\n",
       "  <thead>\n",
       "    <tr style=\"text-align: right;\">\n",
       "      <th></th>\n",
       "      <th>overall_rating</th>\n",
       "      <th>review_text</th>\n",
       "      <th>ord</th>\n",
       "    </tr>\n",
       "  </thead>\n",
       "  <tbody>\n",
       "    <tr>\n",
       "      <th>0</th>\n",
       "      <td>0</td>\n",
       "      <td>[963, 8, 3328, 199999, 7804, 26, 1538, 10730, ...</td>\n",
       "      <td>14</td>\n",
       "    </tr>\n",
       "    <tr>\n",
       "      <th>1</th>\n",
       "      <td>0</td>\n",
       "      <td>[902, 7804, 2156, 486, 2, 199999, 14, 3036, 26...</td>\n",
       "      <td>22</td>\n",
       "    </tr>\n",
       "    <tr>\n",
       "      <th>2</th>\n",
       "      <td>4</td>\n",
       "      <td>[4225, 9316, 8129, 56, 12, 3165, 2, 21281, 25,...</td>\n",
       "      <td>16</td>\n",
       "    </tr>\n",
       "    <tr>\n",
       "      <th>3</th>\n",
       "      <td>3</td>\n",
       "      <td>[902, 54465, 63936, 2, 34671, 47, 7722, 96, 21...</td>\n",
       "      <td>27</td>\n",
       "    </tr>\n",
       "    <tr>\n",
       "      <th>4</th>\n",
       "      <td>0</td>\n",
       "      <td>[7804, 23198, 1659, 81, 553, 270, 88464, 19, 3...</td>\n",
       "      <td>27</td>\n",
       "    </tr>\n",
       "  </tbody>\n",
       "</table>\n",
       "</div>"
      ],
      "text/plain": [
       "   overall_rating                                        review_text  ord\n",
       "0               0  [963, 8, 3328, 199999, 7804, 26, 1538, 10730, ...   14\n",
       "1               0  [902, 7804, 2156, 486, 2, 199999, 14, 3036, 26...   22\n",
       "2               4  [4225, 9316, 8129, 56, 12, 3165, 2, 21281, 25,...   16\n",
       "3               3  [902, 54465, 63936, 2, 34671, 47, 7722, 96, 21...   27\n",
       "4               0  [7804, 23198, 1659, 81, 553, 270, 88464, 19, 3...   27"
      ]
     },
     "execution_count": 16,
     "metadata": {},
     "output_type": "execute_result"
    }
   ],
   "source": [
    "b2wCorpus.head()"
   ]
  },
  {
   "cell_type": "code",
   "execution_count": 17,
   "metadata": {},
   "outputs": [
    {
     "data": {
      "text/plain": [
       "pandas.core.series.Series"
      ]
     },
     "execution_count": 17,
     "metadata": {},
     "output_type": "execute_result"
    }
   ],
   "source": [
    "type(b2wCorpus.review_text)"
   ]
  },
  {
   "cell_type": "code",
   "execution_count": 18,
   "metadata": {},
   "outputs": [],
   "source": [
    "#b2wCorpus.review_text.str.rjust(width=50, fillchar='0')\n",
    "#np.reshape(y_train,(-1))\n",
    "\n",
    "b2wCorpus.review_text = keras.preprocessing.sequence.pad_sequences(b2wCorpus.apply(lambda row: np.reshape(row.review_text,(-1)), axis=1), maxlen=60, padding='post').tolist()"
   ]
  },
  {
   "cell_type": "code",
   "execution_count": 19,
   "metadata": {},
   "outputs": [
    {
     "data": {
      "text/html": [
       "<div>\n",
       "<style scoped>\n",
       "    .dataframe tbody tr th:only-of-type {\n",
       "        vertical-align: middle;\n",
       "    }\n",
       "\n",
       "    .dataframe tbody tr th {\n",
       "        vertical-align: top;\n",
       "    }\n",
       "\n",
       "    .dataframe thead th {\n",
       "        text-align: right;\n",
       "    }\n",
       "</style>\n",
       "<table border=\"1\" class=\"dataframe\">\n",
       "  <thead>\n",
       "    <tr style=\"text-align: right;\">\n",
       "      <th></th>\n",
       "      <th>overall_rating</th>\n",
       "      <th>review_text</th>\n",
       "      <th>ord</th>\n",
       "    </tr>\n",
       "  </thead>\n",
       "  <tbody>\n",
       "    <tr>\n",
       "      <th>0</th>\n",
       "      <td>0</td>\n",
       "      <td>[963, 8, 3328, 199999, 7804, 26, 1538, 10730, ...</td>\n",
       "      <td>14</td>\n",
       "    </tr>\n",
       "    <tr>\n",
       "      <th>1</th>\n",
       "      <td>0</td>\n",
       "      <td>[902, 7804, 2156, 486, 2, 199999, 14, 3036, 26...</td>\n",
       "      <td>22</td>\n",
       "    </tr>\n",
       "    <tr>\n",
       "      <th>2</th>\n",
       "      <td>4</td>\n",
       "      <td>[4225, 9316, 8129, 56, 12, 3165, 2, 21281, 25,...</td>\n",
       "      <td>16</td>\n",
       "    </tr>\n",
       "    <tr>\n",
       "      <th>3</th>\n",
       "      <td>3</td>\n",
       "      <td>[902, 54465, 63936, 2, 34671, 47, 7722, 96, 21...</td>\n",
       "      <td>27</td>\n",
       "    </tr>\n",
       "    <tr>\n",
       "      <th>4</th>\n",
       "      <td>0</td>\n",
       "      <td>[7804, 23198, 1659, 81, 553, 270, 88464, 19, 3...</td>\n",
       "      <td>27</td>\n",
       "    </tr>\n",
       "  </tbody>\n",
       "</table>\n",
       "</div>"
      ],
      "text/plain": [
       "   overall_rating                                        review_text  ord\n",
       "0               0  [963, 8, 3328, 199999, 7804, 26, 1538, 10730, ...   14\n",
       "1               0  [902, 7804, 2156, 486, 2, 199999, 14, 3036, 26...   22\n",
       "2               4  [4225, 9316, 8129, 56, 12, 3165, 2, 21281, 25,...   16\n",
       "3               3  [902, 54465, 63936, 2, 34671, 47, 7722, 96, 21...   27\n",
       "4               0  [7804, 23198, 1659, 81, 553, 270, 88464, 19, 3...   27"
      ]
     },
     "execution_count": 19,
     "metadata": {},
     "output_type": "execute_result"
    }
   ],
   "source": [
    "b2wCorpus.head()"
   ]
  },
  {
   "cell_type": "code",
   "execution_count": 20,
   "metadata": {},
   "outputs": [],
   "source": [
    "# Função de split\n",
    "def train_validate_test_split(df, train_percent=.65, validate_percent=.1, seed=42):\n",
    "    np.random.seed(seed)\n",
    "    perm = np.random.permutation(df.index)\n",
    "    m = len(df.index)\n",
    "    train_end = int(train_percent * m)\n",
    "    validate_end = int(validate_percent * m) + train_end\n",
    "    train = df.iloc[perm[:train_end]]\n",
    "    validate = df.iloc[perm[train_end:validate_end]]\n",
    "    test = df.iloc[perm[validate_end:]]\n",
    "    return train, validate, test"
   ]
  },
  {
   "cell_type": "code",
   "execution_count": 21,
   "metadata": {},
   "outputs": [],
   "source": [
    "b2wCorpusTrain, b2wCorpusValidate, b2wCorpusTest = train_validate_test_split(b2wCorpus)"
   ]
  },
  {
   "cell_type": "code",
   "execution_count": 22,
   "metadata": {},
   "outputs": [
    {
     "data": {
      "text/html": [
       "<div>\n",
       "<style scoped>\n",
       "    .dataframe tbody tr th:only-of-type {\n",
       "        vertical-align: middle;\n",
       "    }\n",
       "\n",
       "    .dataframe tbody tr th {\n",
       "        vertical-align: top;\n",
       "    }\n",
       "\n",
       "    .dataframe thead th {\n",
       "        text-align: right;\n",
       "    }\n",
       "</style>\n",
       "<table border=\"1\" class=\"dataframe\">\n",
       "  <thead>\n",
       "    <tr style=\"text-align: right;\">\n",
       "      <th></th>\n",
       "      <th>overall_rating</th>\n",
       "      <th>review_text</th>\n",
       "      <th>ord</th>\n",
       "    </tr>\n",
       "  </thead>\n",
       "  <tbody>\n",
       "    <tr>\n",
       "      <th>17557</th>\n",
       "      <td>4</td>\n",
       "      <td>[11759, 879, 199999, 11759, 879, 199999, 11759...</td>\n",
       "      <td>60</td>\n",
       "    </tr>\n",
       "    <tr>\n",
       "      <th>54930</th>\n",
       "      <td>0</td>\n",
       "      <td>[9735, 16, 775, 199999, 2, 196596, 775, 4339, ...</td>\n",
       "      <td>60</td>\n",
       "    </tr>\n",
       "    <tr>\n",
       "      <th>63631</th>\n",
       "      <td>0</td>\n",
       "      <td>[7804, 18152, 1686, 12905, 67, 1413, 8504, 279...</td>\n",
       "      <td>60</td>\n",
       "    </tr>\n",
       "    <tr>\n",
       "      <th>80713</th>\n",
       "      <td>4</td>\n",
       "      <td>[47, 12783, 146, 1052, 81, 10, 16, 2294, 66925...</td>\n",
       "      <td>60</td>\n",
       "    </tr>\n",
       "    <tr>\n",
       "      <th>12476</th>\n",
       "      <td>0</td>\n",
       "      <td>[7804, 7256, 902, 136, 600, 28, 10762, 22, 307...</td>\n",
       "      <td>60</td>\n",
       "    </tr>\n",
       "  </tbody>\n",
       "</table>\n",
       "</div>"
      ],
      "text/plain": [
       "       overall_rating                                        review_text  ord\n",
       "17557               4  [11759, 879, 199999, 11759, 879, 199999, 11759...   60\n",
       "54930               0  [9735, 16, 775, 199999, 2, 196596, 775, 4339, ...   60\n",
       "63631               0  [7804, 18152, 1686, 12905, 67, 1413, 8504, 279...   60\n",
       "80713               4  [47, 12783, 146, 1052, 81, 10, 16, 2294, 66925...   60\n",
       "12476               0  [7804, 7256, 902, 136, 600, 28, 10762, 22, 307...   60"
      ]
     },
     "execution_count": 22,
     "metadata": {},
     "output_type": "execute_result"
    }
   ],
   "source": [
    "b2wCorpusTrain=b2wCorpusTrain.reindex(b2wCorpusTrain['ord'].sort_values(ascending=False).index)\n",
    "b2wCorpusTrain.head()"
   ]
  },
  {
   "cell_type": "code",
   "execution_count": 23,
   "metadata": {},
   "outputs": [
    {
     "data": {
      "text/plain": [
       "<bound method NDFrame.head of        overall_rating                                        review_text  ord\n",
       "25036               4  [11759, 202, 25, 3690, 292, 2, 199999, 5, 1243...   60\n",
       "16214               1  [305, 160, 8215, 22, 7804, 4198, 343, 170459, ...   60\n",
       "68883               2  [12, 226, 9416, 7804, 56, 199999, 1227, 13, 72...   60\n",
       "33007               0  [930, 92, 3223, 26082, 44608, 19, 56, 29, 7200...   60\n",
       "74870               0  [2190, 8, 3254, 9, 18444, 199999, 733, 199999,...   60\n",
       "...               ...                                                ...  ...\n",
       "6959                4  [181, 1705, 6689, 994, 14, 199999, 569, 22522,...   10\n",
       "95710               3  [3330, 2, 363, 532, 199999, 226, 428, 321, 8, ...   10\n",
       "49944               3  [1350, 1812, 7126, 25, 3690, 1083, 37020, 2, 1...   10\n",
       "52334               4  [63, 226, 54465, 2, 6337, 17, 1848, 23933, 2, ...   10\n",
       "50512               4  [7670, 2999, 27, 7157, 28, 122, 340, 22522, 75...   10\n",
       "\n",
       "[9635 rows x 3 columns]>"
      ]
     },
     "execution_count": 23,
     "metadata": {},
     "output_type": "execute_result"
    }
   ],
   "source": [
    "b2wCorpusValidate=b2wCorpusValidate.reindex(b2wCorpusValidate['ord'].sort_values(ascending=False).index)\n",
    "b2wCorpusValidate.head"
   ]
  },
  {
   "cell_type": "code",
   "execution_count": 24,
   "metadata": {},
   "outputs": [
    {
     "data": {
      "text/plain": [
       "<bound method NDFrame.head of        overall_rating                                        review_text  ord\n",
       "75952               1  [181, 63, 40065, 14, 139792, 9735, 16, 27585, ...   60\n",
       "15839               2  [363, 775, 502, 130, 35260, 2775, 672, 2, 775,...   60\n",
       "70949               4  [2499, 13, 566, 3143, 6936, 14, 60, 21135, 16,...   60\n",
       "67526               4  [90008, 1687, 8570, 47, 7804, 256, 7, 467, 8, ...   60\n",
       "59402               4  [25, 2689, 5437, 90, 8200, 10, 88, 17, 6342, 1...   60\n",
       "...               ...                                                ...  ...\n",
       "82936               3  [5841, 2697, 237, 82, 3311, 9938, 38, 13893, 6...   10\n",
       "53051               4  [101071, 902, 199999, 172, 784, 9602, 56617, 6...   10\n",
       "86882               0  [7804, 6376, 1681, 7804, 63, 226, 50, 4177, 40...   10\n",
       "33744               2  [902, 226, 106, 29, 3993, 2499, 28, 728, 13, 5...   10\n",
       "35398               4  [101071, 1674, 57237, 57267, 25, 19044, 14, 10...   10\n",
       "\n",
       "[24091 rows x 3 columns]>"
      ]
     },
     "execution_count": 24,
     "metadata": {},
     "output_type": "execute_result"
    }
   ],
   "source": [
    "b2wCorpusTest=b2wCorpusTest.reindex(b2wCorpusTest['ord'].sort_values(ascending=False).index)\n",
    "b2wCorpusTest.head"
   ]
  },
  {
   "cell_type": "code",
   "execution_count": 25,
   "metadata": {},
   "outputs": [
    {
     "data": {
      "text/plain": [
       "pandas.core.series.Series"
      ]
     },
     "execution_count": 25,
     "metadata": {},
     "output_type": "execute_result"
    }
   ],
   "source": [
    "type(b2wCorpus.review_text)"
   ]
  },
  {
   "cell_type": "code",
   "execution_count": 26,
   "metadata": {},
   "outputs": [],
   "source": [
    "# Treino, Validação e teste\n",
    "RANDOM_SEED = 42\n",
    "x_train =  [ emb for emb in b2wCorpusTrain.review_text]\n",
    "y_train =   b2wCorpusTrain.overall_rating\n",
    "x_val = [ emb for emb in b2wCorpusValidate.review_text ]\n",
    "y_val = b2wCorpusValidate.overall_rating\n",
    "x_train = np.asarray(x_train)\n",
    "x_val =np.asarray(x_val)\n",
    "\n",
    "np.random.seed(RANDOM_SEED)\n",
    "model = KeyedVectors.load_word2vec_format('word2vec_200k.txt')\n",
    "emb = model.get_keras_embedding()\n",
    "#emb.trainable = True"
   ]
  },
  {
   "cell_type": "code",
   "execution_count": 27,
   "metadata": {},
   "outputs": [
    {
     "name": "stdout",
     "output_type": "stream",
     "text": [
      "Epoch 1/50\n",
      "3915/3915 [==============================] - 90s 23ms/step - loss: 1.3062 - accuracy: 0.4631 - val_loss: 1.2575 - val_accuracy: 0.4939\n",
      "Epoch 2/50\n",
      "3915/3915 [==============================] - 84s 21ms/step - loss: 1.2029 - accuracy: 0.4972 - val_loss: 1.1142 - val_accuracy: 0.5262\n",
      "Epoch 3/50\n",
      "3915/3915 [==============================] - 90s 23ms/step - loss: 1.1573 - accuracy: 0.5086 - val_loss: 1.0831 - val_accuracy: 0.5374\n",
      "Epoch 4/50\n",
      "3915/3915 [==============================] - 90s 23ms/step - loss: 1.1169 - accuracy: 0.5295 - val_loss: 1.0483 - val_accuracy: 0.5586\n",
      "Epoch 5/50\n",
      "3915/3915 [==============================] - 92s 23ms/step - loss: 1.0871 - accuracy: 0.5413 - val_loss: 1.0293 - val_accuracy: 0.5679\n",
      "Epoch 6/50\n",
      "3915/3915 [==============================] - 90s 23ms/step - loss: 1.0591 - accuracy: 0.5543 - val_loss: 1.0021 - val_accuracy: 0.5756\n",
      "Epoch 7/50\n",
      "3915/3915 [==============================] - 88s 23ms/step - loss: 1.0411 - accuracy: 0.5589 - val_loss: 0.9890 - val_accuracy: 0.5864\n",
      "Epoch 8/50\n",
      "3915/3915 [==============================] - 86s 22ms/step - loss: 1.0250 - accuracy: 0.5655 - val_loss: 0.9728 - val_accuracy: 0.5902\n",
      "Epoch 9/50\n",
      "3915/3915 [==============================] - 89s 23ms/step - loss: 1.0104 - accuracy: 0.5705 - val_loss: 0.9691 - val_accuracy: 0.5918\n",
      "Epoch 10/50\n",
      "3915/3915 [==============================] - 87s 22ms/step - loss: 1.0001 - accuracy: 0.5750 - val_loss: 0.9611 - val_accuracy: 0.5907\n",
      "Epoch 11/50\n",
      "3915/3915 [==============================] - 90s 23ms/step - loss: 0.9903 - accuracy: 0.5788 - val_loss: 0.9496 - val_accuracy: 0.5989\n",
      "Epoch 12/50\n",
      "3915/3915 [==============================] - 90s 23ms/step - loss: 0.9830 - accuracy: 0.5809 - val_loss: 0.9498 - val_accuracy: 0.5982\n",
      "Epoch 13/50\n",
      "3915/3915 [==============================] - 92s 24ms/step - loss: 0.9757 - accuracy: 0.5814 - val_loss: 0.9408 - val_accuracy: 0.6046\n",
      "Epoch 14/50\n",
      "3915/3915 [==============================] - 91s 23ms/step - loss: 0.9690 - accuracy: 0.5859 - val_loss: 0.9379 - val_accuracy: 0.6017\n",
      "Epoch 15/50\n",
      "3915/3915 [==============================] - 88s 23ms/step - loss: 0.9632 - accuracy: 0.5897 - val_loss: 0.9415 - val_accuracy: 0.5982\n",
      "Epoch 16/50\n",
      "3915/3915 [==============================] - 87s 22ms/step - loss: 0.9575 - accuracy: 0.5913 - val_loss: 0.9418 - val_accuracy: 0.6009\n",
      "Epoch 17/50\n",
      "3915/3915 [==============================] - 91s 23ms/step - loss: 0.9527 - accuracy: 0.5928 - val_loss: 0.9303 - val_accuracy: 0.6082\n",
      "Epoch 18/50\n",
      "3915/3915 [==============================] - 90s 23ms/step - loss: 0.9474 - accuracy: 0.5950 - val_loss: 0.9337 - val_accuracy: 0.6095\n",
      "Epoch 19/50\n",
      "3915/3915 [==============================] - 90s 23ms/step - loss: 0.9443 - accuracy: 0.5965 - val_loss: 0.9314 - val_accuracy: 0.6069\n",
      "Epoch 20/50\n",
      "3915/3915 [==============================] - 92s 24ms/step - loss: 0.9425 - accuracy: 0.5980 - val_loss: 0.9306 - val_accuracy: 0.6117\n",
      "Epoch 21/50\n",
      "3915/3915 [==============================] - 92s 24ms/step - loss: 0.9378 - accuracy: 0.5983 - val_loss: 0.9279 - val_accuracy: 0.6084\n",
      "Epoch 22/50\n",
      "3915/3915 [==============================] - 92s 23ms/step - loss: 0.9314 - accuracy: 0.6013 - val_loss: 0.9299 - val_accuracy: 0.6118\n",
      "Epoch 23/50\n",
      "3915/3915 [==============================] - 92s 23ms/step - loss: 0.9287 - accuracy: 0.6028 - val_loss: 0.9337 - val_accuracy: 0.6113\n",
      "Epoch 24/50\n",
      "3915/3915 [==============================] - 90s 23ms/step - loss: 0.9310 - accuracy: 0.6011 - val_loss: 0.9265 - val_accuracy: 0.6021\n",
      "Epoch 25/50\n",
      "3915/3915 [==============================] - 90s 23ms/step - loss: 0.9262 - accuracy: 0.6032 - val_loss: 0.9355 - val_accuracy: 0.6086\n",
      "Epoch 26/50\n",
      "3915/3915 [==============================] - 93s 24ms/step - loss: 0.9261 - accuracy: 0.6050 - val_loss: 0.9242 - val_accuracy: 0.6127\n",
      "Epoch 27/50\n",
      "3915/3915 [==============================] - 92s 24ms/step - loss: 0.9216 - accuracy: 0.6058 - val_loss: 0.9259 - val_accuracy: 0.6088\n",
      "Epoch 28/50\n",
      "3915/3915 [==============================] - 93s 24ms/step - loss: 0.9195 - accuracy: 0.6056 - val_loss: 0.9268 - val_accuracy: 0.6117\n",
      "Epoch 29/50\n",
      "3915/3915 [==============================] - 92s 24ms/step - loss: 0.9159 - accuracy: 0.6076 - val_loss: 0.9291 - val_accuracy: 0.6070\n",
      "Epoch 30/50\n",
      "3915/3915 [==============================] - 92s 24ms/step - loss: 0.9156 - accuracy: 0.6074 - val_loss: 0.9253 - val_accuracy: 0.6081\n",
      "Epoch 31/50\n",
      "3915/3915 [==============================] - 92s 24ms/step - loss: 0.9143 - accuracy: 0.6100 - val_loss: 0.9242 - val_accuracy: 0.6113\n",
      "Epoch 32/50\n",
      "3915/3915 [==============================] - 90s 23ms/step - loss: 0.9143 - accuracy: 0.6075 - val_loss: 0.9296 - val_accuracy: 0.6140\n",
      "Epoch 33/50\n",
      "3915/3915 [==============================] - 88s 22ms/step - loss: 0.9115 - accuracy: 0.6106 - val_loss: 0.9279 - val_accuracy: 0.6094\n",
      "Epoch 34/50\n",
      "3915/3915 [==============================] - 87s 22ms/step - loss: 0.9089 - accuracy: 0.6085 - val_loss: 0.9344 - val_accuracy: 0.6095\n",
      "Epoch 35/50\n",
      "3915/3915 [==============================] - 87s 22ms/step - loss: 0.9086 - accuracy: 0.6106 - val_loss: 0.9258 - val_accuracy: 0.6061\n",
      "Epoch 36/50\n",
      "3915/3915 [==============================] - 87s 22ms/step - loss: 0.9059 - accuracy: 0.6127 - val_loss: 0.9221 - val_accuracy: 0.6098\n",
      "Epoch 37/50\n",
      "3915/3915 [==============================] - 87s 22ms/step - loss: 0.9043 - accuracy: 0.6141 - val_loss: 0.9296 - val_accuracy: 0.6040\n",
      "Epoch 38/50\n",
      "3915/3915 [==============================] - 87s 22ms/step - loss: 0.9006 - accuracy: 0.6132 - val_loss: 0.9325 - val_accuracy: 0.6052\n",
      "Epoch 39/50\n",
      "3915/3915 [==============================] - 84s 21ms/step - loss: 0.9006 - accuracy: 0.6127 - val_loss: 0.9431 - val_accuracy: 0.5995\n",
      "Epoch 40/50\n",
      "3915/3915 [==============================] - 88s 22ms/step - loss: 0.8998 - accuracy: 0.6144 - val_loss: 0.9313 - val_accuracy: 0.6108\n",
      "Epoch 41/50\n",
      "3915/3915 [==============================] - 89s 23ms/step - loss: 0.8984 - accuracy: 0.6150 - val_loss: 0.9339 - val_accuracy: 0.6035\n",
      "Epoch 42/50\n",
      "3915/3915 [==============================] - 88s 23ms/step - loss: 0.8973 - accuracy: 0.6155 - val_loss: 0.9306 - val_accuracy: 0.6066\n",
      "Epoch 43/50\n",
      "3915/3915 [==============================] - 86s 22ms/step - loss: 0.8981 - accuracy: 0.6163 - val_loss: 0.9282 - val_accuracy: 0.6098\n",
      "Epoch 44/50\n",
      "3915/3915 [==============================] - 89s 23ms/step - loss: 0.8955 - accuracy: 0.6168 - val_loss: 0.9248 - val_accuracy: 0.6077\n",
      "Epoch 45/50\n",
      "3915/3915 [==============================] - 88s 23ms/step - loss: 0.8920 - accuracy: 0.6173 - val_loss: 0.9334 - val_accuracy: 0.6028\n",
      "Epoch 46/50\n",
      "3915/3915 [==============================] - 87s 22ms/step - loss: 0.8940 - accuracy: 0.6165 - val_loss: 0.9323 - val_accuracy: 0.6054\n",
      "Epoch 47/50\n",
      "3915/3915 [==============================] - 88s 22ms/step - loss: 0.8891 - accuracy: 0.6205 - val_loss: 0.9356 - val_accuracy: 0.6084\n",
      "Epoch 48/50\n",
      "3915/3915 [==============================] - 88s 22ms/step - loss: 0.8912 - accuracy: 0.6209 - val_loss: 0.9301 - val_accuracy: 0.6056\n",
      "Epoch 49/50\n",
      "3915/3915 [==============================] - 84s 22ms/step - loss: 0.8909 - accuracy: 0.6188 - val_loss: 0.9262 - val_accuracy: 0.6087\n",
      "Epoch 50/50\n",
      "3915/3915 [==============================] - 86s 22ms/step - loss: 0.9375 - accuracy: 0.6007 - val_loss: 0.9623 - val_accuracy: 0.5980\n"
     ]
    }
   ],
   "source": [
    "from tensorflow.keras.losses import sparse_categorical_crossentropy\n",
    "SEQUENCE_MAXLEN = 60\n",
    "model = keras.Sequential()\n",
    "model.add(layers.Input(shape=(SEQUENCE_MAXLEN, )))\n",
    "model.add(emb)\n",
    "model.add(keras.layers.LSTM(128, dropout=0.5))\n",
    "#model.add(Dropout(0.50))\n",
    "model.add(keras.layers.Dense(5, activation='softmax'))\n",
    "#opt = tf.keras.optimizers.SGD(learning_rate=.1, momentum=.5)\n",
    "#opt = tf.keras.optimizers.Adamax(learning_rate=0.01, beta_1=.9, beta_2=.9, epsilon=1e-07, name=\"Adamax\")\n",
    "#model.compile(optimizer=opt, loss=categorical_crossentropy, metrics=['acc', 'mae'])\n",
    "opt=\"adam\"\n",
    "model.compile(optimizer=opt,loss=sparse_categorical_crossentropy, metrics=[\"accuracy\"])\n",
    "history = model.fit(\n",
    "    x= x_train, y=y_train, batch_size=16, epochs=50, validation_data=(x_val, y_val))\n"
   ]
  },
  {
   "cell_type": "code",
   "execution_count": 28,
   "metadata": {},
   "outputs": [
    {
     "name": "stdout",
     "output_type": "stream",
     "text": [
      "adam\n"
     ]
    }
   ],
   "source": [
    "print(opt)"
   ]
  },
  {
   "cell_type": "code",
   "execution_count": 29,
   "metadata": {},
   "outputs": [
    {
     "data": {
      "image/png": "[encoded data removed]",
      "text/plain": [
       "<Figure size 432x288 with 1 Axes>"
      ]
     },
     "metadata": {},
     "output_type": "display_data"
    }
   ],
   "source": [
    "plt.title('Loss')\n",
    "plt.xlabel('epochs')\n",
    "plt.ylabel('Loss')\n",
    "plt.plot(history.history['loss'], label='train')\n",
    "plt.plot(history.history['val_loss'], label='valid')\n",
    "plt.legend()\n",
    "plt.show();"
   ]
  },
  {
   "cell_type": "code",
   "execution_count": 30,
   "metadata": {},
   "outputs": [
    {
     "data": {
      "image/png": "[encoded data removed]",
      "text/plain": [
       "<Figure size 432x288 with 1 Axes>"
      ]
     },
     "metadata": {},
     "output_type": "display_data"
    }
   ],
   "source": [
    "plt.title('Accuracy')\n",
    "plt.xlabel('epochs')\n",
    "plt.ylabel('accuracy')\n",
    "plt.plot(history.history['accuracy'], label='train')\n",
    "plt.plot(history.history['val_accuracy'], label='valid')\n",
    "plt.legend()\n",
    "plt.show();"
   ]
  },
  {
   "cell_type": "code",
   "execution_count": null,
   "metadata": {},
   "outputs": [],
   "source": []
  },
  {
   "cell_type": "code",
   "execution_count": null,
   "metadata": {},
   "outputs": [],
   "source": []
  }
 ],
 "metadata": {
  "kernelspec": {
   "display_name": "Python 3",
   "language": "python",
   "name": "python3"
  },
  "language_info": {
   "codemirror_mode": {
    "name": "ipython",
    "version": 3
   },
   "file_extension": ".py",
   "mimetype": "text/x-python",
   "name": "python",
   "nbconvert_exporter": "python",
   "pygments_lexer": "ipython3",
   "version": "3.8.5"
  }
 },
 "nbformat": 4,
 "nbformat_minor": 4
}
