{
 "cells": [
  {
   "cell_type": "code",
   "execution_count": 65,
   "metadata": {},
   "outputs": [
    {
     "name": "stderr",
     "output_type": "stream",
     "text": [
      "[nltk_data] Downloading package stopwords to\n",
      "[nltk_data]     /home/augusto/nltk_data...\n",
      "[nltk_data]   Package stopwords is already up-to-date!\n"
     ]
    }
   ],
   "source": [
    "import tensorflow as tf\n",
    "from tensorflow import keras\n",
    "import numpy as np\n",
    "import pandas as pd\n",
    "import matplotlib.pyplot as plt\n",
    "from sklearn.model_selection import train_test_split\n",
    "from tensorflow.keras.layers.experimental.preprocessing import TextVectorization\n",
    "import nltk\n",
    "nltk.download('stopwords')\n",
    "stop_words = nltk.corpus.stopwords.words('portuguese')\n",
    "from nltk.stem import SnowballStemmer\n",
    "stemmer = SnowballStemmer('portuguese')\n",
    "import re\n",
    "from unidecode import unidecode\n",
    "from keras.regularizers import l2"
   ]
  },
  {
   "cell_type": "markdown",
   "metadata": {},
   "source": [
    "## Pipeline "
   ]
  },
  {
   "cell_type": "code",
   "execution_count": 66,
   "metadata": {},
   "outputs": [
    {
     "name": "stdout",
     "output_type": "stream",
     "text": [
      "<bound method NDFrame.head of         overall_rating                                        review_text\n",
      "0                    4  Estou contente com a compra entrega rápida o ú...\n",
      "1                    4  Por apenas R$1994.20,eu consegui comprar esse ...\n",
      "2                    4  SUPERA EM AGILIDADE E PRATICIDADE OUTRAS PANEL...\n",
      "3                    4  MEU FILHO AMOU! PARECE DE VERDADE COM TANTOS D...\n",
      "4                    5  A entrega foi no prazo, as americanas estão de...\n",
      "...                ...                                                ...\n",
      "132368               5  Vale muito, estou usando no controle do Xbox e...\n",
      "132369               5  Prático e barato, super indico o produto para ...\n",
      "132370               4  Chegou antes do prazo previsto e corresponde a...\n",
      "132371               1  Material fraco, poderia ser melhor. Ficou deve...\n",
      "132372               1  Comprei esse produto, quando chegou estava com...\n",
      "\n",
      "[132373 rows x 2 columns]>\n"
     ]
    }
   ],
   "source": [
    "# Base original da B2W, sem cortes + clean de overall_rating\n",
    "b2wCorpus = pd.read_csv(\"B2W-Reviews01.csv\",\";\",usecols=['review_text','overall_rating'])\n",
    "\n",
    "# Filtro\n",
    "d = b2wCorpus.index[b2wCorpus[\"overall_rating\"] < 1].tolist()\n",
    "b2wCorpus=b2wCorpus.drop(b2wCorpus.index[d])\n",
    "d = b2wCorpus.index[b2wCorpus[\"overall_rating\"] > 5].tolist()\n",
    "b2wCorpus=b2wCorpus.drop(b2wCorpus.index[d])\n",
    "\n",
    "print(b2wCorpus.head)"
   ]
  },
  {
   "cell_type": "code",
   "execution_count": 67,
   "metadata": {},
   "outputs": [],
   "source": [
    "# Cleanning function\n",
    "text_cleaning_re = \"@\\S+|https?:\\S+|http?:\\S|[^A-Za-z0-9]+\"\n",
    "def preprocess(text, stem=False):\n",
    "  text = unidecode(text)\n",
    "  text = re.sub(text_cleaning_re, ' ', str(text).lower()).strip()\n",
    "  text = re.sub(\"\\d+\", \"\", text)\n",
    "  text = re.sub(r'(?:^| )\\w(?:$| )', ' ', text).strip()\n",
    "  tokens = []\n",
    "  for token in text.split():\n",
    "    if token not in stop_words:\n",
    "      if stem:\n",
    "        tokens.append(stemmer.stem(token))\n",
    "      else:\n",
    "        tokens.append(token)\n",
    "  return \" \".join(tokens)"
   ]
  },
  {
   "cell_type": "code",
   "execution_count": 68,
   "metadata": {},
   "outputs": [],
   "source": [
    "# Cleanning exec\n",
    "b2wCorpus.review_text = b2wCorpus.review_text.apply(lambda x: preprocess(x))"
   ]
  },
  {
   "cell_type": "code",
   "execution_count": 69,
   "metadata": {},
   "outputs": [
    {
     "name": "stdout",
     "output_type": "stream",
     "text": [
      "<bound method NDFrame.head of         overall_rating                                        review_text\n",
      "0                    4  contente compra entrega rapida unico problema ...\n",
      "1                    4        apenas consegui comprar lindo copo acrilico\n",
      "2                    4  supera agilidade praticidade outras panelas el...\n",
      "3                    4          filho amou parece verdade tantos detalhes\n",
      "4                    5  entrega prazo americanas estao parabens smart ...\n",
      "...                ...                                                ...\n",
      "132368               5  vale usando controle xbox durou semana carga p...\n",
      "132369               5  pratico barato super indico produto corre dia ...\n",
      "132370               4    chegou antes prazo previsto corresponde anuncio\n",
      "132371               1  material fraco poderia ser melhor ficou devend...\n",
      "132372               1  comprei produto chegou avaria devolvi ja vai f...\n",
      "\n",
      "[132373 rows x 2 columns]>\n"
     ]
    }
   ],
   "source": [
    "print(b2wCorpus.head)"
   ]
  },
  {
   "cell_type": "code",
   "execution_count": 70,
   "metadata": {},
   "outputs": [
    {
     "data": {
      "text/plain": [
       "1    27369\n",
       "2     8389\n",
       "3    16315\n",
       "4    32345\n",
       "5    47955\n",
       "Name: overall_rating, dtype: int64"
      ]
     },
     "execution_count": 70,
     "metadata": {},
     "output_type": "execute_result"
    }
   ],
   "source": [
    "b2wCorpus.overall_rating .value_counts().sort_index()"
   ]
  },
  {
   "cell_type": "code",
   "execution_count": 71,
   "metadata": {},
   "outputs": [
    {
     "data": {
      "image/png": "[encoded data removed]",
      "text/plain": [
       "<Figure size 432x288 with 1 Axes>"
      ]
     },
     "metadata": {},
     "output_type": "display_data"
    },
    {
     "name": "stdout",
     "output_type": "stream",
     "text": [
      "121281\n"
     ]
    }
   ],
   "source": [
    "# histograma de palavras x qtd de linhas\n",
    "Words = [len(linha.split()) for linha in b2wCorpus[\"review_text\"] if len(linha.split()) <=30 ]\n",
    "plt.style.use('ggplot')\n",
    "plt.hist(Words, bins=[0,10,15,20,25,30,35,40,45,50,55,60])\n",
    "plt.show()\n",
    "print(len(Words))"
   ]
  },
  {
   "cell_type": "code",
   "execution_count": 72,
   "metadata": {},
   "outputs": [
    {
     "name": "stdout",
     "output_type": "stream",
     "text": [
      "<bound method NDFrame.head of         overall_rating                                        review_text\n",
      "0                    4  gostei produto bonito pratico alem sofisticado...\n",
      "1                    5  produto funciona perfeitamente entrega rapida ...\n",
      "2                    4  entrega bem antes data prevista porem alguns c...\n",
      "3                    5  comprei medo nao chegar conforme anunciado che...\n",
      "4                    3  produto nao veio mostra site veio diferente co...\n",
      "...                ...                                                ...\n",
      "132368               1  atencao bateria drenada rapidamente dura maxim...\n",
      "132369               5  potente resistente gostei entregue dentro praz...\n",
      "132370               1  produto qualidade ruim devido pedi cancelament...\n",
      "132371               5                bem atendido agradeco atencao todos\n",
      "132372               5                      supriu totalmente necessidade\n",
      "\n",
      "[132373 rows x 2 columns]>\n"
     ]
    }
   ],
   "source": [
    "# Partilha\n",
    "b2wCorpus = b2wCorpus.sample(frac=1).reset_index(drop=True)\n",
    "print(b2wCorpus.head)"
   ]
  },
  {
   "cell_type": "code",
   "execution_count": 79,
   "metadata": {},
   "outputs": [],
   "source": [
    "# Função de split\n",
    "def train_validate_test_split(df, train_percent=.65, validate_percent=.1, seed=42):\n",
    "    np.random.seed(seed)\n",
    "    perm = np.random.permutation(df.index)\n",
    "    m = len(df.index)\n",
    "    train_end = int(train_percent * m)\n",
    "    validate_end = int(validate_percent * m) + train_end\n",
    "    train = df.iloc[perm[:train_end]]\n",
    "    validate = df.iloc[perm[train_end:validate_end]]\n",
    "    test = df.iloc[perm[validate_end:]]\n",
    "    return train, validate, test"
   ]
  },
  {
   "cell_type": "code",
   "execution_count": 80,
   "metadata": {},
   "outputs": [],
   "source": [
    "b2wCorpusTrain, b2wCorpusValidate, b2wCorpusTest = train_validate_test_split(b2wCorpus)"
   ]
  },
  {
   "cell_type": "code",
   "execution_count": 78,
   "metadata": {},
   "outputs": [
    {
     "data": {
      "text/plain": [
       "<bound method NDFrame.head of         overall_rating                                        review_text\n",
       "48791                5  entrega data estipulada bem embalado perfeitas...\n",
       "106119               3  gostei qualidade produto chegou rapido antes data\n",
       "20804                5  comprei zenfone cor dourado adorei ver dourado...\n",
       "15652                4  entrega dentro prazo produto excelente satisfe...\n",
       "53944                1  nao posso dizer nada ainda pois nao recebi agu...\n",
       "...                ...                                                ...\n",
       "93910                4  notebook pra uso domestico pra estudar bom ate...\n",
       "87085                5  ja cliente motorola sempre continuo surpreendendo\n",
       "128026               1  produto ainda nao entregue ser entregue semana...\n",
       "103515               5   otimo prazo entrega menos informava amei produto\n",
       "19623                4  potes sao lindos porem achei pequenos menor tr...\n",
       "\n",
       "[86042 rows x 2 columns]>"
      ]
     },
     "execution_count": 78,
     "metadata": {},
     "output_type": "execute_result"
    }
   ],
   "source": [
    "b2wCorpusTrain.head"
   ]
  },
  {
   "cell_type": "code",
   "execution_count": 81,
   "metadata": {},
   "outputs": [
    {
     "data": {
      "text/plain": [
       "<bound method NDFrame.head of         overall_rating                                        review_text\n",
       "32891                5        produto otimo unico problema demorou chegar\n",
       "100051               5  chegou rapido nao nenhum problema durante todo...\n",
       "17066                1  nao comprem mega page ficaram entregar dia cas...\n",
       "16711                2  infelizmente apos comprar maquina verifiquei s...\n",
       "108731               4  excelente produto valei pena compra satisfeita...\n",
       "...                ...                                                ...\n",
       "17538                1  produto lixo arrependido qualidade pessima vei...\n",
       "98328                5  maravilhoso surpreendeu expectativas chegou an...\n",
       "59850                5  carrinho simples oferece prometido proposta aj...\n",
       "80506                5        melhor ainda apreciar whisky gelo agua coco\n",
       "66911                4  otimo livro dei presente entao nao posso falar...\n",
       "\n",
       "[13237 rows x 2 columns]>"
      ]
     },
     "execution_count": 81,
     "metadata": {},
     "output_type": "execute_result"
    }
   ],
   "source": [
    "b2wCorpusValidate.head"
   ]
  },
  {
   "cell_type": "code",
   "execution_count": 82,
   "metadata": {},
   "outputs": [
    {
     "data": {
      "text/plain": [
       "<bound method NDFrame.head of         overall_rating                                        review_text\n",
       "110624               4             lindo confortavel comprei preto branco\n",
       "34055                5     livro bom ainda vem otimo conteudo atualizacao\n",
       "99032                5  produto bonito esposa gostou bastante so nao v...\n",
       "121621               5  excelente produto recomendaria todos design se...\n",
       "63428                3  vou comprar espero venha conforme foto rack na...\n",
       "...                ...                                                ...\n",
       "110268               1        nao funcionou nao recomendo produto ninguem\n",
       "119879               1  dois dias uso botoes pararam funcionar agua sa...\n",
       "103694               5  designe configuracoes j pro realmente excelent...\n",
       "131932               5               bom produto entrega rapida recomendo\n",
       "121958               1  boneca vendida nao estoque pessimo atendimento...\n",
       "\n",
       "[33094 rows x 2 columns]>"
      ]
     },
     "execution_count": 82,
     "metadata": {},
     "output_type": "execute_result"
    }
   ],
   "source": [
    "b2wCorpusTest.head"
   ]
  },
  {
   "cell_type": "code",
   "execution_count": 73,
   "metadata": {},
   "outputs": [
    {
     "name": "stdout",
     "output_type": "stream",
     "text": [
      "1    0.206757\n",
      "2    0.063374\n",
      "3    0.123250\n",
      "4    0.244347\n",
      "5    0.362272\n",
      "Name: overall_rating, dtype: float64\n",
      "42768\n"
     ]
    }
   ],
   "source": [
    "# Treino, Validação e teste\n",
    "\n",
    "x = b2wCorpus[['review_text']].values\n",
    "y = b2wCorpus[['overall_rating']].values\n",
    "\n",
    "print((b2wCorpus.overall_rating.value_counts()/ b2wCorpus.shape[0]).sort_index())\n",
    "\n",
    "RANDOM_SEED = 42\n",
    "np.random.seed(RANDOM_SEED)\n",
    "x_train, x_val, y_train, y_val = train_test_split(x, y, test_size=0.2, random_state=RANDOM_SEED)\n",
    "#Tokenizando\n",
    "vectorize_layer = TextVectorization(                                      \n",
    "                                        standardize='lower_and_strip_punctuation',\n",
    "                                        split='whitespace',\n",
    "                                        output_mode='int',\n",
    "                                        pad_to_max_tokens=False,\n",
    "                                        output_sequence_length=75\n",
    "                                        )\n",
    "\n",
    "vectorize_layer.adapt(x_train)\n",
    "vocab_size = len(vectorize_layer.get_vocabulary())\n",
    "print(vocab_size)"
   ]
  },
  {
   "cell_type": "code",
   "execution_count": 74,
   "metadata": {},
   "outputs": [
    {
     "data": {
      "image/png": "[encoded data removed]",
      "text/plain": [
       "<Figure size 432x288 with 1 Axes>"
      ]
     },
     "metadata": {},
     "output_type": "display_data"
    }
   ],
   "source": [
    "Labels = [(b2wCorpus.overall_rating.value_counts()/ b2wCorpus.shape[0]).sort_index() ]\n",
    "plt.style.use('ggplot')\n",
    "plt.hist(Labels, bins=[1,2,3,4,5])\n",
    "plt.show()"
   ]
  },
  {
   "cell_type": "code",
   "execution_count": null,
   "metadata": {},
   "outputs": [],
   "source": []
  }
 ],
 "metadata": {
  "kernelspec": {
   "display_name": "Python 3",
   "language": "python",
   "name": "python3"
  },
  "language_info": {
   "codemirror_mode": {
    "name": "ipython",
    "version": 3
   },
   "file_extension": ".py",
   "mimetype": "text/x-python",
   "name": "python",
   "nbconvert_exporter": "python",
   "pygments_lexer": "ipython3",
   "version": "3.8.5"
  }
 },
 "nbformat": 4,
 "nbformat_minor": 4
}
